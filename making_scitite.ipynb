{
 "cells": [
  {
   "cell_type": "code",
   "execution_count": 1,
   "id": "bd1aa1af-65c0-43f6-991a-a0eebe72c02b",
   "metadata": {},
   "outputs": [],
   "source": [
    "import json"
   ]
  },
  {
   "cell_type": "code",
   "execution_count": 2,
   "id": "2ada8e0e-5c72-458f-8bce-7c0bf9084afa",
   "metadata": {},
   "outputs": [],
   "source": [
    "file_path = \"raw_data_files/scicite\""
   ]
  },
  {
   "cell_type": "code",
   "execution_count": 3,
   "id": "dc64913e-7782-4d1f-8c58-4e14faf2622e",
   "metadata": {},
   "outputs": [
    {
     "name": "stdout",
     "output_type": "stream",
     "text": [
      "8243\n"
     ]
    }
   ],
   "source": [
    "\n",
    "\n",
    "with open(f'file_path/train.jsonl', 'r') as json_file:\n",
    "    json_list = list(json_file)\n",
    "\n",
    "print(len(json_list))\n",
    "for json_str in json_list:\n",
    "    result = json.loads(json_str)\n",
    "    "
   ]
  },
  {
   "cell_type": "code",
   "execution_count": 4,
   "id": "04e9d271-4c5c-48c3-9e65-02cb6e8f106f",
   "metadata": {},
   "outputs": [],
   "source": [
    "strings = []\n",
    "labels = []\n",
    "label_cons = []\n",
    "for item in json_list:\n",
    "    res = json.loads(item)\n",
    "    strings.append(res[\"string\"])\n",
    "    labels.append(res[\"label\"])"
   ]
  },
  {
   "cell_type": "code",
   "execution_count": 5,
   "id": "e4f6add4-20e6-4245-8809-7e2ccb0422aa",
   "metadata": {},
   "outputs": [],
   "source": [
    "dict1 = {\"strings\": strings, \"labels\":labels}"
   ]
  },
  {
   "cell_type": "code",
   "execution_count": 6,
   "id": "793d484e-8ea3-46c8-9b73-bf1887d0cbbe",
   "metadata": {},
   "outputs": [],
   "source": [
    "import pandas as pd"
   ]
  },
  {
   "cell_type": "code",
   "execution_count": 7,
   "id": "e49d2662-ca75-496e-bce6-31caf5e90883",
   "metadata": {},
   "outputs": [],
   "source": [
    "df = pd.DataFrame(dict1)"
   ]
  },
  {
   "cell_type": "code",
   "execution_count": 11,
   "id": "89ae6b93-795b-4475-b431-d5ab85feceba",
   "metadata": {},
   "outputs": [],
   "source": [
    "from collections import Counter"
   ]
  },
  {
   "cell_type": "code",
   "execution_count": 20,
   "id": "4e426234-66e0-428b-90d4-1bdfa37b9bb0",
   "metadata": {},
   "outputs": [],
   "source": [
    "d1 = dict(Counter(\"\".join(strings)))\n",
    "\n",
    "d2  = {k: v for k, v in sorted(d1.items(), key=lambda item: item[1],reverse = True)}"
   ]
  },
  {
   "cell_type": "code",
   "execution_count": 23,
   "id": "bfa10d14-72a0-47cb-90cd-ee5f1b5879d9",
   "metadata": {},
   "outputs": [],
   "source": [
    "bad_list = [key for key in d2 if d2[key] < 50]"
   ]
  },
  {
   "cell_type": "code",
   "execution_count": 24,
   "id": "62e4fe15-f236-46ee-a1bd-bcf1b2a15eb4",
   "metadata": {},
   "outputs": [],
   "source": [
    "string = \"hi\""
   ]
  },
  {
   "cell_type": "code",
   "execution_count": 27,
   "id": "7e2e05ba-2072-4472-8b90-723d1522c9ac",
   "metadata": {},
   "outputs": [],
   "source": [
    "for item in strings:\n",
    "    for b in bad_list:\n",
    "        item = item.replace(b,\"\")"
   ]
  },
  {
   "cell_type": "code",
   "execution_count": 39,
   "id": "984b83f9-b532-42d8-8bb5-15e36b350cea",
   "metadata": {},
   "outputs": [],
   "source": [
    "def remove_bad(s):\n",
    "    for i in bad_list:\n",
    "        s = s.replace(i,\"\")\n",
    "    return s"
   ]
  },
  {
   "cell_type": "code",
   "execution_count": 40,
   "id": "1910941b-cc6b-4eee-9a28-cb9f943a16c9",
   "metadata": {},
   "outputs": [],
   "source": [
    "dict1 = {\"strings\": strings, \"labels\":labels}\n",
    "df = pd.DataFrame(dict1)\n",
    "df[\"strings\"] = df[\"strings\"].apply(remove_bad)"
   ]
  },
  {
   "cell_type": "code",
   "execution_count": 41,
   "id": "dc22901a-f5bd-403a-b17a-b58c92302050",
   "metadata": {},
   "outputs": [
    {
     "data": {
      "text/plain": [
       "Counter({'H': 2604,\n",
       "         'o': 94579,\n",
       "         'w': 14620,\n",
       "         'e': 164785,\n",
       "         'v': 15164,\n",
       "         'r': 84168,\n",
       "         ',': 22745,\n",
       "         ' ': 270695,\n",
       "         'h': 46986,\n",
       "         'f': 26985,\n",
       "         'a': 114780,\n",
       "         't': 116932,\n",
       "         'x': 4262,\n",
       "         'i': 106493,\n",
       "         'n': 100062,\n",
       "         'c': 48828,\n",
       "         's': 88145,\n",
       "         'F': 2640,\n",
       "         '-': 6162,\n",
       "         'S': 5478,\n",
       "         'l': 62403,\n",
       "         'u': 36448,\n",
       "         'b': 17616,\n",
       "         'y': 19522,\n",
       "         'm': 32886,\n",
       "         'p': 31264,\n",
       "         'd': 51636,\n",
       "         '(': 10451,\n",
       "         'I': 3216,\n",
       "         '[': 4491,\n",
       "         '1': 14169,\n",
       "         '2': 14740,\n",
       "         ']': 4473,\n",
       "         'U': 694,\n",
       "         '/': 839,\n",
       "         '6': 3115,\n",
       "         'D': 3139,\n",
       "         '4': 3882,\n",
       "         '5': 3830,\n",
       "         ')': 10429,\n",
       "         '.': 17123,\n",
       "         'k': 5513,\n",
       "         '0': 18430,\n",
       "         'g': 24233,\n",
       "         '\\n': 1059,\n",
       "         ':': 613,\n",
       "         '3': 4737,\n",
       "         'C': 5002,\n",
       "         'T': 5116,\n",
       "         '%': 430,\n",
       "         '7': 3093,\n",
       "         'z': 2496,\n",
       "         'B': 2885,\n",
       "         'K': 1618,\n",
       "         '9': 8166,\n",
       "         '8': 3440,\n",
       "         ';': 5719,\n",
       "         'V': 1265,\n",
       "         'A': 5455,\n",
       "         '&': 536,\n",
       "         'M': 3980,\n",
       "         'O': 1757,\n",
       "         '–': 535,\n",
       "         'R': 3351,\n",
       "         'W': 1543,\n",
       "         'G': 2535,\n",
       "         'q': 1643,\n",
       "         '…': 961,\n",
       "         '’': 422,\n",
       "         'L': 2642,\n",
       "         'N': 2495,\n",
       "         'E': 2110,\n",
       "         'Y': 465,\n",
       "         'P': 4111,\n",
       "         'j': 930,\n",
       "         'X': 300,\n",
       "         'J': 486,\n",
       "         'Z': 397,\n",
       "         'Q': 270,\n",
       "         'ö': 52,\n",
       "         '‚': 238,\n",
       "         'Ä': 224,\n",
       "         'ô': 57,\n",
       "         '=': 220,\n",
       "         '¶': 58,\n",
       "         'α': 66,\n",
       "         '‘': 148,\n",
       "         '”': 98,\n",
       "         'ì': 60,\n",
       "         '√': 71,\n",
       "         '+': 114,\n",
       "         \"'\": 57,\n",
       "         '“': 97,\n",
       "         '_': 126,\n",
       "         '́': 57})"
      ]
     },
     "execution_count": 41,
     "metadata": {},
     "output_type": "execute_result"
    }
   ],
   "source": [
    "Counter(\"\".join(df[\"strings\"].tolist()))"
   ]
  },
  {
   "cell_type": "code",
   "execution_count": 42,
   "id": "9883775e-133e-407e-a02e-d72fe5fea16d",
   "metadata": {},
   "outputs": [],
   "source": [
    "df.to_excel(\"unlabelled_datasets/scicite_train.xlsx\")"
   ]
  },
  {
   "cell_type": "code",
   "execution_count": null,
   "id": "b76833d3-fbce-4bd5-934c-dba527ce487d",
   "metadata": {},
   "outputs": [],
   "source": []
  }
 ],
 "metadata": {
  "kernelspec": {
   "display_name": "Python 3 (ipykernel)",
   "language": "python",
   "name": "python3"
  },
  "language_info": {
   "codemirror_mode": {
    "name": "ipython",
    "version": 3
   },
   "file_extension": ".py",
   "mimetype": "text/x-python",
   "name": "python",
   "nbconvert_exporter": "python",
   "pygments_lexer": "ipython3",
   "version": "3.9.10"
  }
 },
 "nbformat": 4,
 "nbformat_minor": 5
}
