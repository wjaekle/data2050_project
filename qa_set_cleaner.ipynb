{
 "cells": [
  {
   "cell_type": "code",
   "execution_count": 44,
   "id": "48b9f029-169e-4df4-b18c-15b0f0ea5989",
   "metadata": {},
   "outputs": [
    {
     "name": "stdout",
     "output_type": "stream",
     "text": [
      "/Users/willjaekle/Desktop/workspace/Brown/Data2050/Src\n"
     ]
    }
   ],
   "source": [
    "import numpy as np\n",
    "import os\n",
    "import pandas as pd\n",
    "import re\n",
    "from collections import Counter\n",
    "print(os.getcwd())"
   ]
  },
  {
   "cell_type": "code",
   "execution_count": 17,
   "id": "54dbcd28-82b8-4244-aefc-046835c1328b",
   "metadata": {},
   "outputs": [],
   "source": [
    "project_path = \"~/Desktop/workspace/brown/data2050\""
   ]
  },
  {
   "cell_type": "code",
   "execution_count": 2,
   "id": "bb4bbbd6-ea06-4a4f-b878-ca30b6067c41",
   "metadata": {},
   "outputs": [],
   "source": [
    "file_path = \"../Data/raw/QA/QA1.txt\""
   ]
  },
  {
   "cell_type": "code",
   "execution_count": null,
   "id": "5fadfcd2-434f-4290-9182-1667c4b44470",
   "metadata": {},
   "outputs": [],
   "source": []
  },
  {
   "cell_type": "code",
   "execution_count": 30,
   "id": "fefbcc6f-5ade-4ec9-8091-5c2705960467",
   "metadata": {},
   "outputs": [],
   "source": [
    "with open(\"../Data/raw/QA/QA1.txt\") as f:\n",
    "    var = f.read()\n",
    "dicts = []\n",
    "for chunk in var.split(\"\\n------------------------------\\n\"):\n",
    "    c = chunk.split(\"\\n\")\n",
    "    q = c[0].replace(\"Question:\",\"\").replace(\"<p>\",\"\")\n",
    "    a = c[1].replace(\"Answer:\",\"\").replace(\"<p>\",\"\")\n",
    "    q = \" \".join([re.sub(r'\\W+', '', string) for string in q.split(\" \")])\n",
    "    a = \" \".join([re.sub(r'\\W+', '', string) for string in a.split(\" \")])\n",
    "    \n",
    "    dicts.append({ \"Question\":q,\"Answer\":a})\n",
    "df1 = pd.DataFrame(dicts)"
   ]
  },
  {
   "cell_type": "code",
   "execution_count": 31,
   "id": "c587cbb8-1a86-455d-a4e1-21e95bc29df7",
   "metadata": {},
   "outputs": [],
   "source": [
    "with open(\"../Data/raw/QA/QA2.txt\") as f:\n",
    "    var = f.read()\n",
    "dicts = []\n",
    "for chunk in var.split(\"\\n------------------------------\\n\"):\n",
    "    c = chunk.split(\"\\n\")\n",
    "    q = c[0].replace(\"Question:\",\"\").replace(\"<p>\",\"\")\n",
    "    a = c[1].replace(\"Answer:\",\"\").replace(\"<p>\",\"\")\n",
    "    q = \" \".join([re.sub(r'\\W+', '', string) for string in q.split(\" \")])\n",
    "    a = \" \".join([re.sub(r'\\W+', '', string) for string in a.split(\" \")])\n",
    "    \n",
    "    dicts.append({ \"Question\":q,\"Answer\":a})\n",
    "df2 = pd.DataFrame(dicts)\n"
   ]
  },
  {
   "cell_type": "code",
   "execution_count": 46,
   "id": "c833eb36-d9ba-4831-98e4-a17a592a8177",
   "metadata": {},
   "outputs": [
    {
     "data": {
      "text/html": [
       "<div>\n",
       "<style scoped>\n",
       "    .dataframe tbody tr th:only-of-type {\n",
       "        vertical-align: middle;\n",
       "    }\n",
       "\n",
       "    .dataframe tbody tr th {\n",
       "        vertical-align: top;\n",
       "    }\n",
       "\n",
       "    .dataframe thead th {\n",
       "        text-align: right;\n",
       "    }\n",
       "</style>\n",
       "<table border=\"1\" class=\"dataframe\">\n",
       "  <thead>\n",
       "    <tr style=\"text-align: right;\">\n",
       "      <th></th>\n",
       "      <th>Question</th>\n",
       "      <th>Answer</th>\n",
       "    </tr>\n",
       "  </thead>\n",
       "  <tbody>\n",
       "    <tr>\n",
       "      <th>0</th>\n",
       "      <td>Who created KnowHowAngels</td>\n",
       "      <td>KnowhowAngelscom was created and is owned and...</td>\n",
       "    </tr>\n",
       "    <tr>\n",
       "      <th>1</th>\n",
       "      <td>who owns KnowHow Angels</td>\n",
       "      <td>KnowhowAngelscom was created and is owned and...</td>\n",
       "    </tr>\n",
       "    <tr>\n",
       "      <th>2</th>\n",
       "      <td>what is the relation between Docunexus and Kn...</td>\n",
       "      <td>KnowhowAngelscom was created and is owned and...</td>\n",
       "    </tr>\n",
       "    <tr>\n",
       "      <th>3</th>\n",
       "      <td>How much does it cost for angels experts</td>\n",
       "      <td>KnowHowAngels will always be free for experts...</td>\n",
       "    </tr>\n",
       "    <tr>\n",
       "      <th>4</th>\n",
       "      <td>How much does it cost for users</td>\n",
       "      <td>It doesnt cost nonangel users anything to reg...</td>\n",
       "    </tr>\n",
       "    <tr>\n",
       "      <th>...</th>\n",
       "      <td>...</td>\n",
       "      <td>...</td>\n",
       "    </tr>\n",
       "    <tr>\n",
       "      <th>679</th>\n",
       "      <td>What does the Laffer curve show</td>\n",
       "      <td>The Laffer Curve shows the relative rates of ...</td>\n",
       "    </tr>\n",
       "    <tr>\n",
       "      <th>680</th>\n",
       "      <td>What is the J curve in economics</td>\n",
       "      <td>A J curve is any of a variety of Jshaped diag...</td>\n",
       "    </tr>\n",
       "    <tr>\n",
       "      <th>681</th>\n",
       "      <td>What is the Gini coefficient</td>\n",
       "      <td>The Gini index or Gini coefficient is a measu...</td>\n",
       "    </tr>\n",
       "    <tr>\n",
       "      <th>682</th>\n",
       "      <td>What is purchasing power parity</td>\n",
       "      <td>Purchasing power parities PPPs are the rates ...</td>\n",
       "    </tr>\n",
       "    <tr>\n",
       "      <th>683</th>\n",
       "      <td>What is sterilization in economics</td>\n",
       "      <td>The term sterilization is used in internation...</td>\n",
       "    </tr>\n",
       "  </tbody>\n",
       "</table>\n",
       "<p>684 rows × 2 columns</p>\n",
       "</div>"
      ],
      "text/plain": [
       "                                              Question  \\\n",
       "0                            Who created KnowHowAngels   \n",
       "1                              who owns KnowHow Angels   \n",
       "2     what is the relation between Docunexus and Kn...   \n",
       "3             How much does it cost for angels experts   \n",
       "4                      How much does it cost for users   \n",
       "..                                                 ...   \n",
       "679                    What does the Laffer curve show   \n",
       "680                   What is the J curve in economics   \n",
       "681                       What is the Gini coefficient   \n",
       "682                    What is purchasing power parity   \n",
       "683                 What is sterilization in economics   \n",
       "\n",
       "                                                Answer  \n",
       "0     KnowhowAngelscom was created and is owned and...  \n",
       "1     KnowhowAngelscom was created and is owned and...  \n",
       "2     KnowhowAngelscom was created and is owned and...  \n",
       "3     KnowHowAngels will always be free for experts...  \n",
       "4     It doesnt cost nonangel users anything to reg...  \n",
       "..                                                 ...  \n",
       "679   The Laffer Curve shows the relative rates of ...  \n",
       "680   A J curve is any of a variety of Jshaped diag...  \n",
       "681   The Gini index or Gini coefficient is a measu...  \n",
       "682   Purchasing power parities PPPs are the rates ...  \n",
       "683   The term sterilization is used in internation...  \n",
       "\n",
       "[684 rows x 2 columns]"
      ]
     },
     "execution_count": 46,
     "metadata": {},
     "output_type": "execute_result"
    }
   ],
   "source": [
    "df1"
   ]
  },
  {
   "cell_type": "code",
   "execution_count": 33,
   "id": "eb561c2b-3d08-4c80-b340-58120e8e087e",
   "metadata": {},
   "outputs": [
    {
     "data": {
      "text/html": [
       "<div>\n",
       "<style scoped>\n",
       "    .dataframe tbody tr th:only-of-type {\n",
       "        vertical-align: middle;\n",
       "    }\n",
       "\n",
       "    .dataframe tbody tr th {\n",
       "        vertical-align: top;\n",
       "    }\n",
       "\n",
       "    .dataframe thead th {\n",
       "        text-align: right;\n",
       "    }\n",
       "</style>\n",
       "<table border=\"1\" class=\"dataframe\">\n",
       "  <thead>\n",
       "    <tr style=\"text-align: right;\">\n",
       "      <th></th>\n",
       "      <th>Question</th>\n",
       "      <th>Answer</th>\n",
       "    </tr>\n",
       "  </thead>\n",
       "  <tbody>\n",
       "    <tr>\n",
       "      <th>0</th>\n",
       "      <td>Tools for social media managers</td>\n",
       "      <td>Social media management tools are for contro...</td>\n",
       "    </tr>\n",
       "    <tr>\n",
       "      <th>1</th>\n",
       "      <td>Why was the Tet offensive launched</td>\n",
       "      <td>The Tet Offensive was one of the largestmili...</td>\n",
       "    </tr>\n",
       "    <tr>\n",
       "      <th>2</th>\n",
       "      <td>how did the antiwar movement in the US react ...</td>\n",
       "      <td>The events of Tet in early 1968 as a whole w...</td>\n",
       "    </tr>\n",
       "    <tr>\n",
       "      <th>3</th>\n",
       "      <td>how dangerous is the omicron mutation of coro...</td>\n",
       "      <td>Chan School of Public Health and other resea...</td>\n",
       "    </tr>\n",
       "    <tr>\n",
       "      <th>4</th>\n",
       "      <td>ethics of automated content creation</td>\n",
       "      <td>The technological advances ó in engineering ...</td>\n",
       "    </tr>\n",
       "    <tr>\n",
       "      <th>...</th>\n",
       "      <td>...</td>\n",
       "      <td>...</td>\n",
       "    </tr>\n",
       "    <tr>\n",
       "      <th>239</th>\n",
       "      <td>example of data wrangling</td>\n",
       "      <td>Other commonly used examples of data wranglin...</td>\n",
       "    </tr>\n",
       "    <tr>\n",
       "      <th>240</th>\n",
       "      <td>Examples of misinformation in fitness supplem...</td>\n",
       "      <td>Rachel Scheer is a Certified Nutritionist wh...</td>\n",
       "    </tr>\n",
       "    <tr>\n",
       "      <th>241</th>\n",
       "      <td>misinformation in fitness supplements</td>\n",
       "      <td>Misinformation Dr Mary Flynn chief specialis...</td>\n",
       "    </tr>\n",
       "    <tr>\n",
       "      <th>242</th>\n",
       "      <td>Hydroflask</td>\n",
       "      <td>Hydro Flask is a water bottle brand owned by...</td>\n",
       "    </tr>\n",
       "    <tr>\n",
       "      <th>243</th>\n",
       "      <td>Calories burned in cardio sample research</td>\n",
       "      <td>According to a study by the American Council...</td>\n",
       "    </tr>\n",
       "  </tbody>\n",
       "</table>\n",
       "<p>244 rows × 2 columns</p>\n",
       "</div>"
      ],
      "text/plain": [
       "                                              Question  \\\n",
       "0                      Tools for social media managers   \n",
       "1                   Why was the Tet offensive launched   \n",
       "2     how did the antiwar movement in the US react ...   \n",
       "3     how dangerous is the omicron mutation of coro...   \n",
       "4                 ethics of automated content creation   \n",
       "..                                                 ...   \n",
       "239                          example of data wrangling   \n",
       "240   Examples of misinformation in fitness supplem...   \n",
       "241              misinformation in fitness supplements   \n",
       "242                                         Hydroflask   \n",
       "243          Calories burned in cardio sample research   \n",
       "\n",
       "                                                Answer  \n",
       "0      Social media management tools are for contro...  \n",
       "1      The Tet Offensive was one of the largestmili...  \n",
       "2      The events of Tet in early 1968 as a whole w...  \n",
       "3      Chan School of Public Health and other resea...  \n",
       "4      The technological advances ó in engineering ...  \n",
       "..                                                 ...  \n",
       "239   Other commonly used examples of data wranglin...  \n",
       "240    Rachel Scheer is a Certified Nutritionist wh...  \n",
       "241    Misinformation Dr Mary Flynn chief specialis...  \n",
       "242    Hydro Flask is a water bottle brand owned by...  \n",
       "243    According to a study by the American Council...  \n",
       "\n",
       "[244 rows x 2 columns]"
      ]
     },
     "execution_count": 33,
     "metadata": {},
     "output_type": "execute_result"
    }
   ],
   "source": [
    "df2"
   ]
  },
  {
   "cell_type": "code",
   "execution_count": 37,
   "id": "a2db5a99-5f5f-4a26-9177-bf3929a197e9",
   "metadata": {},
   "outputs": [
    {
     "name": "stdout",
     "output_type": "stream",
     "text": [
      "Counter({'e': 54884, 't': 43024, 'a': 38501, 'n': 35477, 'i': 35003, 's': 34365, 'o': 34328, 'r': 30233, 'l': 19128, 'c': 18063, 'h': 17140, 'd': 15626, 'p': 14776, 'u': 13671, 'm': 12026, 'f': 10184, 'g': 9927, 'b': 6753, 'y': 6688, 'w': 6624, 'v': 4800, 'k': 2713, 'q': 1795, 'x': 1478, '1': 822, '8': 682, '0': 661, '2': 611, 'z': 604, 'j': 566, '6': 520, '3': 517, '5': 469, '7': 414, '4': 404, '9': 352, '_': 132, 'í': 124, 'ì': 42, 'î': 41, 'ñ': 26, 'ó': 22, 'ë': 14, 'ö': 3, 'ï': 2, 'ô': 1, 'è': 1})\n",
      "\n",
      "\n",
      "\n",
      "Counter({'e': 22830, 't': 17143, 'a': 16244, 'i': 15333, 'n': 14599, 'o': 14257, 's': 13271, 'r': 12352, 'h': 7956, 'c': 7878, 'l': 7570, 'd': 6643, 'u': 5233, 'm': 4975, 'p': 4645, 'f': 4092, 'g': 3712, 'y': 3254, 'w': 2808, 'b': 2755, 'v': 2023, 'k': 1324, 'x': 514, '0': 439, 'q': 426, '1': 356, '2': 328, 'í': 236, 'z': 232, 'j': 225, '9': 139, '3': 129, '5': 115, 'ì': 84, '4': 82, 'î': 75, '7': 71, '8': 68, '6': 67, 'ñ': 59, 'ó': 41, 'ë': 41, '_': 26, 'û': 5, 'è': 3, 'á': 2, 'ı': 2, 'ö': 2, 'ù': 1, 'ω': 1})\n"
     ]
    }
   ],
   "source": [
    "with open(\"../Data/raw/QA/QA1.txt\") as f:\n",
    "    var = f.read()\n",
    "    print(Counter(re.sub(r'\\W+', '',var.lower())))\n",
    "print(\"\\n\\n\")\n",
    "with open(\"../Data/raw/QA/QA2.txt\") as f:\n",
    "    var = f.read()\n",
    "    print(Counter(re.sub(r'\\W+', '',var.lower())))"
   ]
  },
  {
   "cell_type": "code",
   "execution_count": 45,
   "id": "c0d5ea44-2e29-4748-b148-8e4349df47d6",
   "metadata": {},
   "outputs": [],
   "source": [
    "df1.to_csv(\"../data/processed/cleanedQA1.csv\")\n",
    "df2.to_csv(\"../data/processed/cleanedQA2.csv\")"
   ]
  },
  {
   "cell_type": "code",
   "execution_count": null,
   "id": "463a923b-e339-4b94-8e1e-365f25138cee",
   "metadata": {},
   "outputs": [],
   "source": []
  }
 ],
 "metadata": {
  "kernelspec": {
   "display_name": "Python 3 (ipykernel)",
   "language": "python",
   "name": "python3"
  },
  "language_info": {
   "codemirror_mode": {
    "name": "ipython",
    "version": 3
   },
   "file_extension": ".py",
   "mimetype": "text/x-python",
   "name": "python",
   "nbconvert_exporter": "python",
   "pygments_lexer": "ipython3",
   "version": "3.9.12"
  }
 },
 "nbformat": 4,
 "nbformat_minor": 5
}
