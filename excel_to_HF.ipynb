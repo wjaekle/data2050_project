{
 "cells": [
  {
   "cell_type": "code",
   "execution_count": 81,
   "id": "30282225-9a61-470f-bcbd-db06065449e5",
   "metadata": {},
   "outputs": [],
   "source": [
    "import numpy as np\n",
    "import pandas as pd\n",
    "from datasets import Dataset"
   ]
  },
  {
   "cell_type": "code",
   "execution_count": 70,
   "id": "b6e556d1-e08d-49e5-94cf-ffd35cc47d89",
   "metadata": {},
   "outputs": [],
   "source": [
    "path = \"datasets\""
   ]
  },
  {
   "cell_type": "code",
   "execution_count": 71,
   "id": "62bb4009-7bb8-45cc-bc12-500426bd07db",
   "metadata": {},
   "outputs": [
    {
     "data": {
      "text/html": [
       "<div>\n",
       "<style scoped>\n",
       "    .dataframe tbody tr th:only-of-type {\n",
       "        vertical-align: middle;\n",
       "    }\n",
       "\n",
       "    .dataframe tbody tr th {\n",
       "        vertical-align: top;\n",
       "    }\n",
       "\n",
       "    .dataframe thead th {\n",
       "        text-align: right;\n",
       "    }\n",
       "</style>\n",
       "<table border=\"1\" class=\"dataframe\">\n",
       "  <thead>\n",
       "    <tr style=\"text-align: right;\">\n",
       "      <th></th>\n",
       "      <th>text</th>\n",
       "      <th>label</th>\n",
       "    </tr>\n",
       "  </thead>\n",
       "  <tbody>\n",
       "    <tr>\n",
       "      <th>0</th>\n",
       "      <td>Most apples are a little sweet and a little ta...</td>\n",
       "      <td>A description and explanation of how apples taste</td>\n",
       "    </tr>\n",
       "    <tr>\n",
       "      <th>1</th>\n",
       "      <td>Apples rank among the world's most popular fru...</td>\n",
       "      <td>a summary of different uses for apples</td>\n",
       "    </tr>\n",
       "    <tr>\n",
       "      <th>2</th>\n",
       "      <td>As white light passes through our atmosphere, ...</td>\n",
       "      <td>explanation of why the sky is blue</td>\n",
       "    </tr>\n",
       "    <tr>\n",
       "      <th>3</th>\n",
       "      <td>In other words, the color of the ocean and the...</td>\n",
       "      <td>a distinction between why the ocean is blue an...</td>\n",
       "    </tr>\n",
       "    <tr>\n",
       "      <th>4</th>\n",
       "      <td>Color of Sunlight as seen on Earth's surface d...</td>\n",
       "      <td>explanation of why the sun is yellow</td>\n",
       "    </tr>\n",
       "  </tbody>\n",
       "</table>\n",
       "</div>"
      ],
      "text/plain": [
       "                                                text  \\\n",
       "0  Most apples are a little sweet and a little ta...   \n",
       "1  Apples rank among the world's most popular fru...   \n",
       "2  As white light passes through our atmosphere, ...   \n",
       "3  In other words, the color of the ocean and the...   \n",
       "4  Color of Sunlight as seen on Earth's surface d...   \n",
       "\n",
       "                                               label  \n",
       "0  A description and explanation of how apples taste  \n",
       "1             a summary of different uses for apples  \n",
       "2                 explanation of why the sky is blue  \n",
       "3  a distinction between why the ocean is blue an...  \n",
       "4               explanation of why the sun is yellow  "
      ]
     },
     "execution_count": 71,
     "metadata": {},
     "output_type": "execute_result"
    }
   ],
   "source": [
    "#read in the first/primary dataset:\n",
    "df1 = pd.read_excel(f\"{path}/data.xlsx\")\n",
    "df1 = df1[[\"string\",\"label\"]]\n",
    "df1 = df1.rename(columns= {\"string\":\"text\",\"label:\":\"label\"})\n",
    "df1 = df1.dropna()\n",
    "df1.head()"
   ]
  },
  {
   "cell_type": "code",
   "execution_count": 72,
   "id": "570dae5b-7e71-4b52-be6d-ee4f40fecc71",
   "metadata": {},
   "outputs": [
    {
     "data": {
      "text/html": [
       "<div>\n",
       "<style scoped>\n",
       "    .dataframe tbody tr th:only-of-type {\n",
       "        vertical-align: middle;\n",
       "    }\n",
       "\n",
       "    .dataframe tbody tr th {\n",
       "        vertical-align: top;\n",
       "    }\n",
       "\n",
       "    .dataframe thead th {\n",
       "        text-align: right;\n",
       "    }\n",
       "</style>\n",
       "<table border=\"1\" class=\"dataframe\">\n",
       "  <thead>\n",
       "    <tr style=\"text-align: right;\">\n",
       "      <th></th>\n",
       "      <th>text</th>\n",
       "      <th>label</th>\n",
       "    </tr>\n",
       "  </thead>\n",
       "  <tbody>\n",
       "    <tr>\n",
       "      <th>0</th>\n",
       "      <td>Soapstar Superstar is a British talent show th...</td>\n",
       "      <td>A brief history and description of Soapstar Su...</td>\n",
       "    </tr>\n",
       "    <tr>\n",
       "      <th>1</th>\n",
       "      <td>Okon Edet Uya (12 June 1947 – 17 April 2014) w...</td>\n",
       "      <td>A biography of Okon Edet Uya</td>\n",
       "    </tr>\n",
       "    <tr>\n",
       "      <th>2</th>\n",
       "      <td>The first route to be operated was the 348 ser...</td>\n",
       "      <td>Bus numbers and service routes</td>\n",
       "    </tr>\n",
       "    <tr>\n",
       "      <th>3</th>\n",
       "      <td>Yogacharya Govindan Nair was born in Kuttipuzh...</td>\n",
       "      <td>History of Yogacharya Govindan Nair</td>\n",
       "    </tr>\n",
       "    <tr>\n",
       "      <th>4</th>\n",
       "      <td>code_saturne is a general-purpose computationa...</td>\n",
       "      <td>Description of code_saturne computer program</td>\n",
       "    </tr>\n",
       "  </tbody>\n",
       "</table>\n",
       "</div>"
      ],
      "text/plain": [
       "                                                text  \\\n",
       "0  Soapstar Superstar is a British talent show th...   \n",
       "1  Okon Edet Uya (12 June 1947 – 17 April 2014) w...   \n",
       "2  The first route to be operated was the 348 ser...   \n",
       "3  Yogacharya Govindan Nair was born in Kuttipuzh...   \n",
       "4  code_saturne is a general-purpose computationa...   \n",
       "\n",
       "                                               label  \n",
       "0  A brief history and description of Soapstar Su...  \n",
       "1                       A biography of Okon Edet Uya  \n",
       "2                     Bus numbers and service routes  \n",
       "3                History of Yogacharya Govindan Nair  \n",
       "4       Description of code_saturne computer program  "
      ]
     },
     "execution_count": 72,
     "metadata": {},
     "output_type": "execute_result"
    }
   ],
   "source": [
    "#read in a small second spread sheet\n",
    "df2 = pd.read_excel(f\"{path}/data_3.xlsx\")\n",
    "df2 = df2[[\"String\",\"label\"]]\n",
    "df2 = df2.rename(columns= {\"String\":\"text\",\"label:\":\"label\"})\n",
    "df2 = df2.dropna()\n",
    "df2.head()"
   ]
  },
  {
   "cell_type": "code",
   "execution_count": 73,
   "id": "33b9e794-6151-4716-811f-c2809d72043b",
   "metadata": {},
   "outputs": [
    {
     "data": {
      "text/html": [
       "<div>\n",
       "<style scoped>\n",
       "    .dataframe tbody tr th:only-of-type {\n",
       "        vertical-align: middle;\n",
       "    }\n",
       "\n",
       "    .dataframe tbody tr th {\n",
       "        vertical-align: top;\n",
       "    }\n",
       "\n",
       "    .dataframe thead th {\n",
       "        text-align: right;\n",
       "    }\n",
       "</style>\n",
       "<table border=\"1\" class=\"dataframe\">\n",
       "  <thead>\n",
       "    <tr style=\"text-align: right;\">\n",
       "      <th></th>\n",
       "      <th>text</th>\n",
       "      <th>label</th>\n",
       "    </tr>\n",
       "  </thead>\n",
       "  <tbody>\n",
       "    <tr>\n",
       "      <th>0</th>\n",
       "      <td>company is the state of being with someone</td>\n",
       "      <td>the definition of company</td>\n",
       "    </tr>\n",
       "    <tr>\n",
       "      <th>1</th>\n",
       "      <td>movements is a euphemism for defecation</td>\n",
       "      <td>the definition of movements</td>\n",
       "    </tr>\n",
       "    <tr>\n",
       "      <th>2</th>\n",
       "      <td>settled is to establish or develop as a residence</td>\n",
       "      <td>the definition of settled</td>\n",
       "    </tr>\n",
       "    <tr>\n",
       "      <th>3</th>\n",
       "      <td>content is the state of being contented with y...</td>\n",
       "      <td>the definition of content</td>\n",
       "    </tr>\n",
       "    <tr>\n",
       "      <th>4</th>\n",
       "      <td>reflect is to give evidence of the quality of</td>\n",
       "      <td>the definition of reflect</td>\n",
       "    </tr>\n",
       "  </tbody>\n",
       "</table>\n",
       "</div>"
      ],
      "text/plain": [
       "                                                text  \\\n",
       "0         company is the state of being with someone   \n",
       "1            movements is a euphemism for defecation   \n",
       "2  settled is to establish or develop as a residence   \n",
       "3  content is the state of being contented with y...   \n",
       "4      reflect is to give evidence of the quality of   \n",
       "\n",
       "                         label  \n",
       "0    the definition of company  \n",
       "1  the definition of movements  \n",
       "2    the definition of settled  \n",
       "3    the definition of content  \n",
       "4    the definition of reflect  "
      ]
     },
     "execution_count": 73,
     "metadata": {},
     "output_type": "execute_result"
    }
   ],
   "source": [
    "#definitions:\n",
    "df3 = pd.read_excel(f\"{path}/defs.xlsx\")\n",
    "df3 = df3[[\"text\",\"label\"]]\n",
    "df3.head()"
   ]
  },
  {
   "cell_type": "code",
   "execution_count": 74,
   "id": "abfb5936-d066-4832-b5df-a5f5f1575b85",
   "metadata": {},
   "outputs": [
    {
     "data": {
      "text/html": [
       "<div>\n",
       "<style scoped>\n",
       "    .dataframe tbody tr th:only-of-type {\n",
       "        vertical-align: middle;\n",
       "    }\n",
       "\n",
       "    .dataframe tbody tr th {\n",
       "        vertical-align: top;\n",
       "    }\n",
       "\n",
       "    .dataframe thead th {\n",
       "        text-align: right;\n",
       "    }\n",
       "</style>\n",
       "<table border=\"1\" class=\"dataframe\">\n",
       "  <thead>\n",
       "    <tr style=\"text-align: right;\">\n",
       "      <th></th>\n",
       "      <th>text</th>\n",
       "      <th>label</th>\n",
       "    </tr>\n",
       "  </thead>\n",
       "  <tbody>\n",
       "    <tr>\n",
       "      <th>0</th>\n",
       "      <td>Two things going on here.  First, heat doesn't...</td>\n",
       "      <td>explaination of why light skin burns easier in...</td>\n",
       "    </tr>\n",
       "    <tr>\n",
       "      <th>1</th>\n",
       "      <td>It's mostly due to the difference in immune sy...</td>\n",
       "      <td>explaination of why chickenpox is worse as an ...</td>\n",
       "    </tr>\n",
       "    <tr>\n",
       "      <th>2</th>\n",
       "      <td>It has to include equipment, pay for employees...</td>\n",
       "      <td>breakdown of a movie's budget</td>\n",
       "    </tr>\n",
       "    <tr>\n",
       "      <th>7</th>\n",
       "      <td>jugs work by dripping water thru activated car...</td>\n",
       "      <td>explanation of how a water purifier jug works ...</td>\n",
       "    </tr>\n",
       "    <tr>\n",
       "      <th>9</th>\n",
       "      <td>Our brains like familiar things. Something we ...</td>\n",
       "      <td>explanation of why human like rewatching tv shows</td>\n",
       "    </tr>\n",
       "  </tbody>\n",
       "</table>\n",
       "</div>"
      ],
      "text/plain": [
       "                                                text  \\\n",
       "0  Two things going on here.  First, heat doesn't...   \n",
       "1  It's mostly due to the difference in immune sy...   \n",
       "2  It has to include equipment, pay for employees...   \n",
       "7  jugs work by dripping water thru activated car...   \n",
       "9  Our brains like familiar things. Something we ...   \n",
       "\n",
       "                                               label  \n",
       "0  explaination of why light skin burns easier in...  \n",
       "1  explaination of why chickenpox is worse as an ...  \n",
       "2                      breakdown of a movie's budget  \n",
       "7  explanation of how a water purifier jug works ...  \n",
       "9  explanation of why human like rewatching tv shows  "
      ]
     },
     "execution_count": 74,
     "metadata": {},
     "output_type": "execute_result"
    }
   ],
   "source": [
    "#Elias:\n",
    "df4 = pd.read_excel(f\"{path}/ELI5.xlsx\")\n",
    "df4 = df4[[\"answers\",\"Label:\"]]\n",
    "df4 = df4.dropna()\n",
    "df4 = df4.rename(columns= {\"answers\":\"text\",\"Label:\":\"label\"})\n",
    "df4.head()"
   ]
  },
  {
   "cell_type": "code",
   "execution_count": 75,
   "id": "f94510b4-7418-490a-ad4f-8938f666ff67",
   "metadata": {},
   "outputs": [
    {
     "data": {
      "text/html": [
       "<div>\n",
       "<style scoped>\n",
       "    .dataframe tbody tr th:only-of-type {\n",
       "        vertical-align: middle;\n",
       "    }\n",
       "\n",
       "    .dataframe tbody tr th {\n",
       "        vertical-align: top;\n",
       "    }\n",
       "\n",
       "    .dataframe thead th {\n",
       "        text-align: right;\n",
       "    }\n",
       "</style>\n",
       "<table border=\"1\" class=\"dataframe\">\n",
       "  <thead>\n",
       "    <tr style=\"text-align: right;\">\n",
       "      <th></th>\n",
       "      <th>text</th>\n",
       "      <th>label</th>\n",
       "    </tr>\n",
       "  </thead>\n",
       "  <tbody>\n",
       "    <tr>\n",
       "      <th>1</th>\n",
       "      <td>In the study by Hickey et al. (2012), spikes w...</td>\n",
       "      <td>A procedure of about grain germs</td>\n",
       "    </tr>\n",
       "    <tr>\n",
       "      <th>2</th>\n",
       "      <td>The drug also reduces catecholamine secretion,...</td>\n",
       "      <td>benefits of a drug</td>\n",
       "    </tr>\n",
       "    <tr>\n",
       "      <th>3</th>\n",
       "      <td>By clustering with lowly aggressive close kin ...</td>\n",
       "      <td>benefits of clustering in animals</td>\n",
       "    </tr>\n",
       "    <tr>\n",
       "      <th>4</th>\n",
       "      <td>Ophthalmic symptoms are rare manifestations of...</td>\n",
       "      <td>specification of a list of ophthalmis symptoms</td>\n",
       "    </tr>\n",
       "    <tr>\n",
       "      <th>6</th>\n",
       "      <td>These problems combine to make early diagnosis...</td>\n",
       "      <td>call for action around diagnoses</td>\n",
       "    </tr>\n",
       "  </tbody>\n",
       "</table>\n",
       "</div>"
      ],
      "text/plain": [
       "                                                text  \\\n",
       "1  In the study by Hickey et al. (2012), spikes w...   \n",
       "2  The drug also reduces catecholamine secretion,...   \n",
       "3  By clustering with lowly aggressive close kin ...   \n",
       "4  Ophthalmic symptoms are rare manifestations of...   \n",
       "6  These problems combine to make early diagnosis...   \n",
       "\n",
       "                                            label  \n",
       "1                A procedure of about grain germs  \n",
       "2                              benefits of a drug  \n",
       "3               benefits of clustering in animals  \n",
       "4  specification of a list of ophthalmis symptoms  \n",
       "6                call for action around diagnoses  "
      ]
     },
     "execution_count": 75,
     "metadata": {},
     "output_type": "execute_result"
    }
   ],
   "source": [
    "#scicite:\n",
    "df5 = pd.read_excel(f\"{path}/scicitetrain copy.xlsx\")\n",
    "df5 = df5[[\"strings\",\"my label\"]]\n",
    "df5 = df5.dropna()\n",
    "df5 = df5.rename(columns= {\"strings\":\"text\",\"my label\":\"label\"})\n",
    "df5.head()"
   ]
  },
  {
   "cell_type": "code",
   "execution_count": 76,
   "id": "36ea1713-64fe-4899-8412-d109383d17b5",
   "metadata": {},
   "outputs": [
    {
     "data": {
      "text/html": [
       "<div>\n",
       "<style scoped>\n",
       "    .dataframe tbody tr th:only-of-type {\n",
       "        vertical-align: middle;\n",
       "    }\n",
       "\n",
       "    .dataframe tbody tr th {\n",
       "        vertical-align: top;\n",
       "    }\n",
       "\n",
       "    .dataframe thead th {\n",
       "        text-align: right;\n",
       "    }\n",
       "</style>\n",
       "<table border=\"1\" class=\"dataframe\">\n",
       "  <thead>\n",
       "    <tr style=\"text-align: right;\">\n",
       "      <th></th>\n",
       "      <th>text</th>\n",
       "      <th>label</th>\n",
       "    </tr>\n",
       "  </thead>\n",
       "  <tbody>\n",
       "    <tr>\n",
       "      <th>0</th>\n",
       "      <td>Holmfirth railway station is a former railway ...</td>\n",
       "      <td>definition of the holmfirth railway station</td>\n",
       "    </tr>\n",
       "    <tr>\n",
       "      <th>5</th>\n",
       "      <td>Attila Levin is a Swedish professional boxer.</td>\n",
       "      <td>biography of Attila Levin</td>\n",
       "    </tr>\n",
       "    <tr>\n",
       "      <th>10</th>\n",
       "      <td>Withrow is a neighborhood of Grant, Washington...</td>\n",
       "      <td>History of Winthrow Minnesota</td>\n",
       "    </tr>\n",
       "    <tr>\n",
       "      <th>13</th>\n",
       "      <td>Kunaal Roy Kapur is an Indian actor, playwrigh...</td>\n",
       "      <td>biography of Roy Kapur</td>\n",
       "    </tr>\n",
       "    <tr>\n",
       "      <th>14</th>\n",
       "      <td>Salford Quays tram stop is a stop on Greater M...</td>\n",
       "      <td>specification of location of salford Quays tra...</td>\n",
       "    </tr>\n",
       "  </tbody>\n",
       "</table>\n",
       "</div>"
      ],
      "text/plain": [
       "                                                 text  \\\n",
       "0   Holmfirth railway station is a former railway ...   \n",
       "5       Attila Levin is a Swedish professional boxer.   \n",
       "10  Withrow is a neighborhood of Grant, Washington...   \n",
       "13  Kunaal Roy Kapur is an Indian actor, playwrigh...   \n",
       "14  Salford Quays tram stop is a stop on Greater M...   \n",
       "\n",
       "                                                label  \n",
       "0         definition of the holmfirth railway station  \n",
       "5                           biography of Attila Levin  \n",
       "10                      History of Winthrow Minnesota  \n",
       "13                             biography of Roy Kapur  \n",
       "14  specification of location of salford Quays tra...  "
      ]
     },
     "execution_count": 76,
     "metadata": {},
     "output_type": "execute_result"
    }
   ],
   "source": [
    "#wikis:\n",
    "df6 = pd.read_excel(f\"{path}/wikis.xlsx\")\n",
    "df6 = df6[[\"extracts\",\"labels\"]]\n",
    "df6 = df6.dropna()\n",
    "df6 = df6.rename(columns= {\"extracts\":\"text\",\"labels\":\"label\"})\n",
    "df6.head()"
   ]
  },
  {
   "cell_type": "code",
   "execution_count": null,
   "id": "cdbc8c60-ceca-44fb-96f9-d5ef18162922",
   "metadata": {},
   "outputs": [],
   "source": []
  },
  {
   "cell_type": "code",
   "execution_count": 77,
   "id": "25594eaa-b702-4d8a-aec0-297410f68d4a",
   "metadata": {},
   "outputs": [],
   "source": [
    "dfs = [df1, df2,df3,df4,df5,df6]"
   ]
  },
  {
   "cell_type": "code",
   "execution_count": 78,
   "id": "a33753ec-7f1a-4213-9e10-3a0da5e64750",
   "metadata": {},
   "outputs": [],
   "source": [
    "df = pd.concat(dfs)"
   ]
  },
  {
   "cell_type": "code",
   "execution_count": 82,
   "id": "3ea22a05-b7c0-4cae-8561-9cfb02fe65e9",
   "metadata": {},
   "outputs": [],
   "source": [
    "dataset = Dataset.from_pandas(df)"
   ]
  },
  {
   "cell_type": "code",
   "execution_count": 85,
   "id": "06efd6fa-f270-445b-ab6d-e70718bcff91",
   "metadata": {},
   "outputs": [
    {
     "data": {
      "application/vnd.jupyter.widget-view+json": {
       "model_id": "911eac9f2f7b406798793f909d3decf8",
       "version_major": 2,
       "version_minor": 0
      },
      "text/plain": [
       "Creating json from Arrow format:   0%|          | 0/1 [00:00<?, ?ba/s]"
      ]
     },
     "metadata": {},
     "output_type": "display_data"
    },
    {
     "data": {
      "text/plain": [
       "438064"
      ]
     },
     "execution_count": 85,
     "metadata": {},
     "output_type": "execute_result"
    }
   ],
   "source": [
    "dataset.to_json(f\"{path}/large_dataset.json\")"
   ]
  },
  {
   "cell_type": "code",
   "execution_count": 86,
   "id": "462e2073-9195-4613-a17e-9b8864f92a24",
   "metadata": {},
   "outputs": [
    {
     "data": {
      "application/vnd.jupyter.widget-view+json": {
       "model_id": "2a4d1e9c94f54af6a89b7da326e69c1e",
       "version_major": 2,
       "version_minor": 0
      },
      "text/plain": [
       "Creating json from Arrow format:   0%|          | 0/1 [00:00<?, ?ba/s]"
      ]
     },
     "metadata": {},
     "output_type": "display_data"
    },
    {
     "data": {
      "text/plain": [
       "394284"
      ]
     },
     "execution_count": 86,
     "metadata": {},
     "output_type": "execute_result"
    }
   ],
   "source": [
    "df = pd.concat([df1,df2,df4,df5,df6])\n",
    "dataset = Dataset.from_pandas(df)\n",
    "dataset.to_json(f\"{path}/small_dataset.json\")"
   ]
  },
  {
   "cell_type": "code",
   "execution_count": null,
   "id": "162f7380-c185-42aa-ab45-1ea434b761f7",
   "metadata": {},
   "outputs": [],
   "source": []
  }
 ],
 "metadata": {
  "kernelspec": {
   "display_name": "Python 3 (ipykernel)",
   "language": "python",
   "name": "python3"
  },
  "language_info": {
   "codemirror_mode": {
    "name": "ipython",
    "version": 3
   },
   "file_extension": ".py",
   "mimetype": "text/x-python",
   "name": "python",
   "nbconvert_exporter": "python",
   "pygments_lexer": "ipython3",
   "version": "3.9.10"
  }
 },
 "nbformat": 4,
 "nbformat_minor": 5
}
