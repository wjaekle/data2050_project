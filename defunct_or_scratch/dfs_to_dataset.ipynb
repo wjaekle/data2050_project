{
 "cells": [
  {
   "cell_type": "code",
   "execution_count": 47,
   "id": "6961f3ca-73f1-4797-8c11-9293ea68dc55",
   "metadata": {},
   "outputs": [],
   "source": [
    "from datasets import Dataset, DatasetDict,load_dataset\n",
    "import pandas as pd\n"
   ]
  },
  {
   "cell_type": "code",
   "execution_count": 5,
   "id": "cb826e97-a165-42a0-8464-5a288ffae0be",
   "metadata": {},
   "outputs": [],
   "source": [
    "df1 = pd.read_excel(\"../Data/raw/data.xlsx\")"
   ]
  },
  {
   "cell_type": "code",
   "execution_count": 7,
   "id": "416fa932-af47-46cf-81fb-b83db1ef0366",
   "metadata": {},
   "outputs": [],
   "source": [
    "df1 = df1[[\"string\",\"label\"]]"
   ]
  },
  {
   "cell_type": "code",
   "execution_count": 8,
   "id": "c16323c9-8289-45b1-8a64-df4b4989cc5a",
   "metadata": {},
   "outputs": [
    {
     "data": {
      "text/html": [
       "<div>\n",
       "<style scoped>\n",
       "    .dataframe tbody tr th:only-of-type {\n",
       "        vertical-align: middle;\n",
       "    }\n",
       "\n",
       "    .dataframe tbody tr th {\n",
       "        vertical-align: top;\n",
       "    }\n",
       "\n",
       "    .dataframe thead th {\n",
       "        text-align: right;\n",
       "    }\n",
       "</style>\n",
       "<table border=\"1\" class=\"dataframe\">\n",
       "  <thead>\n",
       "    <tr style=\"text-align: right;\">\n",
       "      <th></th>\n",
       "      <th>string</th>\n",
       "      <th>label</th>\n",
       "    </tr>\n",
       "  </thead>\n",
       "  <tbody>\n",
       "    <tr>\n",
       "      <th>0</th>\n",
       "      <td>Most apples are a little sweet and a little ta...</td>\n",
       "      <td>A description and explanation of how apples taste</td>\n",
       "    </tr>\n",
       "    <tr>\n",
       "      <th>1</th>\n",
       "      <td>Apples rank among the world's most popular fru...</td>\n",
       "      <td>a summary of different uses for apples</td>\n",
       "    </tr>\n",
       "    <tr>\n",
       "      <th>2</th>\n",
       "      <td>As white light passes through our atmosphere, ...</td>\n",
       "      <td>explanation of why the sky is blue</td>\n",
       "    </tr>\n",
       "    <tr>\n",
       "      <th>3</th>\n",
       "      <td>In other words, the color of the ocean and the...</td>\n",
       "      <td>a distinction between why the ocean is blue an...</td>\n",
       "    </tr>\n",
       "    <tr>\n",
       "      <th>4</th>\n",
       "      <td>Color of Sunlight as seen on Earth's surface d...</td>\n",
       "      <td>explanation of why the sun is yellow</td>\n",
       "    </tr>\n",
       "    <tr>\n",
       "      <th>...</th>\n",
       "      <td>...</td>\n",
       "      <td>...</td>\n",
       "    </tr>\n",
       "    <tr>\n",
       "      <th>118</th>\n",
       "      <td>Washington, D.C., D.C. in full District of Col...</td>\n",
       "      <td>specification of location of washignton DC</td>\n",
       "    </tr>\n",
       "    <tr>\n",
       "      <th>119</th>\n",
       "      <td>Concisely, AI can be described as the effort t...</td>\n",
       "      <td>comparison of AI and machine learning</td>\n",
       "    </tr>\n",
       "    <tr>\n",
       "      <th>120</th>\n",
       "      <td>How  many  layers  contribute  to  a model of ...</td>\n",
       "      <td>definition of the depth of a model</td>\n",
       "    </tr>\n",
       "    <tr>\n",
       "      <th>121</th>\n",
       "      <td>Functional anatomy Muscles Mucosa Lymphatics I...</td>\n",
       "      <td>list of functional anatomy</td>\n",
       "    </tr>\n",
       "    <tr>\n",
       "      <th>122</th>\n",
       "      <td>The Fukushima accident was an accident in 201...</td>\n",
       "      <td>definition of the fukishima disaster</td>\n",
       "    </tr>\n",
       "  </tbody>\n",
       "</table>\n",
       "<p>123 rows × 2 columns</p>\n",
       "</div>"
      ],
      "text/plain": [
       "                                                string  \\\n",
       "0    Most apples are a little sweet and a little ta...   \n",
       "1    Apples rank among the world's most popular fru...   \n",
       "2    As white light passes through our atmosphere, ...   \n",
       "3    In other words, the color of the ocean and the...   \n",
       "4    Color of Sunlight as seen on Earth's surface d...   \n",
       "..                                                 ...   \n",
       "118  Washington, D.C., D.C. in full District of Col...   \n",
       "119  Concisely, AI can be described as the effort t...   \n",
       "120  How  many  layers  contribute  to  a model of ...   \n",
       "121  Functional anatomy Muscles Mucosa Lymphatics I...   \n",
       "122   The Fukushima accident was an accident in 201...   \n",
       "\n",
       "                                                 label  \n",
       "0    A description and explanation of how apples taste  \n",
       "1               a summary of different uses for apples  \n",
       "2                   explanation of why the sky is blue  \n",
       "3    a distinction between why the ocean is blue an...  \n",
       "4                 explanation of why the sun is yellow  \n",
       "..                                                 ...  \n",
       "118         specification of location of washignton DC  \n",
       "119              comparison of AI and machine learning  \n",
       "120                 definition of the depth of a model  \n",
       "121                         list of functional anatomy  \n",
       "122               definition of the fukishima disaster  \n",
       "\n",
       "[123 rows x 2 columns]"
      ]
     },
     "execution_count": 8,
     "metadata": {},
     "output_type": "execute_result"
    }
   ],
   "source": [
    "df1"
   ]
  },
  {
   "cell_type": "code",
   "execution_count": 9,
   "id": "7387af82-dd16-41c3-9570-bd11f1461aac",
   "metadata": {},
   "outputs": [],
   "source": [
    "df2 = pd.read_excel(\"../Data/raw/wikis.xlsx\")"
   ]
  },
  {
   "cell_type": "code",
   "execution_count": 13,
   "id": "509a45b7-1a5b-4d23-af9d-4a7a079e7b19",
   "metadata": {},
   "outputs": [],
   "source": [
    "df2 = df2[[\"extracts\",\"labels\"]]\n",
    "df2 = df2.dropna()"
   ]
  },
  {
   "cell_type": "code",
   "execution_count": 15,
   "id": "673318a1-1642-4521-b21f-e4c364e29f80",
   "metadata": {},
   "outputs": [
    {
     "data": {
      "text/html": [
       "<div>\n",
       "<style scoped>\n",
       "    .dataframe tbody tr th:only-of-type {\n",
       "        vertical-align: middle;\n",
       "    }\n",
       "\n",
       "    .dataframe tbody tr th {\n",
       "        vertical-align: top;\n",
       "    }\n",
       "\n",
       "    .dataframe thead th {\n",
       "        text-align: right;\n",
       "    }\n",
       "</style>\n",
       "<table border=\"1\" class=\"dataframe\">\n",
       "  <thead>\n",
       "    <tr style=\"text-align: right;\">\n",
       "      <th></th>\n",
       "      <th>extracts</th>\n",
       "      <th>labels</th>\n",
       "    </tr>\n",
       "  </thead>\n",
       "  <tbody>\n",
       "    <tr>\n",
       "      <th>0</th>\n",
       "      <td>Holmfirth railway station is a former railway ...</td>\n",
       "      <td>definition of the holmfirth railway station</td>\n",
       "    </tr>\n",
       "    <tr>\n",
       "      <th>5</th>\n",
       "      <td>Attila Levin is a Swedish professional boxer.</td>\n",
       "      <td>biography of Attila Levin</td>\n",
       "    </tr>\n",
       "    <tr>\n",
       "      <th>10</th>\n",
       "      <td>Withrow is a neighborhood of Grant, Washington...</td>\n",
       "      <td>History of Winthrow Minnesota</td>\n",
       "    </tr>\n",
       "    <tr>\n",
       "      <th>13</th>\n",
       "      <td>Kunaal Roy Kapur is an Indian actor, playwrigh...</td>\n",
       "      <td>biography of Roy Kapur</td>\n",
       "    </tr>\n",
       "    <tr>\n",
       "      <th>14</th>\n",
       "      <td>Salford Quays tram stop is a stop on Greater M...</td>\n",
       "      <td>specification of location of salford Quays tra...</td>\n",
       "    </tr>\n",
       "  </tbody>\n",
       "</table>\n",
       "</div>"
      ],
      "text/plain": [
       "                                             extracts  \\\n",
       "0   Holmfirth railway station is a former railway ...   \n",
       "5       Attila Levin is a Swedish professional boxer.   \n",
       "10  Withrow is a neighborhood of Grant, Washington...   \n",
       "13  Kunaal Roy Kapur is an Indian actor, playwrigh...   \n",
       "14  Salford Quays tram stop is a stop on Greater M...   \n",
       "\n",
       "                                               labels  \n",
       "0         definition of the holmfirth railway station  \n",
       "5                           biography of Attila Levin  \n",
       "10                      History of Winthrow Minnesota  \n",
       "13                             biography of Roy Kapur  \n",
       "14  specification of location of salford Quays tra...  "
      ]
     },
     "execution_count": 15,
     "metadata": {},
     "output_type": "execute_result"
    }
   ],
   "source": [
    "df2.head()"
   ]
  },
  {
   "cell_type": "code",
   "execution_count": 33,
   "id": "488ac753-16e2-48ef-afde-177e3f7f5bb1",
   "metadata": {},
   "outputs": [],
   "source": [
    "df3 = pd.read_excel(\"../Data/raw/scicitetrain copy.xlsx\")"
   ]
  },
  {
   "cell_type": "code",
   "execution_count": 34,
   "id": "1ec9dc41-a93d-46a9-aa7b-ac14741d9713",
   "metadata": {},
   "outputs": [],
   "source": [
    "df3 = df3[[\"strings\",\"my label\"]].dropna()"
   ]
  },
  {
   "cell_type": "code",
   "execution_count": 35,
   "id": "e70068e7-e9cf-4adf-a935-9dea231ae9ec",
   "metadata": {},
   "outputs": [
    {
     "data": {
      "text/html": [
       "<div>\n",
       "<style scoped>\n",
       "    .dataframe tbody tr th:only-of-type {\n",
       "        vertical-align: middle;\n",
       "    }\n",
       "\n",
       "    .dataframe tbody tr th {\n",
       "        vertical-align: top;\n",
       "    }\n",
       "\n",
       "    .dataframe thead th {\n",
       "        text-align: right;\n",
       "    }\n",
       "</style>\n",
       "<table border=\"1\" class=\"dataframe\">\n",
       "  <thead>\n",
       "    <tr style=\"text-align: right;\">\n",
       "      <th></th>\n",
       "      <th>strings</th>\n",
       "      <th>my label</th>\n",
       "    </tr>\n",
       "  </thead>\n",
       "  <tbody>\n",
       "    <tr>\n",
       "      <th>1</th>\n",
       "      <td>In the study by Hickey et al. (2012), spikes w...</td>\n",
       "      <td>A procedure of about grain germs</td>\n",
       "    </tr>\n",
       "    <tr>\n",
       "      <th>2</th>\n",
       "      <td>The drug also reduces catecholamine secretion,...</td>\n",
       "      <td>benefits of a drug</td>\n",
       "    </tr>\n",
       "    <tr>\n",
       "      <th>3</th>\n",
       "      <td>By clustering with lowly aggressive close kin ...</td>\n",
       "      <td>benefits of clustering in animals</td>\n",
       "    </tr>\n",
       "    <tr>\n",
       "      <th>4</th>\n",
       "      <td>Ophthalmic symptoms are rare manifestations of...</td>\n",
       "      <td>specification of a list of ophthalmis symptoms</td>\n",
       "    </tr>\n",
       "    <tr>\n",
       "      <th>6</th>\n",
       "      <td>These problems combine to make early diagnosis...</td>\n",
       "      <td>call for action around diagnoses</td>\n",
       "    </tr>\n",
       "    <tr>\n",
       "      <th>...</th>\n",
       "      <td>...</td>\n",
       "      <td>...</td>\n",
       "    </tr>\n",
       "    <tr>\n",
       "      <th>489</th>\n",
       "      <td>During the early stages of autophagic inductio...</td>\n",
       "      <td>process of the conjugation of LC3-I</td>\n",
       "    </tr>\n",
       "    <tr>\n",
       "      <th>492</th>\n",
       "      <td>F proteins are acid pH dependent and contain a...</td>\n",
       "      <td>characteristics of F proteins</td>\n",
       "    </tr>\n",
       "    <tr>\n",
       "      <th>493</th>\n",
       "      <td>In agreement with findings showing that PLCb1 ...</td>\n",
       "      <td>correlation between the intensity levels of PL...</td>\n",
       "    </tr>\n",
       "    <tr>\n",
       "      <th>495</th>\n",
       "      <td>Preterminal and terminal Schwann cells serve a...</td>\n",
       "      <td>dynamics of nodal sprouts on preterminal and t...</td>\n",
       "    </tr>\n",
       "    <tr>\n",
       "      <th>497</th>\n",
       "      <td>Mutation sites in the receptor-binding domain ...</td>\n",
       "      <td>justification of the spike protein</td>\n",
       "    </tr>\n",
       "  </tbody>\n",
       "</table>\n",
       "<p>201 rows × 2 columns</p>\n",
       "</div>"
      ],
      "text/plain": [
       "                                               strings  \\\n",
       "1    In the study by Hickey et al. (2012), spikes w...   \n",
       "2    The drug also reduces catecholamine secretion,...   \n",
       "3    By clustering with lowly aggressive close kin ...   \n",
       "4    Ophthalmic symptoms are rare manifestations of...   \n",
       "6    These problems combine to make early diagnosis...   \n",
       "..                                                 ...   \n",
       "489  During the early stages of autophagic inductio...   \n",
       "492  F proteins are acid pH dependent and contain a...   \n",
       "493  In agreement with findings showing that PLCb1 ...   \n",
       "495  Preterminal and terminal Schwann cells serve a...   \n",
       "497  Mutation sites in the receptor-binding domain ...   \n",
       "\n",
       "                                              my label  \n",
       "1                     A procedure of about grain germs  \n",
       "2                                   benefits of a drug  \n",
       "3                    benefits of clustering in animals  \n",
       "4       specification of a list of ophthalmis symptoms  \n",
       "6                     call for action around diagnoses  \n",
       "..                                                 ...  \n",
       "489                process of the conjugation of LC3-I  \n",
       "492                      characteristics of F proteins  \n",
       "493  correlation between the intensity levels of PL...  \n",
       "495  dynamics of nodal sprouts on preterminal and t...  \n",
       "497                 justification of the spike protein  \n",
       "\n",
       "[201 rows x 2 columns]"
      ]
     },
     "execution_count": 35,
     "metadata": {},
     "output_type": "execute_result"
    }
   ],
   "source": [
    "df3"
   ]
  },
  {
   "cell_type": "code",
   "execution_count": 36,
   "id": "b9b2b7bd-5c56-48bc-a748-53416299f3b7",
   "metadata": {},
   "outputs": [],
   "source": [
    "#create one solid dataframe:\n",
    "s3 = df3[\"strings\"].to_list()\n",
    "l3 = df3[\"my label\"].to_list()\n",
    "s1 = df1[\"string\"].to_list()\n",
    "l1 = df1[\"label\"].to_list()\n",
    "s2 = df2[\"extracts\"].tolist()\n",
    "l2 = df2[\"labels\"].to_list()"
   ]
  },
  {
   "cell_type": "code",
   "execution_count": 37,
   "id": "bfca464a-5322-49d4-85d3-bc1f58876c3c",
   "metadata": {},
   "outputs": [],
   "source": [
    "strings = s1+s2+s3\n",
    "labels = l1+l2+l3\n",
    "df = pd.DataFrame(list(zip(strings, labels)),\n",
    "               columns =['text', 'label'])\n"
   ]
  },
  {
   "cell_type": "code",
   "execution_count": 38,
   "id": "8f670cdf-d438-4736-87be-28b76d86bd60",
   "metadata": {},
   "outputs": [
    {
     "data": {
      "text/html": [
       "<div>\n",
       "<style scoped>\n",
       "    .dataframe tbody tr th:only-of-type {\n",
       "        vertical-align: middle;\n",
       "    }\n",
       "\n",
       "    .dataframe tbody tr th {\n",
       "        vertical-align: top;\n",
       "    }\n",
       "\n",
       "    .dataframe thead th {\n",
       "        text-align: right;\n",
       "    }\n",
       "</style>\n",
       "<table border=\"1\" class=\"dataframe\">\n",
       "  <thead>\n",
       "    <tr style=\"text-align: right;\">\n",
       "      <th></th>\n",
       "      <th>text</th>\n",
       "      <th>label</th>\n",
       "    </tr>\n",
       "  </thead>\n",
       "  <tbody>\n",
       "    <tr>\n",
       "      <th>0</th>\n",
       "      <td>Most apples are a little sweet and a little ta...</td>\n",
       "      <td>A description and explanation of how apples taste</td>\n",
       "    </tr>\n",
       "    <tr>\n",
       "      <th>1</th>\n",
       "      <td>Apples rank among the world's most popular fru...</td>\n",
       "      <td>a summary of different uses for apples</td>\n",
       "    </tr>\n",
       "    <tr>\n",
       "      <th>2</th>\n",
       "      <td>As white light passes through our atmosphere, ...</td>\n",
       "      <td>explanation of why the sky is blue</td>\n",
       "    </tr>\n",
       "    <tr>\n",
       "      <th>3</th>\n",
       "      <td>In other words, the color of the ocean and the...</td>\n",
       "      <td>a distinction between why the ocean is blue an...</td>\n",
       "    </tr>\n",
       "    <tr>\n",
       "      <th>4</th>\n",
       "      <td>Color of Sunlight as seen on Earth's surface d...</td>\n",
       "      <td>explanation of why the sun is yellow</td>\n",
       "    </tr>\n",
       "    <tr>\n",
       "      <th>...</th>\n",
       "      <td>...</td>\n",
       "      <td>...</td>\n",
       "    </tr>\n",
       "    <tr>\n",
       "      <th>368</th>\n",
       "      <td>During the early stages of autophagic inductio...</td>\n",
       "      <td>process of the conjugation of LC3-I</td>\n",
       "    </tr>\n",
       "    <tr>\n",
       "      <th>369</th>\n",
       "      <td>F proteins are acid pH dependent and contain a...</td>\n",
       "      <td>characteristics of F proteins</td>\n",
       "    </tr>\n",
       "    <tr>\n",
       "      <th>370</th>\n",
       "      <td>In agreement with findings showing that PLCb1 ...</td>\n",
       "      <td>correlation between the intensity levels of PL...</td>\n",
       "    </tr>\n",
       "    <tr>\n",
       "      <th>371</th>\n",
       "      <td>Preterminal and terminal Schwann cells serve a...</td>\n",
       "      <td>dynamics of nodal sprouts on preterminal and t...</td>\n",
       "    </tr>\n",
       "    <tr>\n",
       "      <th>372</th>\n",
       "      <td>Mutation sites in the receptor-binding domain ...</td>\n",
       "      <td>justification of the spike protein</td>\n",
       "    </tr>\n",
       "  </tbody>\n",
       "</table>\n",
       "<p>373 rows × 2 columns</p>\n",
       "</div>"
      ],
      "text/plain": [
       "                                                  text  \\\n",
       "0    Most apples are a little sweet and a little ta...   \n",
       "1    Apples rank among the world's most popular fru...   \n",
       "2    As white light passes through our atmosphere, ...   \n",
       "3    In other words, the color of the ocean and the...   \n",
       "4    Color of Sunlight as seen on Earth's surface d...   \n",
       "..                                                 ...   \n",
       "368  During the early stages of autophagic inductio...   \n",
       "369  F proteins are acid pH dependent and contain a...   \n",
       "370  In agreement with findings showing that PLCb1 ...   \n",
       "371  Preterminal and terminal Schwann cells serve a...   \n",
       "372  Mutation sites in the receptor-binding domain ...   \n",
       "\n",
       "                                                 label  \n",
       "0    A description and explanation of how apples taste  \n",
       "1               a summary of different uses for apples  \n",
       "2                   explanation of why the sky is blue  \n",
       "3    a distinction between why the ocean is blue an...  \n",
       "4                 explanation of why the sun is yellow  \n",
       "..                                                 ...  \n",
       "368                process of the conjugation of LC3-I  \n",
       "369                      characteristics of F proteins  \n",
       "370  correlation between the intensity levels of PL...  \n",
       "371  dynamics of nodal sprouts on preterminal and t...  \n",
       "372                 justification of the spike protein  \n",
       "\n",
       "[373 rows x 2 columns]"
      ]
     },
     "execution_count": 38,
     "metadata": {},
     "output_type": "execute_result"
    }
   ],
   "source": [
    "df"
   ]
  },
  {
   "cell_type": "code",
   "execution_count": 42,
   "id": "a9029db9-6f0a-46a9-aa96-da4fa9cf7b70",
   "metadata": {},
   "outputs": [],
   "source": [
    "data_set = Dataset.from_pandas(df)"
   ]
  },
  {
   "cell_type": "code",
   "execution_count": 45,
   "id": "30855210-04f5-46ff-b0b5-552d22ff29ae",
   "metadata": {},
   "outputs": [
    {
     "data": {
      "application/vnd.jupyter.widget-view+json": {
       "model_id": "d753ad5421c546ed8d50eddf2580330b",
       "version_major": 2,
       "version_minor": 0
      },
      "text/plain": [
       "Creating CSV from Arrow format:   0%|          | 0/1 [00:00<?, ?ba/s]"
      ]
     },
     "metadata": {},
     "output_type": "display_data"
    },
    {
     "data": {
      "text/plain": [
       "118878"
      ]
     },
     "execution_count": 45,
     "metadata": {},
     "output_type": "execute_result"
    }
   ],
   "source": [
    "data_set.to_csv(\"../Data/processed/small_set.csv\")"
   ]
  },
  {
   "cell_type": "code",
   "execution_count": 46,
   "id": "7d4a424d-86db-4ecb-a804-64af24e11c8d",
   "metadata": {},
   "outputs": [
    {
     "data": {
      "text/plain": [
       "Dataset({\n",
       "    features: ['text', 'label'],\n",
       "    num_rows: 373\n",
       "})"
      ]
     },
     "execution_count": 46,
     "metadata": {},
     "output_type": "execute_result"
    }
   ],
   "source": [
    "data_set"
   ]
  },
  {
   "cell_type": "code",
   "execution_count": 48,
   "id": "b49d01a7-990b-490f-be75-d1ff4bcb6838",
   "metadata": {},
   "outputs": [
    {
     "name": "stderr",
     "output_type": "stream",
     "text": [
      "Using custom data configuration default-ad2ac8f1c27dbd68\n"
     ]
    },
    {
     "name": "stdout",
     "output_type": "stream",
     "text": [
      "Downloading and preparing dataset csv/default to /Users/willjaekle/.cache/huggingface/datasets/csv/default-ad2ac8f1c27dbd68/0.0.0/6b34fb8fcf56f7c8ba51dc895bfa2bfbe43546f190a60fcf74bb5e8afdcc2317...\n"
     ]
    },
    {
     "data": {
      "application/vnd.jupyter.widget-view+json": {
       "model_id": "edd199b63f47482885650a743a814930",
       "version_major": 2,
       "version_minor": 0
      },
      "text/plain": [
       "Downloading data files:   0%|          | 0/1 [00:00<?, ?it/s]"
      ]
     },
     "metadata": {},
     "output_type": "display_data"
    },
    {
     "data": {
      "application/vnd.jupyter.widget-view+json": {
       "model_id": "f08034b1b8cc48aebd9011c6bc71f441",
       "version_major": 2,
       "version_minor": 0
      },
      "text/plain": [
       "Extracting data files:   0%|          | 0/1 [00:00<?, ?it/s]"
      ]
     },
     "metadata": {},
     "output_type": "display_data"
    },
    {
     "data": {
      "application/vnd.jupyter.widget-view+json": {
       "model_id": "",
       "version_major": 2,
       "version_minor": 0
      },
      "text/plain": [
       "0 tables [00:00, ? tables/s]"
      ]
     },
     "metadata": {},
     "output_type": "display_data"
    },
    {
     "name": "stdout",
     "output_type": "stream",
     "text": [
      "Dataset csv downloaded and prepared to /Users/willjaekle/.cache/huggingface/datasets/csv/default-ad2ac8f1c27dbd68/0.0.0/6b34fb8fcf56f7c8ba51dc895bfa2bfbe43546f190a60fcf74bb5e8afdcc2317. Subsequent calls will reuse this data.\n"
     ]
    },
    {
     "data": {
      "application/vnd.jupyter.widget-view+json": {
       "model_id": "f50fa7c579144d24942f6c29fed053a5",
       "version_major": 2,
       "version_minor": 0
      },
      "text/plain": [
       "  0%|          | 0/1 [00:00<?, ?it/s]"
      ]
     },
     "metadata": {},
     "output_type": "display_data"
    },
    {
     "data": {
      "text/plain": [
       "DatasetDict({\n",
       "    train: Dataset({\n",
       "        features: ['Unnamed: 0', 'text', 'label'],\n",
       "        num_rows: 373\n",
       "    })\n",
       "})"
      ]
     },
     "execution_count": 48,
     "metadata": {},
     "output_type": "execute_result"
    }
   ],
   "source": [
    "\n",
    "load_dataset(\"csv\", data_files=\"../Data/processed/small_set.csv\")"
   ]
  },
  {
   "cell_type": "code",
   "execution_count": 49,
   "id": "78af8e40-4327-4b85-b32f-33f1bf437726",
   "metadata": {},
   "outputs": [
    {
     "data": {
      "application/vnd.jupyter.widget-view+json": {
       "model_id": "6ab9f38a83a1415cba4d47e7d2a920a2",
       "version_major": 2,
       "version_minor": 0
      },
      "text/plain": [
       "Creating json from Arrow format:   0%|          | 0/1 [00:00<?, ?ba/s]"
      ]
     },
     "metadata": {},
     "output_type": "display_data"
    },
    {
     "data": {
      "text/plain": [
       "125230"
      ]
     },
     "execution_count": 49,
     "metadata": {},
     "output_type": "execute_result"
    }
   ],
   "source": [
    "data_set.to_json(\"../Data/processed/small_set.json\")"
   ]
  },
  {
   "cell_type": "code",
   "execution_count": 50,
   "id": "3ecef753-a311-4bfd-99d3-373d1640e416",
   "metadata": {},
   "outputs": [
    {
     "name": "stderr",
     "output_type": "stream",
     "text": [
      "Using custom data configuration default-a889ea99e4cc4707\n"
     ]
    },
    {
     "name": "stdout",
     "output_type": "stream",
     "text": [
      "Downloading and preparing dataset json/default to /Users/willjaekle/.cache/huggingface/datasets/json/default-a889ea99e4cc4707/0.0.0/e6070c77f18f01a5ad4551a8b7edfba20b8438b7cad4d94e6ad9378022ce4aab...\n"
     ]
    },
    {
     "data": {
      "application/vnd.jupyter.widget-view+json": {
       "model_id": "9eebcb2ee2c94d609a7fa651a78fb521",
       "version_major": 2,
       "version_minor": 0
      },
      "text/plain": [
       "Downloading data files:   0%|          | 0/1 [00:00<?, ?it/s]"
      ]
     },
     "metadata": {},
     "output_type": "display_data"
    },
    {
     "data": {
      "application/vnd.jupyter.widget-view+json": {
       "model_id": "020194a6f6aa4e668ebcb23095adc16d",
       "version_major": 2,
       "version_minor": 0
      },
      "text/plain": [
       "Extracting data files:   0%|          | 0/1 [00:00<?, ?it/s]"
      ]
     },
     "metadata": {},
     "output_type": "display_data"
    },
    {
     "data": {
      "application/vnd.jupyter.widget-view+json": {
       "model_id": "",
       "version_major": 2,
       "version_minor": 0
      },
      "text/plain": [
       "0 tables [00:00, ? tables/s]"
      ]
     },
     "metadata": {},
     "output_type": "display_data"
    },
    {
     "name": "stdout",
     "output_type": "stream",
     "text": [
      "Dataset json downloaded and prepared to /Users/willjaekle/.cache/huggingface/datasets/json/default-a889ea99e4cc4707/0.0.0/e6070c77f18f01a5ad4551a8b7edfba20b8438b7cad4d94e6ad9378022ce4aab. Subsequent calls will reuse this data.\n"
     ]
    },
    {
     "data": {
      "application/vnd.jupyter.widget-view+json": {
       "model_id": "bdad88c47b8d4650b824c0dc84d61a87",
       "version_major": 2,
       "version_minor": 0
      },
      "text/plain": [
       "  0%|          | 0/1 [00:00<?, ?it/s]"
      ]
     },
     "metadata": {},
     "output_type": "display_data"
    },
    {
     "data": {
      "text/plain": [
       "DatasetDict({\n",
       "    train: Dataset({\n",
       "        features: ['text', 'label'],\n",
       "        num_rows: 373\n",
       "    })\n",
       "})"
      ]
     },
     "execution_count": 50,
     "metadata": {},
     "output_type": "execute_result"
    }
   ],
   "source": [
    "load_dataset(\"json\", data_files=\"../Data/processed/small_set.json\")"
   ]
  },
  {
   "cell_type": "code",
   "execution_count": null,
   "id": "b8630f9c-fcd4-4e9a-8f79-9bab89e2f6c2",
   "metadata": {},
   "outputs": [],
   "source": []
  }
 ],
 "metadata": {
  "kernelspec": {
   "display_name": "Python 3 (ipykernel)",
   "language": "python",
   "name": "python3"
  },
  "language_info": {
   "codemirror_mode": {
    "name": "ipython",
    "version": 3
   },
   "file_extension": ".py",
   "mimetype": "text/x-python",
   "name": "python",
   "nbconvert_exporter": "python",
   "pygments_lexer": "ipython3",
   "version": "3.9.10"
  }
 },
 "nbformat": 4,
 "nbformat_minor": 5
}
