{
 "cells": [
  {
   "cell_type": "code",
   "execution_count": 68,
   "id": "a886bedb-aae9-45fb-ae4e-a28a7cb5b2e7",
   "metadata": {},
   "outputs": [],
   "source": [
    "import tensorflow as tf\n",
    "import os\n",
    "import shutil"
   ]
  },
  {
   "cell_type": "code",
   "execution_count": 69,
   "id": "bc7308b1-9e9a-4905-9d2a-6e19f6e3ae02",
   "metadata": {},
   "outputs": [],
   "source": [
    "from transformers import TFBertModel, BertConfig\n",
    "configuration = BertConfig()\n",
    "model = TFBertModel(configuration)\n",
    "configuration = model.config"
   ]
  },
  {
   "cell_type": "code",
   "execution_count": 70,
   "id": "7ca5c02a-3539-4377-902e-d5de3e5c4637",
   "metadata": {},
   "outputs": [],
   "source": [
    "import pandas as pd"
   ]
  },
  {
   "cell_type": "code",
   "execution_count": 71,
   "id": "83eaa77c-5f70-4aed-bd48-d5fc6ed1c113",
   "metadata": {},
   "outputs": [],
   "source": [
    "df = pd.read_excel(\"~/Desktop/data.xlsx\")"
   ]
  },
  {
   "cell_type": "code",
   "execution_count": 72,
   "id": "d4f203be-9458-490b-bb93-f78cf560e721",
   "metadata": {},
   "outputs": [],
   "source": [
    "df= df.dropna()\n",
    "df = df.drop_duplicates()"
   ]
  },
  {
   "cell_type": "code",
   "execution_count": 73,
   "id": "3220c04f-45e6-434a-8c12-44b4bfc366a5",
   "metadata": {},
   "outputs": [],
   "source": [
    "labels = [\"description\",\"explanation\",\"specification\",\"process\",\"advice\",\"definition\",\"distinction\",\"identification\",\"summary\",\"list\",\"justification\", \"example\",\"comparison\",\"categorization\",\"narrative\",\"cons\",\"pros\", \"argument\",\"elaboration\",\"historical\"]\n",
    "def get_label(string):\n",
    "    if isinstance(string, float):\n",
    "        print(\"HELLO HERE\")\n",
    "        print(string)\n",
    "        return 0\n",
    "    for label in labels:\n",
    "        if label.lower() in string.lower():\n",
    "            return label\n",
    "    print(string)\n",
    "    \n",
    "for s in df[\"label\"].to_list():\n",
    "    get_label(s)"
   ]
  },
  {
   "cell_type": "code",
   "execution_count": 74,
   "id": "9738344a-9180-4688-a2ec-29308210519b",
   "metadata": {},
   "outputs": [],
   "source": [
    "df[\"label2\"] = df[\"label\"].apply(get_label)"
   ]
  },
  {
   "cell_type": "code",
   "execution_count": 75,
   "id": "f60579a5-8f66-4af5-bca7-9c2afdd1b727",
   "metadata": {},
   "outputs": [
    {
     "data": {
      "text/html": [
       "<div>\n",
       "<style scoped>\n",
       "    .dataframe tbody tr th:only-of-type {\n",
       "        vertical-align: middle;\n",
       "    }\n",
       "\n",
       "    .dataframe tbody tr th {\n",
       "        vertical-align: top;\n",
       "    }\n",
       "\n",
       "    .dataframe thead th {\n",
       "        text-align: right;\n",
       "    }\n",
       "</style>\n",
       "<table border=\"1\" class=\"dataframe\">\n",
       "  <thead>\n",
       "    <tr style=\"text-align: right;\">\n",
       "      <th></th>\n",
       "      <th>string</th>\n",
       "      <th>question</th>\n",
       "      <th>label</th>\n",
       "      <th>label2</th>\n",
       "    </tr>\n",
       "  </thead>\n",
       "  <tbody>\n",
       "    <tr>\n",
       "      <th>0</th>\n",
       "      <td>Most apples are a little sweet and a little ta...</td>\n",
       "      <td>what does an apple taste like</td>\n",
       "      <td>A description and explanation of how apples taste</td>\n",
       "      <td>description</td>\n",
       "    </tr>\n",
       "    <tr>\n",
       "      <th>1</th>\n",
       "      <td>Apples rank among the world's most popular fru...</td>\n",
       "      <td>does apple taste good?</td>\n",
       "      <td>a summary of different uses for apples</td>\n",
       "      <td>summary</td>\n",
       "    </tr>\n",
       "    <tr>\n",
       "      <th>2</th>\n",
       "      <td>As white light passes through our atmosphere, ...</td>\n",
       "      <td>Why is the sky blue</td>\n",
       "      <td>explanation of why the sky is blue</td>\n",
       "      <td>explanation</td>\n",
       "    </tr>\n",
       "    <tr>\n",
       "      <th>3</th>\n",
       "      <td>In other words, the color of the ocean and the...</td>\n",
       "      <td>IS the sky blue because of the ocean?</td>\n",
       "      <td>a distinction between why the ocean is blue an...</td>\n",
       "      <td>distinction</td>\n",
       "    </tr>\n",
       "    <tr>\n",
       "      <th>4</th>\n",
       "      <td>Color of Sunlight as seen on Earth's surface d...</td>\n",
       "      <td>Why does the sun appear to be yellow even if t...</td>\n",
       "      <td>explanation of why the sun is yellow</td>\n",
       "      <td>explanation</td>\n",
       "    </tr>\n",
       "  </tbody>\n",
       "</table>\n",
       "</div>"
      ],
      "text/plain": [
       "                                              string  \\\n",
       "0  Most apples are a little sweet and a little ta...   \n",
       "1  Apples rank among the world's most popular fru...   \n",
       "2  As white light passes through our atmosphere, ...   \n",
       "3  In other words, the color of the ocean and the...   \n",
       "4  Color of Sunlight as seen on Earth's surface d...   \n",
       "\n",
       "                                            question  \\\n",
       "0                      what does an apple taste like   \n",
       "1                             does apple taste good?   \n",
       "2                                Why is the sky blue   \n",
       "3              IS the sky blue because of the ocean?   \n",
       "4  Why does the sun appear to be yellow even if t...   \n",
       "\n",
       "                                               label       label2  \n",
       "0  A description and explanation of how apples taste  description  \n",
       "1             a summary of different uses for apples      summary  \n",
       "2                 explanation of why the sky is blue  explanation  \n",
       "3  a distinction between why the ocean is blue an...  distinction  \n",
       "4               explanation of why the sun is yellow  explanation  "
      ]
     },
     "execution_count": 75,
     "metadata": {},
     "output_type": "execute_result"
    }
   ],
   "source": [
    "df.head()"
   ]
  },
  {
   "cell_type": "code",
   "execution_count": 76,
   "id": "ea28584d-b460-48ad-be98-38c3af0d5aad",
   "metadata": {},
   "outputs": [
    {
     "name": "stdout",
     "output_type": "stream",
     "text": [
      "Downloading data from https://ai.stanford.edu/~amaas/data/sentiment/aclImdb_v1.tar.gz\n",
      "84131840/84125825 [==============================] - 24s 0us/step\n"
     ]
    }
   ],
   "source": [
    "url = 'https://ai.stanford.edu/~amaas/data/sentiment/aclImdb_v1.tar.gz'\n",
    "\n",
    "dataset = tf.keras.utils.get_file('aclImdb_v1.tar.gz', url,\n",
    "                                  untar=True, cache_dir='.',\n",
    "                                  cache_subdir='')\n",
    "\n",
    "dataset_dir = os.path.join(os.path.dirname(dataset), 'aclImdb')\n",
    "\n",
    "train_dir = os.path.join(dataset_dir, 'train')\n",
    "\n",
    "# remove unused folders to make it easier to load the data\n",
    "remove_dir = os.path.join(train_dir, 'unsup')\n",
    "#shutil.rmtree(remove_dir)"
   ]
  },
  {
   "cell_type": "code",
   "execution_count": 79,
   "id": "91102dcc-6ac9-4358-998b-a62de9133312",
   "metadata": {},
   "outputs": [],
   "source": [
    "from sklearn.datasets import fetch_20newsgroups\n",
    "from sklearn.model_selection import train_test_split"
   ]
  },
  {
   "cell_type": "code",
   "execution_count": 80,
   "id": "902bd531-32cd-4c83-9d49-1a8a0fdcd355",
   "metadata": {},
   "outputs": [],
   "source": [
    "model_name = \"bert-base-uncased\"\n",
    "max_length = 512"
   ]
  },
  {
   "cell_type": "code",
   "execution_count": 81,
   "id": "7ceb40a7-9047-4ba3-bd5e-65de86eb7449",
   "metadata": {},
   "outputs": [
    {
     "data": {
      "application/vnd.jupyter.widget-view+json": {
       "model_id": "987dab0679e3476aa804181b3cffdad4",
       "version_major": 2,
       "version_minor": 0
      },
      "text/plain": [
       "Downloading:   0%|          | 0.00/28.0 [00:00<?, ?B/s]"
      ]
     },
     "metadata": {},
     "output_type": "display_data"
    },
    {
     "data": {
      "application/vnd.jupyter.widget-view+json": {
       "model_id": "e59c82ad8c8e4f8fbed7e50252bf4496",
       "version_major": 2,
       "version_minor": 0
      },
      "text/plain": [
       "Downloading:   0%|          | 0.00/226k [00:00<?, ?B/s]"
      ]
     },
     "metadata": {},
     "output_type": "display_data"
    },
    {
     "data": {
      "application/vnd.jupyter.widget-view+json": {
       "model_id": "61124a964799465f8638b12e4d69d222",
       "version_major": 2,
       "version_minor": 0
      },
      "text/plain": [
       "Downloading:   0%|          | 0.00/455k [00:00<?, ?B/s]"
      ]
     },
     "metadata": {},
     "output_type": "display_data"
    },
    {
     "data": {
      "application/vnd.jupyter.widget-view+json": {
       "model_id": "b954a6b5ce5e4e95889ec9baa437ad91",
       "version_major": 2,
       "version_minor": 0
      },
      "text/plain": [
       "Downloading:   0%|          | 0.00/570 [00:00<?, ?B/s]"
      ]
     },
     "metadata": {},
     "output_type": "display_data"
    }
   ],
   "source": [
    "from transformers import BertTokenizerFast\n",
    "tokenizer = BertTokenizerFast.from_pretrained(model_name, do_lower_case=True)"
   ]
  },
  {
   "cell_type": "code",
   "execution_count": 82,
   "id": "07faf15e-07a0-4c25-a099-afa4aa2318c7",
   "metadata": {},
   "outputs": [],
   "source": [
    "dataset = fetch_20newsgroups(subset=\"all\", shuffle=True, remove=(\"headers\",\"footers\", \"quotes\"))\n",
    "target_names=dataset.target_names\n",
    "news_text = dataset.data\n",
    "labels = dataset.target\n",
    "(train_texts,valid_texts,train_labels,valid_labels)=train_test_split(news_text, labels, test_size=0.3)\n",
    "from transformers import BertTokenizerFast, BertForSequenceClassification"
   ]
  },
  {
   "cell_type": "code",
   "execution_count": 83,
   "id": "e46e9a91-54b5-4a4b-8866-1cdd3dbc7ee6",
   "metadata": {},
   "outputs": [
    {
     "name": "stdout",
     "output_type": "stream",
     "text": [
      "Ignored unknown kwarg option direction\n"
     ]
    }
   ],
   "source": [
    "train_encodings = tokenizer(train_texts, truncation=True, padding=True, max_length=max_length)\n"
   ]
  },
  {
   "cell_type": "code",
   "execution_count": 86,
   "id": "8d31f595-b679-458d-bf7c-f972a7cf18a2",
   "metadata": {},
   "outputs": [
    {
     "name": "stderr",
     "output_type": "stream",
     "text": [
      "Some weights of the model checkpoint at bert-base-uncased were not used when initializing BertForSequenceClassification: ['cls.seq_relationship.bias', 'cls.predictions.transform.dense.weight', 'cls.predictions.transform.LayerNorm.weight', 'cls.predictions.transform.LayerNorm.bias', 'cls.predictions.bias', 'cls.predictions.transform.dense.bias', 'cls.seq_relationship.weight', 'cls.predictions.decoder.weight']\n",
      "- This IS expected if you are initializing BertForSequenceClassification from the checkpoint of a model trained on another task or with another architecture (e.g. initializing a BertForSequenceClassification model from a BertForPreTraining model).\n",
      "- This IS NOT expected if you are initializing BertForSequenceClassification from the checkpoint of a model that you expect to be exactly identical (initializing a BertForSequenceClassification model from a BertForSequenceClassification model).\n",
      "Some weights of BertForSequenceClassification were not initialized from the model checkpoint at bert-base-uncased and are newly initialized: ['classifier.bias', 'classifier.weight']\n",
      "You should probably TRAIN this model on a down-stream task to be able to use it for predictions and inference.\n"
     ]
    }
   ],
   "source": [
    "model=BertForSequenceClassification.from_pretrained(model_name, num_labels=len(target_names))\n",
    "from transformers import Trainer, TrainingArguments\n",
    "training_args = TrainingArguments(\n",
    "    num_train_epochs=10,\n",
    "    per_device_train_batch_size=16,  # batch size per device during training\n",
    "    weight_decay=0.01,               # strength of weight decay\n",
    "    load_best_model_at_end=True,\n",
    "    logging_steps=100,\n",
    "    evaluation_strategy=\"steps\",\n",
    "    output_dir = \"output_dir\"\n",
    ")"
   ]
  },
  {
   "cell_type": "code",
   "execution_count": 87,
   "id": "c82ba203-e5a2-434e-825f-4a68429c5941",
   "metadata": {},
   "outputs": [
    {
     "ename": "NameError",
     "evalue": "name 'train_datasetataset' is not defined",
     "output_type": "error",
     "traceback": [
      "\u001b[0;31m---------------------------------------------------------------------------\u001b[0m",
      "\u001b[0;31mNameError\u001b[0m                                 Traceback (most recent call last)",
      "\u001b[0;32m/var/folders/p5/yr0k45bj1479hhqn58wy7gc40000gn/T/ipykernel_78224/4028040000.py\u001b[0m in \u001b[0;36m<module>\u001b[0;34m\u001b[0m\n\u001b[0;32m----> 1\u001b[0;31m \u001b[0mtrainer\u001b[0m \u001b[0;34m=\u001b[0m \u001b[0mTrainer\u001b[0m\u001b[0;34m(\u001b[0m \u001b[0mmodel\u001b[0m\u001b[0;34m=\u001b[0m\u001b[0mmodel\u001b[0m\u001b[0;34m,\u001b[0m\u001b[0margs\u001b[0m\u001b[0;34m=\u001b[0m\u001b[0mtraining_args\u001b[0m\u001b[0;34m,\u001b[0m\u001b[0mtrain_dataset\u001b[0m\u001b[0;34m=\u001b[0m\u001b[0mtrain_datasetataset\u001b[0m\u001b[0;34m)\u001b[0m\u001b[0;34m\u001b[0m\u001b[0;34m\u001b[0m\u001b[0m\n\u001b[0m\u001b[1;32m      2\u001b[0m \u001b[0mtrainer\u001b[0m\u001b[0;34m.\u001b[0m\u001b[0mtrain\u001b[0m\u001b[0;34m(\u001b[0m\u001b[0;34m)\u001b[0m\u001b[0;34m\u001b[0m\u001b[0;34m\u001b[0m\u001b[0m\n",
      "\u001b[0;31mNameError\u001b[0m: name 'train_datasetataset' is not defined"
     ]
    }
   ],
   "source": [
    "trainer = Trainer( model=model,args=training_args,train_dataset=train_datasetataset)\n",
    "trainer.train()"
   ]
  },
  {
   "cell_type": "code",
   "execution_count": null,
   "id": "3e3d4055-ddfb-4069-85b1-37631ce5748b",
   "metadata": {},
   "outputs": [],
   "source": []
  }
 ],
 "metadata": {
  "kernelspec": {
   "display_name": "Python 3 (ipykernel)",
   "language": "python",
   "name": "python3"
  },
  "language_info": {
   "codemirror_mode": {
    "name": "ipython",
    "version": 3
   },
   "file_extension": ".py",
   "mimetype": "text/x-python",
   "name": "python",
   "nbconvert_exporter": "python",
   "pygments_lexer": "ipython3",
   "version": "3.9.10"
  }
 },
 "nbformat": 4,
 "nbformat_minor": 5
}
