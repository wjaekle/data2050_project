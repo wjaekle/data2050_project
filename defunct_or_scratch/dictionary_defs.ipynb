{
 "cells": [
  {
   "cell_type": "code",
   "execution_count": 30,
   "id": "bdc80b6c-181a-44e3-9a5b-5626dafe5d4c",
   "metadata": {},
   "outputs": [],
   "source": [
    "import requests\n",
    "import time"
   ]
  },
  {
   "cell_type": "code",
   "execution_count": 31,
   "id": "8067fcec-1729-4e9e-9dc8-80c3b9f49655",
   "metadata": {},
   "outputs": [],
   "source": [
    "url = \"https://api.dictionaryapi.dev/api/v2/entries/en/\"\n",
    "\n",
    "random_word_url = \"https://random-word-api.herokuapp.com/word\""
   ]
  },
  {
   "cell_type": "code",
   "execution_count": 32,
   "id": "19458168-3848-40a2-b6bd-1da89f63de07",
   "metadata": {},
   "outputs": [],
   "source": [
    "word = requests.get(random_word_url)"
   ]
  },
  {
   "cell_type": "code",
   "execution_count": 33,
   "id": "44a43c1c-7709-44e1-ac2e-91b4d679e32a",
   "metadata": {},
   "outputs": [
    {
     "data": {
      "text/plain": [
       "'whimsy'"
      ]
     },
     "execution_count": 33,
     "metadata": {},
     "output_type": "execute_result"
    }
   ],
   "source": [
    "word.json()[0]"
   ]
  },
  {
   "cell_type": "code",
   "execution_count": 34,
   "id": "1df6444a-2694-43e1-952c-21af3f7df6ed",
   "metadata": {},
   "outputs": [],
   "source": [
    "definition = requests.get(url+word.json()[0])"
   ]
  },
  {
   "cell_type": "code",
   "execution_count": 35,
   "id": "a02f320e-8a4e-4bd4-8e52-6f44781128f4",
   "metadata": {},
   "outputs": [
    {
     "data": {
      "text/plain": [
       "[{'word': 'whimsy',\n",
       "  'phonetic': '/ˈwɪmzi/',\n",
       "  'phonetics': [{'text': '/ˈwɪmzi/',\n",
       "    'audio': 'https://api.dictionaryapi.dev/media/pronunciations/en/whimsy-uk.mp3',\n",
       "    'sourceUrl': 'https://commons.wikimedia.org/w/index.php?curid=89013257',\n",
       "    'license': {'name': 'BY-SA 4.0',\n",
       "     'url': 'https://creativecommons.org/licenses/by-sa/4.0'}}],\n",
       "  'meanings': [{'partOfSpeech': 'noun',\n",
       "    'definitions': [{'definition': 'A quaint and fanciful idea; a whim; playfully odd behaviour.',\n",
       "      'synonyms': [],\n",
       "      'antonyms': []},\n",
       "     {'definition': 'An impulsive, illogical or capricious character.',\n",
       "      'synonyms': [],\n",
       "      'antonyms': []},\n",
       "     {'definition': 'A whim (capstan or vertical drum).',\n",
       "      'synonyms': [],\n",
       "      'antonyms': []},\n",
       "     {'definition': 'A jigsaw puzzle piece that has been cut into a recognizable shape, as if on a whim; often the shape is representative of the theme of the image used for the puzzle.',\n",
       "      'synonyms': [],\n",
       "      'antonyms': []}],\n",
       "    'synonyms': [],\n",
       "    'antonyms': []},\n",
       "   {'partOfSpeech': 'verb',\n",
       "    'definitions': [{'definition': 'To fill with whimsies or whims; to make fantastic; to craze.',\n",
       "      'synonyms': [],\n",
       "      'antonyms': []}],\n",
       "    'synonyms': [],\n",
       "    'antonyms': []}],\n",
       "  'license': {'name': 'CC BY-SA 3.0',\n",
       "   'url': 'https://creativecommons.org/licenses/by-sa/3.0'},\n",
       "  'sourceUrls': ['https://en.wiktionary.org/wiki/whimsy']}]"
      ]
     },
     "execution_count": 35,
     "metadata": {},
     "output_type": "execute_result"
    }
   ],
   "source": [
    "definition.json()"
   ]
  },
  {
   "cell_type": "code",
   "execution_count": 36,
   "id": "b51bab82-0555-4c8b-b163-a7b4b6ba5c34",
   "metadata": {},
   "outputs": [],
   "source": [
    "definitions = []\n",
    "for i in range(1000):\n",
    "    time.sleep(.1)\n",
    "    try:\n",
    "        word = requests.get(random_word_url).json()[0]\n",
    "    except:\n",
    "        continue\n",
    "    try:\n",
    "        definitions.append(requests.get(url+word).json())\n",
    "    except:\n",
    "        continue"
   ]
  },
  {
   "cell_type": "code",
   "execution_count": null,
   "id": "5e311f0c-eb18-4fb9-9b10-0d4513f0f08b",
   "metadata": {},
   "outputs": [],
   "source": [
    "for d in definitions:\n",
    "    if isinstance(d,list) and len(d) > 1:\n",
    "        print(d[0])\n",
    "        print(d[1])\n",
    "        break"
   ]
  },
  {
   "cell_type": "code",
   "execution_count": 1,
   "id": "00393d97-ab80-40f5-a699-ef2d50b98279",
   "metadata": {},
   "outputs": [],
   "source": [
    "###"
   ]
  },
  {
   "cell_type": "code",
   "execution_count": 20,
   "id": "dda4180c-5177-43a9-8e15-a25b213dfa6d",
   "metadata": {},
   "outputs": [],
   "source": [
    "import requests\n",
    "import json\n",
    "app_id = \"e85c3afb\"\n",
    "app_key = \"a84c519bdc9797058fc0f4bcaf514758\"\n",
    "language = \"en-gb\"\n",
    "word_id = \"Hello\"\n",
    "responses = []"
   ]
  },
  {
   "cell_type": "code",
   "execution_count": 9,
   "id": "b906ca5b-c597-4223-882e-c151462ee36c",
   "metadata": {},
   "outputs": [],
   "source": [
    "import json\n",
    "import time"
   ]
  },
  {
   "cell_type": "code",
   "execution_count": 24,
   "id": "2d7fad06-39ce-4681-ab1d-026a5322566e",
   "metadata": {},
   "outputs": [],
   "source": [
    "random_word_url = \"https://random-word-api.herokuapp.com/word\"\n",
    "\n",
    "for i in range(450):\n",
    "    time.sleep(1.2)\n",
    "    try:\n",
    "        word = requests.get(random_word_url).json()[0]\n",
    "    except:\n",
    "        continue\n",
    "    url = \"https://od-api.oxforddictionaries.com:443/api/v2/entries/\" + language + \"/\" + word.lower()\n",
    "    r = requests.get(url, headers={\"app_id\": app_id, \"app_key\": app_key})\n",
    "    responses.append(r.json())"
   ]
  },
  {
   "cell_type": "code",
   "execution_count": 22,
   "id": "4df80a6d-4c0d-483b-b381-4fb762a1a89e",
   "metadata": {},
   "outputs": [
    {
     "data": {
      "text/plain": [
       "[{'id': 'rescissory',\n",
       "  'metadata': {'operation': 'retrieve',\n",
       "   'provider': 'Oxford University Press',\n",
       "   'schema': 'RetrieveEntry'},\n",
       "  'results': [{'id': 'rescissory',\n",
       "    'language': 'en-gb',\n",
       "    'lexicalEntries': [{'entries': [{'etymologies': ['early 17th century; earliest use found in Samuel Daniel (?1563–1619), poet and historian. From classical Latin rescissōrius concerned with cancelling or annulling (late 2nd or early 3rd century a.d.) from resciss-, past participial stem of rescindere + -ōrius'],\n",
       "        'senses': [{'definitions': ['Of an action: that annuls or cancels a deed or other legal instrument. In early use frequently as postpositive.'],\n",
       "          'domains': [{'id': 'scots_law', 'text': 'Scots_Law'}],\n",
       "          'id': 'm_en_gb_oed163397.004'},\n",
       "         {'definitions': ['Of a legislative act or clause within such an act: that repeals or revokes existing legislation; specifically designating the act passed by the Scottish Parliament in 1661 which rescinded all the acts of the parliaments held from 1633. Frequently as postpositive.'],\n",
       "          'domains': [{'id': 'scots_law', 'text': 'Scots_Law'}],\n",
       "          'id': 'm_en_gb_oed163397.005',\n",
       "          'registers': [{'id': 'historical', 'text': 'Historical'}]}],\n",
       "        'variantForms': [{'text': 'recissory'}]}],\n",
       "      'language': 'en-gb',\n",
       "      'lexicalCategory': {'id': 'adjective', 'text': 'Adjective'},\n",
       "      'text': 'rescissory'}],\n",
       "    'type': 'headword',\n",
       "    'word': 'rescissory'}],\n",
       "  'word': 'rescissory'},\n",
       " {'id': 'polymer',\n",
       "  'metadata': {'operation': 'retrieve',\n",
       "   'provider': 'Oxford University Press',\n",
       "   'schema': 'RetrieveEntry'},\n",
       "  'results': [{'id': 'polymer',\n",
       "    'language': 'en-gb',\n",
       "    'lexicalEntries': [{'derivatives': [{'id': 'polymeric',\n",
       "        'text': 'polymeric'},\n",
       "       {'id': 'polymerism', 'text': 'polymerism'}],\n",
       "      'entries': [{'etymologies': ['mid 19th century: from German, from Greek polumeros ‘having many parts’, from polu- ‘many’ + meros ‘a share’'],\n",
       "        'pronunciations': [{'audioFile': 'https://audio.oxforddictionaries.com/en/mp3/polymer__gb_1.mp3',\n",
       "          'dialects': ['British English'],\n",
       "          'phoneticNotation': 'IPA',\n",
       "          'phoneticSpelling': 'ˈpɒlɪmə'}],\n",
       "        'senses': [{'definitions': ['a substance which has a molecular structure built up chiefly or completely from a large number of similar units bonded together, e.g. many synthetic organic materials used as plastics and resins.'],\n",
       "          'domainClasses': [{'id': 'chemistry', 'text': 'Chemistry'}],\n",
       "          'domains': [{'id': 'chemistry', 'text': 'Chemistry'}],\n",
       "          'id': 'm_en_gbus0796960.005',\n",
       "          'semanticClasses': [{'id': 'chemical', 'text': 'Chemical'}],\n",
       "          'shortDefinitions': ['substance which has molecular structure built up']}]}],\n",
       "      'language': 'en-gb',\n",
       "      'lexicalCategory': {'id': 'noun', 'text': 'Noun'},\n",
       "      'text': 'polymer'}],\n",
       "    'type': 'headword',\n",
       "    'word': 'polymer'}],\n",
       "  'word': 'polymer'},\n",
       " {'id': 'assumption',\n",
       "  'metadata': {'operation': 'retrieve',\n",
       "   'provider': 'Oxford University Press',\n",
       "   'schema': 'RetrieveEntry'},\n",
       "  'results': [{'id': 'assumption',\n",
       "    'language': 'en-gb',\n",
       "    'lexicalEntries': [{'entries': [{'etymologies': ['Middle English (in assumption (sense 3)): from Old French asompsion or Latin assumptio(n-), from the verb assumere (see assume)'],\n",
       "        'pronunciations': [{'audioFile': 'https://audio.oxforddictionaries.com/en/mp3/assumption__gb_2.mp3',\n",
       "          'dialects': ['British English'],\n",
       "          'phoneticNotation': 'IPA',\n",
       "          'phoneticSpelling': 'əˈsʌm(p)ʃn'}],\n",
       "        'senses': [{'definitions': ['a thing that is accepted as true or as certain to happen, without proof'],\n",
       "          'examples': [{'text': 'they made certain assumptions about the market'},\n",
       "           {'notes': [{'text': 'with clause', 'type': 'grammaticalNote'}],\n",
       "            'text': \"we're working on the assumption that the time of death was after midnight\"}],\n",
       "          'id': 'm_en_gbus0053280.006',\n",
       "          'semanticClasses': [{'id': 'belief', 'text': 'Belief'}],\n",
       "          'shortDefinitions': ['thing accepted as true or certain to happen'],\n",
       "          'synonyms': [{'language': 'en', 'text': 'supposition'},\n",
       "           {'language': 'en', 'text': 'presupposition'},\n",
       "           {'language': 'en', 'text': 'presumption'},\n",
       "           {'language': 'en', 'text': 'premise'},\n",
       "           {'language': 'en', 'text': 'belief'},\n",
       "           {'language': 'en', 'text': 'expectation'},\n",
       "           {'language': 'en', 'text': 'conjecture'},\n",
       "           {'language': 'en', 'text': 'speculation'},\n",
       "           {'language': 'en', 'text': 'surmise'},\n",
       "           {'language': 'en', 'text': 'guess'},\n",
       "           {'language': 'en', 'text': 'theory'},\n",
       "           {'language': 'en', 'text': 'hypothesis'},\n",
       "           {'language': 'en', 'text': 'postulation'},\n",
       "           {'language': 'en', 'text': 'conclusion'},\n",
       "           {'language': 'en', 'text': 'deduction'},\n",
       "           {'language': 'en', 'text': 'inference'},\n",
       "           {'language': 'en', 'text': 'thought'},\n",
       "           {'language': 'en', 'text': 'suspicion'},\n",
       "           {'language': 'en', 'text': 'notion'},\n",
       "           {'language': 'en', 'text': 'impression'},\n",
       "           {'language': 'en', 'text': 'fancy'}],\n",
       "          'thesaurusLinks': [{'entry_id': 'assumption',\n",
       "            'sense_id': 't_en_gb0000911.001'}]},\n",
       "         {'definitions': ['the action of taking on power or responsibility'],\n",
       "          'examples': [{'text': 'the assumption of an active role in regional settlements'}],\n",
       "          'id': 'm_en_gbus0053280.010',\n",
       "          'notes': [{'text': 'mass noun', 'type': 'grammaticalNote'}],\n",
       "          'semanticClasses': [{'id': 'action', 'text': 'Action'}],\n",
       "          'shortDefinitions': ['taking on of power or responsibility'],\n",
       "          'synonyms': [{'language': 'en', 'text': 'acceptance'},\n",
       "           {'language': 'en', 'text': 'shouldering'},\n",
       "           {'language': 'en', 'text': 'handling'},\n",
       "           {'language': 'en', 'text': 'managing'},\n",
       "           {'language': 'en', 'text': 'tackling'},\n",
       "           {'language': 'en', 'text': 'taking on'},\n",
       "           {'language': 'en', 'text': 'seizure'},\n",
       "           {'language': 'en', 'text': 'seizing'},\n",
       "           {'language': 'en', 'text': 'taking'},\n",
       "           {'language': 'en', 'text': 'taking over'},\n",
       "           {'language': 'en', 'text': 'taking away'},\n",
       "           {'language': 'en', 'text': 'appropriation'},\n",
       "           {'language': 'en', 'text': 'appropriating'},\n",
       "           {'language': 'en', 'text': 'commandeering'},\n",
       "           {'language': 'en', 'text': 'expropriation'},\n",
       "           {'language': 'en', 'text': 'expropriating'},\n",
       "           {'language': 'en', 'text': 'confiscation'},\n",
       "           {'language': 'en', 'text': 'confiscating'},\n",
       "           {'language': 'en', 'text': 'requisition'},\n",
       "           {'language': 'en', 'text': 'requisitioning'},\n",
       "           {'language': 'en', 'text': 'hijack'},\n",
       "           {'language': 'en', 'text': 'hijacking'},\n",
       "           {'language': 'en', 'text': 'wresting'},\n",
       "           {'language': 'en', 'text': 'usurping'},\n",
       "           {'language': 'en', 'text': 'pre-empting'},\n",
       "           {'language': 'en', 'text': 'arrogation'},\n",
       "           {'language': 'en', 'text': 'claiming'}],\n",
       "          'thesaurusLinks': [{'entry_id': 'assumption',\n",
       "            'sense_id': 't_en_gb0000911.003'},\n",
       "           {'entry_id': 'assumption', 'sense_id': 't_en_gb0000911.004'}]},\n",
       "         {'definitions': ['the reception of the Virgin Mary bodily into heaven. This was formally declared a doctrine of the Roman Catholic Church in 1950.'],\n",
       "          'domainClasses': [{'id': 'christian', 'text': 'Christian'}],\n",
       "          'id': 'm_en_gbus0053280.013',\n",
       "          'semanticClasses': [{'id': 'mythical_event',\n",
       "            'text': 'Mythical_Event'}],\n",
       "          'shortDefinitions': ['reception of Virgin Mary into heaven'],\n",
       "          'subsenses': [{'definitions': ['the feast in honour of the Assumption, celebrated on 15 August.'],\n",
       "            'domainClasses': [{'id': 'roman_catholic_church',\n",
       "              'text': 'Roman_Catholic_Church'}],\n",
       "            'id': 'm_en_gbus0053280.016',\n",
       "            'semanticClasses': [{'id': 'festival', 'text': 'Festival'}],\n",
       "            'shortDefinitions': ['feast in honour of Assumption']}],\n",
       "          'variantForms': [{'text': 'Assumption'}]},\n",
       "         {'definitions': ['arrogance or presumption.'],\n",
       "          'id': 'm_en_gbus0053280.018',\n",
       "          'notes': [{'text': 'mass noun', 'type': 'grammaticalNote'}],\n",
       "          'registers': [{'id': 'archaic', 'text': 'Archaic'}],\n",
       "          'semanticClasses': [{'id': 'arrogance', 'text': 'Arrogance'}],\n",
       "          'shortDefinitions': ['arrogance or presumption']}]}],\n",
       "      'language': 'en-gb',\n",
       "      'lexicalCategory': {'id': 'noun', 'text': 'Noun'},\n",
       "      'text': 'assumption'}],\n",
       "    'type': 'headword',\n",
       "    'word': 'assumption'}],\n",
       "  'word': 'assumption'},\n",
       " {'error': 'No entry found matching supplied source_lang, word and provided filters'},\n",
       " {'error': 'No entry found matching supplied source_lang, word and provided filters'}]"
      ]
     },
     "execution_count": 22,
     "metadata": {},
     "output_type": "execute_result"
    }
   ],
   "source": [
    "responses"
   ]
  },
  {
   "cell_type": "code",
   "execution_count": 37,
   "id": "98a1ed99-c9e4-4143-a3e8-7dda1de007a6",
   "metadata": {},
   "outputs": [],
   "source": [
    "with open('definitions6.json', 'w', encoding='utf-8') as f:\n",
    "    json.dump(definitions, f, ensure_ascii=False, indent=4)"
   ]
  },
  {
   "cell_type": "code",
   "execution_count": 29,
   "id": "09a0a29a-edd5-4794-b779-a406ed3ee636",
   "metadata": {},
   "outputs": [
    {
     "data": {
      "text/plain": [
       "166"
      ]
     },
     "execution_count": 29,
     "metadata": {},
     "output_type": "execute_result"
    }
   ],
   "source": [
    "count = 0\n",
    "for item in responses:\n",
    "    if \"error\" not in item.keys():\n",
    "        count +=1\n",
    "count"
   ]
  },
  {
   "cell_type": "code",
   "execution_count": 28,
   "id": "1995169c-9ff4-4bff-b514-781e5ce3de73",
   "metadata": {},
   "outputs": [
    {
     "data": {
      "text/plain": [
       "dict_keys(['error'])"
      ]
     },
     "execution_count": 28,
     "metadata": {},
     "output_type": "execute_result"
    }
   ],
   "source": [
    "responses[92].keys()"
   ]
  },
  {
   "cell_type": "code",
   "execution_count": null,
   "id": "fd7b9464-7de5-4d70-b86d-db6ffca43ae0",
   "metadata": {},
   "outputs": [],
   "source": []
  }
 ],
 "metadata": {
  "kernelspec": {
   "display_name": "Python 3.9 (tensorflow)",
   "language": "python",
   "name": "tensorflow"
  },
  "language_info": {
   "codemirror_mode": {
    "name": "ipython",
    "version": 3
   },
   "file_extension": ".py",
   "mimetype": "text/x-python",
   "name": "python",
   "nbconvert_exporter": "python",
   "pygments_lexer": "ipython3",
   "version": "3.9.12"
  }
 },
 "nbformat": 4,
 "nbformat_minor": 5
}
