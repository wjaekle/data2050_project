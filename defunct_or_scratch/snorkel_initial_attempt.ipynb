{
 "cells": [
  {
   "cell_type": "code",
   "execution_count": 4,
   "metadata": {},
   "outputs": [],
   "source": [
    "from snorkel.labeling import labeling_function,PandasLFApplier\n",
    "import snorkel\n",
    "import re\n",
    "import numpy as np\n",
    "import torch"
   ]
  },
  {
   "cell_type": "code",
   "execution_count": 5,
   "metadata": {},
   "outputs": [
    {
     "name": "stderr",
     "output_type": "stream",
     "text": [
      "Found cached dataset eli5 (C:/Users/Don Jaekle/.cache/huggingface/datasets/eli5/LFQA_reddit/1.0.0/17574e5502a10f41bbd17beba83e22475b499fa62caa1384a3d093fc856fe6fa)\n"
     ]
    },
    {
     "data": {
      "application/vnd.jupyter.widget-view+json": {
       "model_id": "023146433afa427dbb447f7de06d9417",
       "version_major": 2,
       "version_minor": 0
      },
      "text/plain": [
       "  0%|          | 0/9 [00:00<?, ?it/s]"
      ]
     },
     "metadata": {},
     "output_type": "display_data"
    }
   ],
   "source": [
    "from datasets import load_dataset\n",
    "\n",
    "dataset = load_dataset(\"eli5\")"
   ]
  },
  {
   "cell_type": "code",
   "execution_count": 6,
   "metadata": {},
   "outputs": [],
   "source": [
    "import pandas as pd"
   ]
  },
  {
   "cell_type": "code",
   "execution_count": 3,
   "metadata": {},
   "outputs": [
    {
     "ename": "KeyboardInterrupt",
     "evalue": "",
     "output_type": "error",
     "traceback": [
      "\u001b[1;31m---------------------------------------------------------------------------\u001b[0m",
      "\u001b[1;31mKeyboardInterrupt\u001b[0m                         Traceback (most recent call last)",
      "\u001b[1;32m<ipython-input-3-2409ae0653df>\u001b[0m in \u001b[0;36m<module>\u001b[1;34m\u001b[0m\n\u001b[1;32m----> 1\u001b[1;33m \u001b[0mdf\u001b[0m \u001b[1;33m=\u001b[0m \u001b[0mpd\u001b[0m\u001b[1;33m.\u001b[0m\u001b[0mDataFrame\u001b[0m\u001b[1;33m(\u001b[0m\u001b[0mdataset\u001b[0m\u001b[1;33m[\u001b[0m\u001b[1;34m\"train_eli5\"\u001b[0m\u001b[1;33m]\u001b[0m\u001b[1;33m)\u001b[0m\u001b[1;33m\u001b[0m\u001b[1;33m\u001b[0m\u001b[0m\n\u001b[0m",
      "\u001b[1;32mC:\\python\\anaconda3\\lib\\site-packages\\pandas\\core\\frame.py\u001b[0m in \u001b[0;36m__init__\u001b[1;34m(self, data, index, columns, dtype, copy)\u001b[0m\n\u001b[0;32m    500\u001b[0m         \u001b[1;32melif\u001b[0m \u001b[0misinstance\u001b[0m\u001b[1;33m(\u001b[0m\u001b[0mdata\u001b[0m\u001b[1;33m,\u001b[0m \u001b[0mabc\u001b[0m\u001b[1;33m.\u001b[0m\u001b[0mIterable\u001b[0m\u001b[1;33m)\u001b[0m \u001b[1;32mand\u001b[0m \u001b[1;32mnot\u001b[0m \u001b[0misinstance\u001b[0m\u001b[1;33m(\u001b[0m\u001b[0mdata\u001b[0m\u001b[1;33m,\u001b[0m \u001b[1;33m(\u001b[0m\u001b[0mstr\u001b[0m\u001b[1;33m,\u001b[0m \u001b[0mbytes\u001b[0m\u001b[1;33m)\u001b[0m\u001b[1;33m)\u001b[0m\u001b[1;33m:\u001b[0m\u001b[1;33m\u001b[0m\u001b[1;33m\u001b[0m\u001b[0m\n\u001b[0;32m    501\u001b[0m             \u001b[1;32mif\u001b[0m \u001b[1;32mnot\u001b[0m \u001b[0misinstance\u001b[0m\u001b[1;33m(\u001b[0m\u001b[0mdata\u001b[0m\u001b[1;33m,\u001b[0m \u001b[1;33m(\u001b[0m\u001b[0mabc\u001b[0m\u001b[1;33m.\u001b[0m\u001b[0mSequence\u001b[0m\u001b[1;33m,\u001b[0m \u001b[0mExtensionArray\u001b[0m\u001b[1;33m)\u001b[0m\u001b[1;33m)\u001b[0m\u001b[1;33m:\u001b[0m\u001b[1;33m\u001b[0m\u001b[1;33m\u001b[0m\u001b[0m\n\u001b[1;32m--> 502\u001b[1;33m                 \u001b[0mdata\u001b[0m \u001b[1;33m=\u001b[0m \u001b[0mlist\u001b[0m\u001b[1;33m(\u001b[0m\u001b[0mdata\u001b[0m\u001b[1;33m)\u001b[0m\u001b[1;33m\u001b[0m\u001b[1;33m\u001b[0m\u001b[0m\n\u001b[0m\u001b[0;32m    503\u001b[0m             \u001b[1;32mif\u001b[0m \u001b[0mlen\u001b[0m\u001b[1;33m(\u001b[0m\u001b[0mdata\u001b[0m\u001b[1;33m)\u001b[0m \u001b[1;33m>\u001b[0m \u001b[1;36m0\u001b[0m\u001b[1;33m:\u001b[0m\u001b[1;33m\u001b[0m\u001b[1;33m\u001b[0m\u001b[0m\n\u001b[0;32m    504\u001b[0m                 \u001b[1;32mif\u001b[0m \u001b[0mis_dataclass\u001b[0m\u001b[1;33m(\u001b[0m\u001b[0mdata\u001b[0m\u001b[1;33m[\u001b[0m\u001b[1;36m0\u001b[0m\u001b[1;33m]\u001b[0m\u001b[1;33m)\u001b[0m\u001b[1;33m:\u001b[0m\u001b[1;33m\u001b[0m\u001b[1;33m\u001b[0m\u001b[0m\n",
      "\u001b[1;32mC:\\python\\anaconda3\\lib\\site-packages\\datasets\\arrow_dataset.py\u001b[0m in \u001b[0;36m__iter__\u001b[1;34m(self)\u001b[0m\n\u001b[0;32m   2180\u001b[0m             \u001b[0mformatter\u001b[0m \u001b[1;33m=\u001b[0m \u001b[0mget_formatter\u001b[0m\u001b[1;33m(\u001b[0m\u001b[0mself\u001b[0m\u001b[1;33m.\u001b[0m\u001b[0m_format_type\u001b[0m\u001b[1;33m,\u001b[0m \u001b[0mfeatures\u001b[0m\u001b[1;33m=\u001b[0m\u001b[0mself\u001b[0m\u001b[1;33m.\u001b[0m\u001b[0mfeatures\u001b[0m\u001b[1;33m,\u001b[0m \u001b[1;33m**\u001b[0m\u001b[0mformat_kwargs\u001b[0m\u001b[1;33m)\u001b[0m\u001b[1;33m\u001b[0m\u001b[1;33m\u001b[0m\u001b[0m\n\u001b[0;32m   2181\u001b[0m             \u001b[0mbatch_size\u001b[0m \u001b[1;33m=\u001b[0m \u001b[0mconfig\u001b[0m\u001b[1;33m.\u001b[0m\u001b[0mARROW_READER_BATCH_SIZE_IN_DATASET_ITER\u001b[0m\u001b[1;33m\u001b[0m\u001b[1;33m\u001b[0m\u001b[0m\n\u001b[1;32m-> 2182\u001b[1;33m             \u001b[1;32mfor\u001b[0m \u001b[0mpa_subtable\u001b[0m \u001b[1;32min\u001b[0m \u001b[0mtable_iter\u001b[0m\u001b[1;33m(\u001b[0m\u001b[0mself\u001b[0m\u001b[1;33m.\u001b[0m\u001b[0mdata\u001b[0m\u001b[1;33m,\u001b[0m \u001b[0mbatch_size\u001b[0m\u001b[1;33m=\u001b[0m\u001b[0mbatch_size\u001b[0m\u001b[1;33m)\u001b[0m\u001b[1;33m:\u001b[0m\u001b[1;33m\u001b[0m\u001b[1;33m\u001b[0m\u001b[0m\n\u001b[0m\u001b[0;32m   2183\u001b[0m                 \u001b[1;32mfor\u001b[0m \u001b[0mi\u001b[0m \u001b[1;32min\u001b[0m \u001b[0mrange\u001b[0m\u001b[1;33m(\u001b[0m\u001b[0mpa_subtable\u001b[0m\u001b[1;33m.\u001b[0m\u001b[0mnum_rows\u001b[0m\u001b[1;33m)\u001b[0m\u001b[1;33m:\u001b[0m\u001b[1;33m\u001b[0m\u001b[1;33m\u001b[0m\u001b[0m\n\u001b[0;32m   2184\u001b[0m                     \u001b[0mpa_subtable_ex\u001b[0m \u001b[1;33m=\u001b[0m \u001b[0mpa_subtable\u001b[0m\u001b[1;33m.\u001b[0m\u001b[0mslice\u001b[0m\u001b[1;33m(\u001b[0m\u001b[0mi\u001b[0m\u001b[1;33m,\u001b[0m \u001b[1;36m1\u001b[0m\u001b[1;33m)\u001b[0m\u001b[1;33m\u001b[0m\u001b[1;33m\u001b[0m\u001b[0m\n",
      "\u001b[1;32mC:\\python\\anaconda3\\lib\\site-packages\\datasets\\table.py\u001b[0m in \u001b[0;36mtable_iter\u001b[1;34m(table, batch_size, drop_last_batch)\u001b[0m\n\u001b[0;32m   2382\u001b[0m     \u001b[0mchunks_buffer_size\u001b[0m \u001b[1;33m=\u001b[0m \u001b[1;36m0\u001b[0m\u001b[1;33m\u001b[0m\u001b[1;33m\u001b[0m\u001b[0m\n\u001b[0;32m   2383\u001b[0m     \u001b[1;32mfor\u001b[0m \u001b[0mchunk\u001b[0m \u001b[1;32min\u001b[0m \u001b[0mtable\u001b[0m\u001b[1;33m.\u001b[0m\u001b[0mto_reader\u001b[0m\u001b[1;33m(\u001b[0m\u001b[0mmax_chunksize\u001b[0m\u001b[1;33m=\u001b[0m\u001b[0mbatch_size\u001b[0m\u001b[1;33m)\u001b[0m\u001b[1;33m:\u001b[0m\u001b[1;33m\u001b[0m\u001b[1;33m\u001b[0m\u001b[0m\n\u001b[1;32m-> 2384\u001b[1;33m         \u001b[1;32mif\u001b[0m \u001b[0mlen\u001b[0m\u001b[1;33m(\u001b[0m\u001b[0mchunk\u001b[0m\u001b[1;33m)\u001b[0m \u001b[1;33m==\u001b[0m \u001b[1;36m0\u001b[0m\u001b[1;33m:\u001b[0m\u001b[1;33m\u001b[0m\u001b[1;33m\u001b[0m\u001b[0m\n\u001b[0m\u001b[0;32m   2385\u001b[0m             \u001b[1;32mcontinue\u001b[0m\u001b[1;33m\u001b[0m\u001b[1;33m\u001b[0m\u001b[0m\n\u001b[0;32m   2386\u001b[0m         \u001b[1;32melif\u001b[0m \u001b[0mchunks_buffer_size\u001b[0m \u001b[1;33m+\u001b[0m \u001b[0mlen\u001b[0m\u001b[1;33m(\u001b[0m\u001b[0mchunk\u001b[0m\u001b[1;33m)\u001b[0m \u001b[1;33m<\u001b[0m \u001b[0mbatch_size\u001b[0m\u001b[1;33m:\u001b[0m\u001b[1;33m\u001b[0m\u001b[1;33m\u001b[0m\u001b[0m\n",
      "\u001b[1;31mKeyboardInterrupt\u001b[0m: "
     ]
    }
   ],
   "source": [
    "df = pd.DataFrame(dataset[\"train_eli5\"])"
   ]
  },
  {
   "cell_type": "code",
   "execution_count": 7,
   "metadata": {},
   "outputs": [
    {
     "name": "stderr",
     "output_type": "stream",
     "text": [
      "Loading cached processed dataset at C:\\Users\\Don Jaekle\\.cache\\huggingface\\datasets\\eli5\\LFQA_reddit\\1.0.0\\17574e5502a10f41bbd17beba83e22475b499fa62caa1384a3d093fc856fe6fa\\cache-4ca265bf51d112e2.arrow\n"
     ]
    }
   ],
   "source": [
    "dataset[\"train_eli5\"] = dataset[\"train_eli5\"].filter(lambda example: example[\"answers\"]['score'][0]>10)"
   ]
  },
  {
   "cell_type": "code",
   "execution_count": 86,
   "metadata": {},
   "outputs": [
    {
     "data": {
      "text/plain": [
       "Dataset({\n",
       "    features: ['q_id', 'title', 'selftext', 'document', 'subreddit', 'answers', 'title_urls', 'selftext_urls', 'answers_urls'],\n",
       "    num_rows: 68387\n",
       "})"
      ]
     },
     "execution_count": 86,
     "metadata": {},
     "output_type": "execute_result"
    }
   ],
   "source": [
    "dataset[\"train_eli5\"]"
   ]
  },
  {
   "cell_type": "code",
   "execution_count": 87,
   "metadata": {},
   "outputs": [],
   "source": [
    "corpus = dataset[\"train_eli5\"][\"answers\"]\n",
    "corpus = [item['text'][0] for item in corpus]\n",
    "corpus = [item for item in corpus if (len(item) > 100 and isinstance(item,str))]"
   ]
  },
  {
   "cell_type": "code",
   "execution_count": 88,
   "metadata": {},
   "outputs": [
    {
     "data": {
      "text/html": [
       "<div>\n",
       "<style scoped>\n",
       "    .dataframe tbody tr th:only-of-type {\n",
       "        vertical-align: middle;\n",
       "    }\n",
       "\n",
       "    .dataframe tbody tr th {\n",
       "        vertical-align: top;\n",
       "    }\n",
       "\n",
       "    .dataframe thead th {\n",
       "        text-align: right;\n",
       "    }\n",
       "</style>\n",
       "<table border=\"1\" class=\"dataframe\">\n",
       "  <thead>\n",
       "    <tr style=\"text-align: right;\">\n",
       "      <th></th>\n",
       "      <th>text</th>\n",
       "    </tr>\n",
       "  </thead>\n",
       "  <tbody>\n",
       "    <tr>\n",
       "      <th>0</th>\n",
       "      <td>Two things going on here.  First, heat doesn't...</td>\n",
       "    </tr>\n",
       "    <tr>\n",
       "      <th>1</th>\n",
       "      <td>It's mostly due to the difference in immune sy...</td>\n",
       "    </tr>\n",
       "    <tr>\n",
       "      <th>2</th>\n",
       "      <td>It has to include equipment, pay for employees...</td>\n",
       "    </tr>\n",
       "    <tr>\n",
       "      <th>3</th>\n",
       "      <td>While not universally true (especially in the ...</td>\n",
       "    </tr>\n",
       "    <tr>\n",
       "      <th>4</th>\n",
       "      <td>The passive type of jug won't filter out bacte...</td>\n",
       "    </tr>\n",
       "  </tbody>\n",
       "</table>\n",
       "</div>"
      ],
      "text/plain": [
       "                                                text\n",
       "0  Two things going on here.  First, heat doesn't...\n",
       "1  It's mostly due to the difference in immune sy...\n",
       "2  It has to include equipment, pay for employees...\n",
       "3  While not universally true (especially in the ...\n",
       "4  The passive type of jug won't filter out bacte..."
      ]
     },
     "execution_count": 88,
     "metadata": {},
     "output_type": "execute_result"
    }
   ],
   "source": [
    "df = pd.DataFrame(corpus, columns =[\"text\"])\n",
    "df.head()"
   ]
  },
  {
   "cell_type": "code",
   "execution_count": 89,
   "metadata": {},
   "outputs": [],
   "source": [
    "#now witha  corpus we can apply flagging functions"
   ]
  },
  {
   "cell_type": "code",
   "execution_count": 115,
   "metadata": {},
   "outputs": [],
   "source": [
    "#first lets work with materials from common core- these rules seem really lackluster but theyre easily implemented.\n",
    "\n",
    "ABSTAIN = -1\n",
    "CandE = 0\n",
    "Classification = 1\n",
    "Comparison = 2\n",
    "Definition = 3\n",
    "Description = 4\n",
    "PandS = 5\n",
    "Sequence = 6\n",
    "\n",
    "CandE_list = [\"reason\",\"why\",\"as a result\", \"therefore\", \"because\",\"due to\"]\n",
    "CandE_re = re.compile(\"|\".join(CandE_list))\n",
    "\n",
    "Classification_list = [\"most significant\", \"least significant\", \"characteristics\",\"classify\",\"classification\"]\n",
    "Classification_re = re.compile(\"|\".join(Classification_list))\n",
    "\n",
    "Comparison_list = [\"alike\",\"similar\",\"differing\",\"different\",\"contrast\",\"compare\",\"although\"]\n",
    "Comparison_re = re.compile(\"|\".join(Comparison_list))\n",
    "\n",
    "Definition_list = [\"define\",\"meaning\",\"synonymous with\",\"defition\",\"such as\",\"characterized as\"]\n",
    "Definition_re = re.compile(\"|\".join(Definition_list))\n",
    "\n",
    "\n",
    "Description_list = [\"illustrate\",\"describe\", \"taste\",\"tastes like\",\"feel\",\"appears\",\"sounds like\",\"smells like\"]\n",
    "Description_re = re.compile(\"|\".join(Description_list))\n",
    "\n",
    "PandS_list = [\"problem\",\"issue\",\"solve\",\"solution\", \"fix\",\"cosequently\"]\n",
    "PandS_re = re.compile(\"|\".join(PandS_list))\n",
    "\n",
    "Sequence_list = [\"first\",\"next\",\"finally\",\"happened\",\"before\",\"after\"]\n",
    "Sequence_re = re.compile(\"|\".join(Sequence_list))\n"
   ]
  },
  {
   "cell_type": "code",
   "execution_count": 116,
   "metadata": {},
   "outputs": [],
   "source": [
    "@labeling_function()\n",
    "def lf_keyword_CandE(x):\n",
    "    return CandE if CandE_re.search(x.text.lower()) else ABSTAIN\n",
    "\n",
    "@labeling_function()\n",
    "def lf_keyword_Classification(x):\n",
    "    return Classification if Classification_re.search(x.text.lower()) else ABSTAIN\n",
    "\n",
    "@labeling_function()\n",
    "def lf_keyword_Comparison(x):\n",
    "    return Comparison if Comparison_re.search(x.text.lower()) else ABSTAIN\n",
    "\n",
    "@labeling_function()\n",
    "def lf_keyword_Definition(x):\n",
    "    return Definition if Definition_re.search(x.text.lower()) else ABSTAIN\n",
    "\n",
    "@labeling_function()\n",
    "def lf_keyword_Description(x):\n",
    "    return Description if Description_re.search(x.text.lower()) else ABSTAIN\n",
    "\n",
    "@labeling_function()\n",
    "def lf_keyword_PandS(x):\n",
    "    return PandS if PandS_re.search(x.text.lower()) else ABSTAIN\n",
    "\n",
    "@labeling_function()\n",
    "def lf_keyword_Sequence(x):\n",
    "    return Sequence if Sequence_re.search(x.text.lower()) else ABSTAIN\n",
    "\n"
   ]
  },
  {
   "cell_type": "code",
   "execution_count": 117,
   "metadata": {},
   "outputs": [],
   "source": [
    "lfs = [lf_keyword_CandE,\n",
    "       lf_keyword_Classification,\n",
    "       lf_keyword_Comparison,\n",
    "       lf_keyword_Definition,\n",
    "       lf_keyword_Description,\n",
    "       lf_keyword_PandS,\n",
    "       lf_keyword_Sequence]"
   ]
  },
  {
   "cell_type": "code",
   "execution_count": 118,
   "metadata": {},
   "outputs": [
    {
     "name": "stderr",
     "output_type": "stream",
     "text": [
      "100%|██████████████████████████████████████████████████████████████████████████| 66028/66028 [00:09<00:00, 6606.15it/s]\n"
     ]
    }
   ],
   "source": [
    "applier = PandasLFApplier(lfs=lfs)\n",
    "L_train = applier.apply(df=df)"
   ]
  },
  {
   "cell_type": "code",
   "execution_count": 107,
   "metadata": {},
   "outputs": [
    {
     "data": {
      "text/plain": [
       "array([[ 1, -1, -1, ..., -1, -1,  7],\n",
       "       [ 1, -1, -1, ..., -1, -1,  7],\n",
       "       [-1, -1, -1, ..., -1, -1, -1],\n",
       "       ...,\n",
       "       [-1, -1, -1, ..., -1, -1, -1],\n",
       "       [-1, -1, -1, ..., -1, -1, -1],\n",
       "       [ 1, -1, -1, ..., -1, -1, -1]])"
      ]
     },
     "execution_count": 107,
     "metadata": {},
     "output_type": "execute_result"
    }
   ],
   "source": [
    "L_train"
   ]
  },
  {
   "cell_type": "code",
   "execution_count": 108,
   "metadata": {},
   "outputs": [
    {
     "name": "stdout",
     "output_type": "stream",
     "text": [
      "CandE coverage: 44.1%\n",
      "Classification coverage: 0.5%\n",
      "Comparison coverage: 20.3%\n",
      "Definition coverage: 7.9%\n",
      "Description coverage: 10.9%\n",
      "PandS coverage: 13.8%\n",
      "Sequence coverage: 26.2%\n"
     ]
    }
   ],
   "source": [
    "coverage_CandE,coverage_Classification,coverage_Comparison,coverage_Definition,coverage_Description,coverage_PandS,coverage_Sequence = (L_train != ABSTAIN).mean(axis=0)\n",
    "print(f\"CandE coverage: {coverage_CandE * 100:.1f}%\")\n",
    "print(f\"Classification coverage: {coverage_Classification * 100:.1f}%\")\n",
    "print(f\"Comparison coverage: {coverage_Comparison* 100:.1f}%\")\n",
    "print(f\"Definition coverage: {coverage_Definition * 100:.1f}%\")\n",
    "print(f\"Description coverage: {coverage_Description * 100:.1f}%\")\n",
    "print(f\"PandS coverage: {coverage_PandS * 100:.1f}%\")\n",
    "print(f\"Sequence coverage: {coverage_Sequence * 100:.1f}%\")\n"
   ]
  },
  {
   "cell_type": "code",
   "execution_count": 109,
   "metadata": {},
   "outputs": [
    {
     "data": {
      "text/html": [
       "<div>\n",
       "<style scoped>\n",
       "    .dataframe tbody tr th:only-of-type {\n",
       "        vertical-align: middle;\n",
       "    }\n",
       "\n",
       "    .dataframe tbody tr th {\n",
       "        vertical-align: top;\n",
       "    }\n",
       "\n",
       "    .dataframe thead th {\n",
       "        text-align: right;\n",
       "    }\n",
       "</style>\n",
       "<table border=\"1\" class=\"dataframe\">\n",
       "  <thead>\n",
       "    <tr style=\"text-align: right;\">\n",
       "      <th></th>\n",
       "      <th>j</th>\n",
       "      <th>Polarity</th>\n",
       "      <th>Coverage</th>\n",
       "      <th>Overlaps</th>\n",
       "      <th>Conflicts</th>\n",
       "    </tr>\n",
       "  </thead>\n",
       "  <tbody>\n",
       "    <tr>\n",
       "      <th>lf_keyword_CandE</th>\n",
       "      <td>0</td>\n",
       "      <td>[1]</td>\n",
       "      <td>0.440646</td>\n",
       "      <td>0.273414</td>\n",
       "      <td>0.273414</td>\n",
       "    </tr>\n",
       "    <tr>\n",
       "      <th>lf_keyword_Classification</th>\n",
       "      <td>1</td>\n",
       "      <td>[2]</td>\n",
       "      <td>0.005392</td>\n",
       "      <td>0.004695</td>\n",
       "      <td>0.004695</td>\n",
       "    </tr>\n",
       "    <tr>\n",
       "      <th>lf_keyword_Comparison</th>\n",
       "      <td>2</td>\n",
       "      <td>[3]</td>\n",
       "      <td>0.203368</td>\n",
       "      <td>0.158296</td>\n",
       "      <td>0.158296</td>\n",
       "    </tr>\n",
       "    <tr>\n",
       "      <th>lf_keyword_Definition</th>\n",
       "      <td>3</td>\n",
       "      <td>[4]</td>\n",
       "      <td>0.079209</td>\n",
       "      <td>0.064685</td>\n",
       "      <td>0.064685</td>\n",
       "    </tr>\n",
       "    <tr>\n",
       "      <th>lf_keyword_Description</th>\n",
       "      <td>4</td>\n",
       "      <td>[5]</td>\n",
       "      <td>0.108621</td>\n",
       "      <td>0.087614</td>\n",
       "      <td>0.087614</td>\n",
       "    </tr>\n",
       "    <tr>\n",
       "      <th>lf_keyword_PandS</th>\n",
       "      <td>5</td>\n",
       "      <td>[6]</td>\n",
       "      <td>0.137684</td>\n",
       "      <td>0.110332</td>\n",
       "      <td>0.110332</td>\n",
       "    </tr>\n",
       "    <tr>\n",
       "      <th>lf_keyword_Sequence</th>\n",
       "      <td>6</td>\n",
       "      <td>[7]</td>\n",
       "      <td>0.262374</td>\n",
       "      <td>0.195705</td>\n",
       "      <td>0.195705</td>\n",
       "    </tr>\n",
       "  </tbody>\n",
       "</table>\n",
       "</div>"
      ],
      "text/plain": [
       "                           j Polarity  Coverage  Overlaps  Conflicts\n",
       "lf_keyword_CandE           0      [1]  0.440646  0.273414   0.273414\n",
       "lf_keyword_Classification  1      [2]  0.005392  0.004695   0.004695\n",
       "lf_keyword_Comparison      2      [3]  0.203368  0.158296   0.158296\n",
       "lf_keyword_Definition      3      [4]  0.079209  0.064685   0.064685\n",
       "lf_keyword_Description     4      [5]  0.108621  0.087614   0.087614\n",
       "lf_keyword_PandS           5      [6]  0.137684  0.110332   0.110332\n",
       "lf_keyword_Sequence        6      [7]  0.262374  0.195705   0.195705"
      ]
     },
     "execution_count": 109,
     "metadata": {},
     "output_type": "execute_result"
    }
   ],
   "source": [
    "from snorkel.labeling import LFAnalysis\n",
    "\n",
    "LFAnalysis(L=L_train, lfs=lfs).lf_summary()"
   ]
  },
  {
   "cell_type": "code",
   "execution_count": 110,
   "metadata": {},
   "outputs": [
    {
     "data": {
      "text/plain": [
       "array([[ 1, -1, -1, ..., -1, -1,  7],\n",
       "       [ 1, -1, -1, ..., -1, -1,  7],\n",
       "       [-1, -1, -1, ..., -1, -1, -1],\n",
       "       ...,\n",
       "       [-1, -1, -1, ..., -1, -1, -1],\n",
       "       [-1, -1, -1, ..., -1, -1, -1],\n",
       "       [ 1, -1, -1, ..., -1, -1, -1]])"
      ]
     },
     "execution_count": 110,
     "metadata": {},
     "output_type": "execute_result"
    }
   ],
   "source": [
    "L_train"
   ]
  },
  {
   "cell_type": "code",
   "execution_count": 234,
   "metadata": {},
   "outputs": [
    {
     "data": {
      "image/png": "[encoded data removed]",
      "text/plain": [
       "<Figure size 504x360 with 1 Axes>"
      ]
     },
     "metadata": {
      "needs_background": "light"
     },
     "output_type": "display_data"
    }
   ],
   "source": [
    "import matplotlib.pyplot as plt\n",
    "\n",
    "%matplotlib inline\n",
    "\n",
    "\n",
    "def plot_label_frequency(L):\n",
    "    plt.figure(figsize=[7,5])\n",
    "    plt.hist((L != ABSTAIN).sum(axis=1), density=True, bins=range(L.shape[1]))\n",
    "    plt.title(\"Frequency of Datapoints with n Labels\",fontsize = 16)\n",
    "    plt.xlabel(\"Number of labels\",fontsize = 14)\n",
    "    plt.ylabel(\"Fraction of dataset\",fontsize = 14)\n",
    "    plt.savefig(\"frequency.png\",dpi = 300)\n",
    "\n",
    "\n",
    "plot_label_frequency(L_train)"
   ]
  },
  {
   "cell_type": "code",
   "execution_count": 119,
   "metadata": {},
   "outputs": [
    {
     "name": "stderr",
     "output_type": "stream",
     "text": [
      "INFO:root:Computing O...\n",
      "INFO:root:Estimating \\mu...\n",
      "  0%|                                                                                       | 0/500 [00:00<?, ?epoch/s]INFO:root:[0 epochs]: TRAIN:[loss=0.310]\n",
      " 19%|██████████████▍                                                              | 94/500 [00:00<00:00, 939.96epoch/s]INFO:root:[100 epochs]: TRAIN:[loss=0.003]\n",
      " 38%|█████████████████████████████                                               | 191/500 [00:00<00:00, 952.02epoch/s]INFO:root:[200 epochs]: TRAIN:[loss=0.002]\n",
      " 59%|████████████████████████████████████████████▊                               | 295/500 [00:00<00:00, 987.59epoch/s]INFO:root:[300 epochs]: TRAIN:[loss=0.001]\n",
      "INFO:root:[400 epochs]: TRAIN:[loss=0.000]\n",
      "100%|███████████████████████████████████████████████████████████████████████████| 500/500 [00:00<00:00, 1014.19epoch/s]\n",
      "INFO:root:Finished Training\n"
     ]
    }
   ],
   "source": [
    "from snorkel.labeling.model import LabelModel\n",
    "\n",
    "label_model = LabelModel(cardinality=8, verbose=True)\n",
    "label_model.fit(L_train=L_train, n_epochs=500, log_freq=100, seed=123)\n"
   ]
  },
  {
   "cell_type": "code",
   "execution_count": 120,
   "metadata": {},
   "outputs": [
    {
     "data": {
      "text/plain": [
       "array([[0.31899793, 0.01148197, 0.12236013, ..., 0.07631298, 0.38383266,\n",
       "        0.01141455],\n",
       "       [0.31899793, 0.01148197, 0.12236013, ..., 0.07631298, 0.38383266,\n",
       "        0.01141455],\n",
       "       [0.125     , 0.125     , 0.125     , ..., 0.125     , 0.125     ,\n",
       "        0.125     ],\n",
       "       ...,\n",
       "       [0.125     , 0.125     , 0.125     , ..., 0.125     , 0.125     ,\n",
       "        0.125     ],\n",
       "       [0.125     , 0.125     , 0.125     , ..., 0.125     , 0.125     ,\n",
       "        0.125     ],\n",
       "       [0.284859  , 0.06759304, 0.13812884, ..., 0.1124483 , 0.14901545,\n",
       "        0.06751525]])"
      ]
     },
     "execution_count": 120,
     "metadata": {},
     "output_type": "execute_result"
    }
   ],
   "source": [
    "probs_train = label_model.predict_proba(L_train)\n",
    "probs_train"
   ]
  },
  {
   "cell_type": "code",
   "execution_count": 121,
   "metadata": {},
   "outputs": [],
   "source": [
    "from snorkel.labeling import filter_unlabeled_dataframe\n",
    "\n",
    "df_train_filtered, probs_train_filtered = filter_unlabeled_dataframe(\n",
    "    X=df, y=probs_train, L=L_train\n",
    ")"
   ]
  },
  {
   "cell_type": "code",
   "execution_count": 195,
   "metadata": {},
   "outputs": [],
   "source": [
    "import pandas as pd\n",
    "from sklearn.base import TransformerMixin, BaseEstimator\n",
    "import torch\n"
   ]
  },
  {
   "cell_type": "code",
   "execution_count": 170,
   "metadata": {},
   "outputs": [],
   "source": [
    "from typing import Callable, List, Optional, Tuple\n",
    "\n",
    "class BertTransformer(BaseEstimator, TransformerMixin):\n",
    "    def __init__(\n",
    "            self,\n",
    "            bert_tokenizer,\n",
    "            bert_model,\n",
    "            max_length: int = 60,\n",
    "            embedding_func: Optional[Callable[[torch.tensor], torch.tensor]] = None,\n",
    "    ):\n",
    "        self.tokenizer = bert_tokenizer\n",
    "        self.model = bert_model\n",
    "        self.model.eval()\n",
    "        self.max_length = max_length\n",
    "        self.embedding_func = embedding_func\n",
    "\n",
    "        if self.embedding_func is None:\n",
    "            self.embedding_func = lambda x: x[0][:, 0, :].squeeze()\n",
    "\n",
    "    def _tokenize(self, text: str) -> Tuple[torch.tensor, torch.tensor]:\n",
    "        # Tokenize the text with the provided tokenizer\n",
    "        tokenized_text = self.tokenizer.encode_plus(text,\n",
    "                                                    add_special_tokens=True,\n",
    "                                                    max_length=self.max_length,\n",
    "                                                    truncation = True\n",
    "                                                    )[\"input_ids\"]\n",
    "\n",
    "        # Create an attention mask telling BERT to use all words\n",
    "        attention_mask = [1] * len(tokenized_text)\n",
    "\n",
    "        # bert takes in a batch so we need to unsqueeze the rows\n",
    "        return (\n",
    "            torch.tensor(tokenized_text).unsqueeze(0),\n",
    "            torch.tensor(attention_mask).unsqueeze(0),\n",
    "        )\n",
    "\n",
    "    def _tokenize_and_predict(self, text: str) -> torch.tensor:\n",
    "        tokenized, attention_mask = self._tokenize(text)\n",
    "\n",
    "        embeddings = self.model(tokenized, attention_mask)\n",
    "        return self.embedding_func(embeddings)\n",
    "\n",
    "    def transform(self, text: List[str]):\n",
    "        if isinstance(text, pd.Series):\n",
    "            text = text.tolist()\n",
    "\n",
    "        with torch.no_grad():\n",
    "            return torch.stack([self._tokenize_and_predict(string) for string in text])\n",
    "\n",
    "    def fit(self, X, y=None):\n",
    "        \"\"\"No fitting necessary so we just return ourselves\"\"\"\n",
    "        return self"
   ]
  },
  {
   "cell_type": "code",
   "execution_count": 176,
   "metadata": {},
   "outputs": [
    {
     "name": "stderr",
     "output_type": "stream",
     "text": [
      "Some weights of the model checkpoint at bert-base-uncased were not used when initializing BertModel: ['cls.predictions.transform.LayerNorm.weight', 'cls.predictions.bias', 'cls.predictions.transform.dense.bias', 'cls.seq_relationship.weight', 'cls.predictions.transform.dense.weight', 'cls.predictions.decoder.weight', 'cls.seq_relationship.bias', 'cls.predictions.transform.LayerNorm.bias']\n",
      "- This IS expected if you are initializing BertModel from the checkpoint of a model trained on another task or with another architecture (e.g. initializing a BertForSequenceClassification model from a BertForPreTraining model).\n",
      "- This IS NOT expected if you are initializing BertModel from the checkpoint of a model that you expect to be exactly identical (initializing a BertForSequenceClassification model from a BertForSequenceClassification model).\n",
      "Truncation was not explicitly activated but `max_length` is provided a specific value, please use `truncation=True` to explicitly truncate examples to max length. Defaulting to 'longest_first' truncation strategy. If you encode pairs of sequences (GLUE-style) with the tokenizer you can select this strategy more precisely by providing a specific strategy to `truncation`.\n"
     ]
    }
   ],
   "source": [
    "bert_model = BertModel.from_pretrained(\"bert-base-uncased\")\n",
    "bert_transformer = BertTransformer(tokenizer, bert_model)\n",
    "encodings = bert_transformer.transform(df_train_filtered[\"text\"])"
   ]
  },
  {
   "cell_type": "code",
   "execution_count": 178,
   "metadata": {},
   "outputs": [
    {
     "data": {
      "text/plain": [
       "torch.Size([45376, 768])"
      ]
     },
     "execution_count": 178,
     "metadata": {},
     "output_type": "execute_result"
    }
   ],
   "source": [
    "encodings.shape"
   ]
  },
  {
   "cell_type": "code",
   "execution_count": 180,
   "metadata": {},
   "outputs": [
    {
     "data": {
      "text/plain": [
       "768"
      ]
     },
     "execution_count": 180,
     "metadata": {},
     "output_type": "execute_result"
    }
   ],
   "source": [
    "len(encodings[0])"
   ]
  },
  {
   "cell_type": "code",
   "execution_count": 188,
   "metadata": {},
   "outputs": [
    {
     "data": {
      "text/plain": [
       "(45376, 8)"
      ]
     },
     "execution_count": 188,
     "metadata": {},
     "output_type": "execute_result"
    }
   ],
   "source": [
    "probs_train_filtered.shape"
   ]
  },
  {
   "cell_type": "code",
   "execution_count": 189,
   "metadata": {},
   "outputs": [
    {
     "data": {
      "text/plain": [
       "(66028, 8)"
      ]
     },
     "execution_count": 189,
     "metadata": {},
     "output_type": "execute_result"
    }
   ],
   "source": []
  },
  {
   "cell_type": "code",
   "execution_count": 192,
   "metadata": {},
   "outputs": [],
   "source": [
    "max_probs = np.zeros_like(probs_train_filtered)\n",
    "max_probs[np.arange(len(probs_train_filtered)), probs_train_filtered.argmax(1)] = 1\n"
   ]
  },
  {
   "cell_type": "code",
   "execution_count": 205,
   "metadata": {},
   "outputs": [
    {
     "data": {
      "text/plain": [
       "45376"
      ]
     },
     "execution_count": 205,
     "metadata": {},
     "output_type": "execute_result"
    }
   ],
   "source": [
    "y = np.argmax(probs_train_filtered,axis = 1)\n",
    "len(y)"
   ]
  },
  {
   "cell_type": "code",
   "execution_count": 206,
   "metadata": {},
   "outputs": [],
   "source": [
    "X = encodings"
   ]
  },
  {
   "cell_type": "code",
   "execution_count": 207,
   "metadata": {},
   "outputs": [],
   "source": [
    "from sklearn.ensemble import RandomForestClassifier\n",
    "from sklearn.model_selection import train_test_split\n",
    "from sklearn.metrics import accuracy_score\n",
    "from sklearn.metrics import confusion_matrix\n"
   ]
  },
  {
   "cell_type": "code",
   "execution_count": 208,
   "metadata": {},
   "outputs": [],
   "source": [
    "X_train, X_test,y_train,y_test = train_test_split(X,y,test_size = .2,random_state = 10)\n",
    "\n",
    "X_test, X_val,y_test,y_val = train_test_split(X_test,y_test,test_size = .5,random_state = 10)"
   ]
  },
  {
   "cell_type": "code",
   "execution_count": 209,
   "metadata": {},
   "outputs": [
    {
     "data": {
      "text/plain": [
       "RandomForestClassifier(n_jobs=1)"
      ]
     },
     "execution_count": 209,
     "metadata": {},
     "output_type": "execute_result"
    }
   ],
   "source": [
    "\n",
    "model = RandomForestClassifier(bootstrap=True, class_weight=None, criterion='gini',\n",
    "            max_depth=None, max_features='auto', max_leaf_nodes=None,\n",
    "            min_impurity_decrease=0.0, min_impurity_split=None,\n",
    "            min_samples_leaf=1, min_samples_split=2,\n",
    "            min_weight_fraction_leaf=0.0, n_estimators=100, n_jobs=1,\n",
    "            oob_score=False, random_state=None, verbose=0,\n",
    "            warm_start=False)\n",
    "model.fit(X_train,y_train)"
   ]
  },
  {
   "cell_type": "code",
   "execution_count": 224,
   "metadata": {},
   "outputs": [
    {
     "name": "stdout",
     "output_type": "stream",
     "text": [
      "Accuracy: 0.5286029087703834\n"
     ]
    }
   ],
   "source": [
    "y_pred=model.predict(X_test)\n",
    "print(\"Accuracy:\",accuracy_score(y_test, y_pred))"
   ]
  },
  {
   "cell_type": "code",
   "execution_count": 213,
   "metadata": {},
   "outputs": [
    {
     "data": {
      "text/plain": [
       "array([2, 2, 4, ..., 2, 0, 2], dtype=int64)"
      ]
     },
     "execution_count": 213,
     "metadata": {},
     "output_type": "execute_result"
    }
   ],
   "source": [
    "y_test"
   ]
  },
  {
   "cell_type": "code",
   "execution_count": 215,
   "metadata": {},
   "outputs": [],
   "source": [
    "nums, counts= np.unique(y_test, return_counts=True)"
   ]
  },
  {
   "cell_type": "code",
   "execution_count": 220,
   "metadata": {},
   "outputs": [
    {
     "name": "stdout",
     "output_type": "stream",
     "text": [
      "baseline_accuracy:0.40304098721903925\n"
     ]
    }
   ],
   "source": [
    "print(f\"baseline_accuracy:{max(counts/sum(counts))}\")"
   ]
  },
  {
   "cell_type": "code",
   "execution_count": 221,
   "metadata": {},
   "outputs": [
    {
     "data": {
      "text/plain": [
       "array([0.83324221, 0.15481986, 0.        , 0.        , 0.        ,\n",
       "       0.21180275])"
      ]
     },
     "execution_count": 221,
     "metadata": {},
     "output_type": "execute_result"
    }
   ],
   "source": [
    "from sklearn.metrics import confusion_matrix\n",
    "\n",
    "matrix = confusion_matrix(y_test, y_pred)\n",
    "matrix.diagonal()/matrix.sum(axis=1)"
   ]
  },
  {
   "cell_type": "code",
   "execution_count": 222,
   "metadata": {},
   "outputs": [
    {
     "data": {
      "text/plain": [
       "array([[1524,  120,    0,    0,    0,  185],\n",
       "       [ 742,  159,    0,    0,    0,  126],\n",
       "       [  73,   18,    0,    0,    0,   15],\n",
       "       [ 120,   16,    0,    0,    0,   21],\n",
       "       [ 157,    9,    0,    0,    0,   16],\n",
       "       [ 898,   77,    0,    0,    0,  262]], dtype=int64)"
      ]
     },
     "execution_count": 222,
     "metadata": {},
     "output_type": "execute_result"
    }
   ],
   "source": [
    "matrix"
   ]
  },
  {
   "cell_type": "code",
   "execution_count": 231,
   "metadata": {},
   "outputs": [],
   "source": [
    "from sklearn.ensemble import RandomForestClassifier\n",
    "from sklearn.metrics import recall_score\n",
    "val_scores = []\n",
    "train_scores =[]\n",
    "best_score = 0\n",
    "best_n = 0\n",
    "for n in [100,120,150]:\n",
    "    forest= RandomForestClassifier(n_estimators =n, random_state = 0)\n",
    "    forest.fit(X_train, y_train)\n",
    "    val_prediction = forest.predict(X_val)\n",
    "    train_prediction = forest.predict(X_train)\n",
    "    val_score = accuracy_score(y_val,val_prediction)\n",
    "    train_score = accuracy_score(y_train,train_prediction)\n",
    "    train_scores.append(train_score)\n",
    "    val_scores.append(val_score)\n",
    "    if val_score > best_score:\n",
    "        best_score = val_score\n",
    "        best_n = n"
   ]
  },
  {
   "cell_type": "code",
   "execution_count": 232,
   "metadata": {},
   "outputs": [
    {
     "ename": "ValueError",
     "evalue": "x and y must have same first dimension, but have shapes (149,) and (3,)",
     "output_type": "error",
     "traceback": [
      "\u001b[1;31m---------------------------------------------------------------------------\u001b[0m",
      "\u001b[1;31mValueError\u001b[0m                                Traceback (most recent call last)",
      "\u001b[1;32m<ipython-input-232-0b50d029c6c2>\u001b[0m in \u001b[0;36m<module>\u001b[1;34m\u001b[0m\n\u001b[0;32m      1\u001b[0m \u001b[0mplt\u001b[0m\u001b[1;33m.\u001b[0m\u001b[0mfigure\u001b[0m\u001b[1;33m(\u001b[0m\u001b[0mfigsize\u001b[0m\u001b[1;33m=\u001b[0m\u001b[1;33m(\u001b[0m\u001b[1;36m8\u001b[0m\u001b[1;33m,\u001b[0m\u001b[1;36m6\u001b[0m\u001b[1;33m)\u001b[0m\u001b[1;33m,\u001b[0m \u001b[0mdpi\u001b[0m\u001b[1;33m=\u001b[0m\u001b[1;36m300\u001b[0m\u001b[1;33m)\u001b[0m\u001b[1;33m\u001b[0m\u001b[1;33m\u001b[0m\u001b[0m\n\u001b[1;32m----> 2\u001b[1;33m \u001b[0mplt\u001b[0m\u001b[1;33m.\u001b[0m\u001b[0mplot\u001b[0m\u001b[1;33m(\u001b[0m\u001b[0mrange\u001b[0m\u001b[1;33m(\u001b[0m\u001b[1;36m1\u001b[0m\u001b[1;33m,\u001b[0m\u001b[1;36m150\u001b[0m\u001b[1;33m)\u001b[0m\u001b[1;33m,\u001b[0m \u001b[0mval_scores\u001b[0m\u001b[1;33m,\u001b[0m \u001b[0mlabel\u001b[0m\u001b[1;33m=\u001b[0m \u001b[1;34m\"val score\"\u001b[0m\u001b[1;33m)\u001b[0m\u001b[1;33m\u001b[0m\u001b[1;33m\u001b[0m\u001b[0m\n\u001b[0m\u001b[0;32m      3\u001b[0m \u001b[0mplt\u001b[0m\u001b[1;33m.\u001b[0m\u001b[0mplot\u001b[0m\u001b[1;33m(\u001b[0m\u001b[0mbest_n\u001b[0m\u001b[1;33m,\u001b[0m \u001b[0mbest_score\u001b[0m\u001b[1;33m,\u001b[0m \u001b[1;34m\"o\"\u001b[0m\u001b[1;33m,\u001b[0m \u001b[0mcolor\u001b[0m \u001b[1;33m=\u001b[0m \u001b[1;34m\"red\"\u001b[0m\u001b[1;33m,\u001b[0m \u001b[0mlabel\u001b[0m \u001b[1;33m=\u001b[0m \u001b[1;34mf\"best n = {best_n}\"\u001b[0m\u001b[1;33m)\u001b[0m\u001b[1;33m\u001b[0m\u001b[1;33m\u001b[0m\u001b[0m\n\u001b[0;32m      4\u001b[0m \u001b[0mplt\u001b[0m\u001b[1;33m.\u001b[0m\u001b[0mplot\u001b[0m\u001b[1;33m(\u001b[0m\u001b[0mrange\u001b[0m\u001b[1;33m(\u001b[0m\u001b[1;36m1\u001b[0m\u001b[1;33m,\u001b[0m\u001b[1;36m150\u001b[0m\u001b[1;33m)\u001b[0m\u001b[1;33m,\u001b[0m\u001b[0mtrain_scores\u001b[0m\u001b[1;33m,\u001b[0m \u001b[0mlabel\u001b[0m \u001b[1;33m=\u001b[0m \u001b[1;34m\"train score\"\u001b[0m\u001b[1;33m)\u001b[0m\u001b[1;33m\u001b[0m\u001b[1;33m\u001b[0m\u001b[0m\n\u001b[0;32m      5\u001b[0m \u001b[0mplt\u001b[0m\u001b[1;33m.\u001b[0m\u001b[0mlegend\u001b[0m\u001b[1;33m(\u001b[0m\u001b[1;33m)\u001b[0m\u001b[1;33m\u001b[0m\u001b[1;33m\u001b[0m\u001b[0m\n",
      "\u001b[1;32mC:\\python\\anaconda3\\lib\\site-packages\\matplotlib\\pyplot.py\u001b[0m in \u001b[0;36mplot\u001b[1;34m(scalex, scaley, data, *args, **kwargs)\u001b[0m\n\u001b[0;32m   2838\u001b[0m \u001b[1;33m@\u001b[0m\u001b[0m_copy_docstring_and_deprecators\u001b[0m\u001b[1;33m(\u001b[0m\u001b[0mAxes\u001b[0m\u001b[1;33m.\u001b[0m\u001b[0mplot\u001b[0m\u001b[1;33m)\u001b[0m\u001b[1;33m\u001b[0m\u001b[1;33m\u001b[0m\u001b[0m\n\u001b[0;32m   2839\u001b[0m \u001b[1;32mdef\u001b[0m \u001b[0mplot\u001b[0m\u001b[1;33m(\u001b[0m\u001b[1;33m*\u001b[0m\u001b[0margs\u001b[0m\u001b[1;33m,\u001b[0m \u001b[0mscalex\u001b[0m\u001b[1;33m=\u001b[0m\u001b[1;32mTrue\u001b[0m\u001b[1;33m,\u001b[0m \u001b[0mscaley\u001b[0m\u001b[1;33m=\u001b[0m\u001b[1;32mTrue\u001b[0m\u001b[1;33m,\u001b[0m \u001b[0mdata\u001b[0m\u001b[1;33m=\u001b[0m\u001b[1;32mNone\u001b[0m\u001b[1;33m,\u001b[0m \u001b[1;33m**\u001b[0m\u001b[0mkwargs\u001b[0m\u001b[1;33m)\u001b[0m\u001b[1;33m:\u001b[0m\u001b[1;33m\u001b[0m\u001b[1;33m\u001b[0m\u001b[0m\n\u001b[1;32m-> 2840\u001b[1;33m     return gca().plot(\n\u001b[0m\u001b[0;32m   2841\u001b[0m         \u001b[1;33m*\u001b[0m\u001b[0margs\u001b[0m\u001b[1;33m,\u001b[0m \u001b[0mscalex\u001b[0m\u001b[1;33m=\u001b[0m\u001b[0mscalex\u001b[0m\u001b[1;33m,\u001b[0m \u001b[0mscaley\u001b[0m\u001b[1;33m=\u001b[0m\u001b[0mscaley\u001b[0m\u001b[1;33m,\u001b[0m\u001b[1;33m\u001b[0m\u001b[1;33m\u001b[0m\u001b[0m\n\u001b[0;32m   2842\u001b[0m         **({\"data\": data} if data is not None else {}), **kwargs)\n",
      "\u001b[1;32mC:\\python\\anaconda3\\lib\\site-packages\\matplotlib\\axes\\_axes.py\u001b[0m in \u001b[0;36mplot\u001b[1;34m(self, scalex, scaley, data, *args, **kwargs)\u001b[0m\n\u001b[0;32m   1741\u001b[0m         \"\"\"\n\u001b[0;32m   1742\u001b[0m         \u001b[0mkwargs\u001b[0m \u001b[1;33m=\u001b[0m \u001b[0mcbook\u001b[0m\u001b[1;33m.\u001b[0m\u001b[0mnormalize_kwargs\u001b[0m\u001b[1;33m(\u001b[0m\u001b[0mkwargs\u001b[0m\u001b[1;33m,\u001b[0m \u001b[0mmlines\u001b[0m\u001b[1;33m.\u001b[0m\u001b[0mLine2D\u001b[0m\u001b[1;33m)\u001b[0m\u001b[1;33m\u001b[0m\u001b[1;33m\u001b[0m\u001b[0m\n\u001b[1;32m-> 1743\u001b[1;33m         \u001b[0mlines\u001b[0m \u001b[1;33m=\u001b[0m \u001b[1;33m[\u001b[0m\u001b[1;33m*\u001b[0m\u001b[0mself\u001b[0m\u001b[1;33m.\u001b[0m\u001b[0m_get_lines\u001b[0m\u001b[1;33m(\u001b[0m\u001b[1;33m*\u001b[0m\u001b[0margs\u001b[0m\u001b[1;33m,\u001b[0m \u001b[0mdata\u001b[0m\u001b[1;33m=\u001b[0m\u001b[0mdata\u001b[0m\u001b[1;33m,\u001b[0m \u001b[1;33m**\u001b[0m\u001b[0mkwargs\u001b[0m\u001b[1;33m)\u001b[0m\u001b[1;33m]\u001b[0m\u001b[1;33m\u001b[0m\u001b[1;33m\u001b[0m\u001b[0m\n\u001b[0m\u001b[0;32m   1744\u001b[0m         \u001b[1;32mfor\u001b[0m \u001b[0mline\u001b[0m \u001b[1;32min\u001b[0m \u001b[0mlines\u001b[0m\u001b[1;33m:\u001b[0m\u001b[1;33m\u001b[0m\u001b[1;33m\u001b[0m\u001b[0m\n\u001b[0;32m   1745\u001b[0m             \u001b[0mself\u001b[0m\u001b[1;33m.\u001b[0m\u001b[0madd_line\u001b[0m\u001b[1;33m(\u001b[0m\u001b[0mline\u001b[0m\u001b[1;33m)\u001b[0m\u001b[1;33m\u001b[0m\u001b[1;33m\u001b[0m\u001b[0m\n",
      "\u001b[1;32mC:\\python\\anaconda3\\lib\\site-packages\\matplotlib\\axes\\_base.py\u001b[0m in \u001b[0;36m__call__\u001b[1;34m(self, data, *args, **kwargs)\u001b[0m\n\u001b[0;32m    271\u001b[0m                 \u001b[0mthis\u001b[0m \u001b[1;33m+=\u001b[0m \u001b[0margs\u001b[0m\u001b[1;33m[\u001b[0m\u001b[1;36m0\u001b[0m\u001b[1;33m]\u001b[0m\u001b[1;33m,\u001b[0m\u001b[1;33m\u001b[0m\u001b[1;33m\u001b[0m\u001b[0m\n\u001b[0;32m    272\u001b[0m                 \u001b[0margs\u001b[0m \u001b[1;33m=\u001b[0m \u001b[0margs\u001b[0m\u001b[1;33m[\u001b[0m\u001b[1;36m1\u001b[0m\u001b[1;33m:\u001b[0m\u001b[1;33m]\u001b[0m\u001b[1;33m\u001b[0m\u001b[1;33m\u001b[0m\u001b[0m\n\u001b[1;32m--> 273\u001b[1;33m             \u001b[1;32myield\u001b[0m \u001b[1;32mfrom\u001b[0m \u001b[0mself\u001b[0m\u001b[1;33m.\u001b[0m\u001b[0m_plot_args\u001b[0m\u001b[1;33m(\u001b[0m\u001b[0mthis\u001b[0m\u001b[1;33m,\u001b[0m \u001b[0mkwargs\u001b[0m\u001b[1;33m)\u001b[0m\u001b[1;33m\u001b[0m\u001b[1;33m\u001b[0m\u001b[0m\n\u001b[0m\u001b[0;32m    274\u001b[0m \u001b[1;33m\u001b[0m\u001b[0m\n\u001b[0;32m    275\u001b[0m     \u001b[1;32mdef\u001b[0m \u001b[0mget_next_color\u001b[0m\u001b[1;33m(\u001b[0m\u001b[0mself\u001b[0m\u001b[1;33m)\u001b[0m\u001b[1;33m:\u001b[0m\u001b[1;33m\u001b[0m\u001b[1;33m\u001b[0m\u001b[0m\n",
      "\u001b[1;32mC:\\python\\anaconda3\\lib\\site-packages\\matplotlib\\axes\\_base.py\u001b[0m in \u001b[0;36m_plot_args\u001b[1;34m(self, tup, kwargs)\u001b[0m\n\u001b[0;32m    397\u001b[0m \u001b[1;33m\u001b[0m\u001b[0m\n\u001b[0;32m    398\u001b[0m         \u001b[1;32mif\u001b[0m \u001b[0mx\u001b[0m\u001b[1;33m.\u001b[0m\u001b[0mshape\u001b[0m\u001b[1;33m[\u001b[0m\u001b[1;36m0\u001b[0m\u001b[1;33m]\u001b[0m \u001b[1;33m!=\u001b[0m \u001b[0my\u001b[0m\u001b[1;33m.\u001b[0m\u001b[0mshape\u001b[0m\u001b[1;33m[\u001b[0m\u001b[1;36m0\u001b[0m\u001b[1;33m]\u001b[0m\u001b[1;33m:\u001b[0m\u001b[1;33m\u001b[0m\u001b[1;33m\u001b[0m\u001b[0m\n\u001b[1;32m--> 399\u001b[1;33m             raise ValueError(f\"x and y must have same first dimension, but \"\n\u001b[0m\u001b[0;32m    400\u001b[0m                              f\"have shapes {x.shape} and {y.shape}\")\n\u001b[0;32m    401\u001b[0m         \u001b[1;32mif\u001b[0m \u001b[0mx\u001b[0m\u001b[1;33m.\u001b[0m\u001b[0mndim\u001b[0m \u001b[1;33m>\u001b[0m \u001b[1;36m2\u001b[0m \u001b[1;32mor\u001b[0m \u001b[0my\u001b[0m\u001b[1;33m.\u001b[0m\u001b[0mndim\u001b[0m \u001b[1;33m>\u001b[0m \u001b[1;36m2\u001b[0m\u001b[1;33m:\u001b[0m\u001b[1;33m\u001b[0m\u001b[1;33m\u001b[0m\u001b[0m\n",
      "\u001b[1;31mValueError\u001b[0m: x and y must have same first dimension, but have shapes (149,) and (3,)"
     ]
    },
    {
     "data": {
      "image/png": "[encoded data removed]",
      "text/plain": [
       "<Figure size 2400x1800 with 1 Axes>"
      ]
     },
     "metadata": {
      "needs_background": "light"
     },
     "output_type": "display_data"
    }
   ],
   "source": [
    "plt.figure(figsize=(8,6), dpi=300)\n",
    "plt.plot(range(1,150), val_scores, label= \"val score\")\n",
    "plt.plot(best_n, best_score, \"o\", color = \"red\", label = f\"best n = {best_n}\")\n",
    "plt.plot(range(1,150),train_scores, label = \"train score\")\n",
    "plt.legend()\n",
    "plt.title(\"Random forest model recall\")\n",
    "plt.xlabel(\"n neighbors\")\n",
    "plt.ylabel(\"Recall Score\")\n",
    "plt.savefig(f\"../figures/random_forest_recall.png\",bbox_inches=\"tight\", dpi = 300)\n",
    "plt.show()"
   ]
  },
  {
   "cell_type": "code",
   "execution_count": 226,
   "metadata": {},
   "outputs": [
    {
     "ename": "NameError",
     "evalue": "name 'GridSearchCV' is not defined",
     "output_type": "error",
     "traceback": [
      "\u001b[1;31m---------------------------------------------------------------------------\u001b[0m",
      "\u001b[1;31mNameError\u001b[0m                                 Traceback (most recent call last)",
      "\u001b[1;32m<ipython-input-226-7ae231842f6b>\u001b[0m in \u001b[0;36m<module>\u001b[1;34m\u001b[0m\n\u001b[0;32m      8\u001b[0m \u001b[1;33m\u001b[0m\u001b[0m\n\u001b[0;32m      9\u001b[0m \u001b[0mmodel\u001b[0m\u001b[1;33m=\u001b[0m\u001b[0mSVC\u001b[0m\u001b[1;33m(\u001b[0m\u001b[1;33m)\u001b[0m\u001b[1;33m\u001b[0m\u001b[1;33m\u001b[0m\u001b[0m\n\u001b[1;32m---> 10\u001b[1;33m \u001b[0mgrid_search\u001b[0m\u001b[1;33m=\u001b[0m\u001b[0mGridSearchCV\u001b[0m\u001b[1;33m(\u001b[0m\u001b[0mestimator\u001b[0m\u001b[1;33m=\u001b[0m\u001b[0mmodel\u001b[0m\u001b[1;33m,\u001b[0m\u001b[0mparam_grid\u001b[0m\u001b[1;33m=\u001b[0m\u001b[0mgrid\u001b[0m\u001b[1;33m,\u001b[0m\u001b[0mcv\u001b[0m\u001b[1;33m=\u001b[0m\u001b[1;36m3\u001b[0m\u001b[1;33m)\u001b[0m\u001b[1;33m\u001b[0m\u001b[1;33m\u001b[0m\u001b[0m\n\u001b[0m\u001b[0;32m     11\u001b[0m \u001b[0mgrid_result\u001b[0m \u001b[1;33m=\u001b[0m \u001b[0mgrid_search\u001b[0m\u001b[1;33m.\u001b[0m\u001b[0mfit\u001b[0m\u001b[1;33m(\u001b[0m\u001b[0mX_train\u001b[0m\u001b[1;33m,\u001b[0m\u001b[0my_train\u001b[0m\u001b[1;33m)\u001b[0m\u001b[1;33m\u001b[0m\u001b[1;33m\u001b[0m\u001b[0m\n\u001b[0;32m     12\u001b[0m \u001b[1;33m\u001b[0m\u001b[0m\n",
      "\u001b[1;31mNameError\u001b[0m: name 'GridSearchCV' is not defined"
     ]
    }
   ],
   "source": [
    "from sklearn.svm import SVC\n",
    "from sklearn.svm import SVR\n",
    "kernel_values = ['linear', 'poly', 'rbf', 'sigmoid']\n",
    "c_values = np.logspace(-3,3,3)\n",
    "degree_values = [3,8]\n",
    "coef0_values = [0.01,10,0.5]\n",
    "gamma_values = ['auto','scale']\n",
    "\n",
    "model=SVC()\n",
    "grid_search=GridSearchCV(estimator=model,param_grid=grid,cv=3)\n",
    "grid_result = grid_search.fit(X_train,y_train)\n",
    "    \n",
    "clf = SVC(C = grid_result.best_params_['C'],\n",
    "    coef0 = grid_result.best_params_['coef0'],\n",
    "    degree = grid_result.best_params_['degree'],\n",
    "    gamma = grid_result.best_params_['gamma'],\n",
    "    kernel = grid_result.best_params_['kernel'])\n",
    "clf.fit(df_train_imp,y_train)\n",
    "y_pred = clf.predict(df_test_imp)"
   ]
  },
  {
   "cell_type": "code",
   "execution_count": 32,
   "metadata": {},
   "outputs": [
    {
     "name": "stderr",
     "output_type": "stream",
     "text": [
      "Found cached dataset eli5 (C:/Users/Don Jaekle/.cache/huggingface/datasets/eli5/LFQA_reddit/1.0.0/17574e5502a10f41bbd17beba83e22475b499fa62caa1384a3d093fc856fe6fa)\n"
     ]
    },
    {
     "data": {
      "application/vnd.jupyter.widget-view+json": {
       "model_id": "a2bc63e530094a759669afcd52593b65",
       "version_major": 2,
       "version_minor": 0
      },
      "text/plain": [
       "  0%|          | 0/9 [00:00<?, ?it/s]"
      ]
     },
     "metadata": {},
     "output_type": "display_data"
    }
   ],
   "source": [
    "dataset = load_dataset(\"eli5\")\n",
    "df = pd.DataFrame(dataset[\"train_eli5\"])"
   ]
  },
  {
   "cell_type": "code",
   "execution_count": 33,
   "metadata": {},
   "outputs": [
    {
     "data": {
      "text/html": [
       "<div>\n",
       "<style scoped>\n",
       "    .dataframe tbody tr th:only-of-type {\n",
       "        vertical-align: middle;\n",
       "    }\n",
       "\n",
       "    .dataframe tbody tr th {\n",
       "        vertical-align: top;\n",
       "    }\n",
       "\n",
       "    .dataframe thead th {\n",
       "        text-align: right;\n",
       "    }\n",
       "</style>\n",
       "<table border=\"1\" class=\"dataframe\">\n",
       "  <thead>\n",
       "    <tr style=\"text-align: right;\">\n",
       "      <th></th>\n",
       "      <th>q_id</th>\n",
       "      <th>title</th>\n",
       "      <th>selftext</th>\n",
       "      <th>document</th>\n",
       "      <th>subreddit</th>\n",
       "      <th>answers</th>\n",
       "      <th>title_urls</th>\n",
       "      <th>selftext_urls</th>\n",
       "      <th>answers_urls</th>\n",
       "    </tr>\n",
       "  </thead>\n",
       "  <tbody>\n",
       "    <tr>\n",
       "      <th>0</th>\n",
       "      <td>1oy5tc</td>\n",
       "      <td>in football whats the point of wasting the fir...</td>\n",
       "      <td></td>\n",
       "      <td></td>\n",
       "      <td>explainlikeimfive</td>\n",
       "      <td>{'a_id': ['ccwtgnz', 'ccwtmho', 'ccwt946', 'cc...</td>\n",
       "      <td>{'url': []}</td>\n",
       "      <td>{'url': []}</td>\n",
       "      <td>{'url': []}</td>\n",
       "    </tr>\n",
       "    <tr>\n",
       "      <th>1</th>\n",
       "      <td>2lojul</td>\n",
       "      <td>Why are different tiers (regular &lt; mid &lt; premi...</td>\n",
       "      <td>I've noticed that the difference in price betw...</td>\n",
       "      <td></td>\n",
       "      <td>explainlikeimfive</td>\n",
       "      <td>{'a_id': ['clwqgxl', 'clwqpjq', 'clwuh3s'], 't...</td>\n",
       "      <td>{'url': []}</td>\n",
       "      <td>{'url': []}</td>\n",
       "      <td>{'url': []}</td>\n",
       "    </tr>\n",
       "    <tr>\n",
       "      <th>2</th>\n",
       "      <td>8v5e3s</td>\n",
       "      <td>Stars and Visibility</td>\n",
       "      <td>Why do stars in the night's sky seem to disapp...</td>\n",
       "      <td></td>\n",
       "      <td>explainlikeimfive</td>\n",
       "      <td>{'a_id': ['e1kpw6u'], 'text': ['It's a quirk o...</td>\n",
       "      <td>{'url': []}</td>\n",
       "      <td>{'url': []}</td>\n",
       "      <td>{'url': []}</td>\n",
       "    </tr>\n",
       "    <tr>\n",
       "      <th>3</th>\n",
       "      <td>1v3wij</td>\n",
       "      <td>How do we know all the money the government is...</td>\n",
       "      <td>We hear about these large billion dollar bank ...</td>\n",
       "      <td></td>\n",
       "      <td>explainlikeimfive</td>\n",
       "      <td>{'a_id': ['ceohakd', 'ceoikhs', 'ceoji15', 'ce...</td>\n",
       "      <td>{'url': []}</td>\n",
       "      <td>{'url': ['http://dealbook.nytimes.com/2014/01/...</td>\n",
       "      <td>{'url': ['http://www.reuters.com/article/2013/...</td>\n",
       "    </tr>\n",
       "    <tr>\n",
       "      <th>4</th>\n",
       "      <td>2jlp6f</td>\n",
       "      <td>What are good and bad sides of manual and auto...</td>\n",
       "      <td>Please consider I'm not a driver. Automatic se...</td>\n",
       "      <td></td>\n",
       "      <td>explainlikeimfive</td>\n",
       "      <td>{'a_id': ['clcur3j'], 'text': ['Automatics wei...</td>\n",
       "      <td>{'url': []}</td>\n",
       "      <td>{'url': []}</td>\n",
       "      <td>{'url': []}</td>\n",
       "    </tr>\n",
       "  </tbody>\n",
       "</table>\n",
       "</div>"
      ],
      "text/plain": [
       "     q_id                                              title  \\\n",
       "0  1oy5tc  in football whats the point of wasting the fir...   \n",
       "1  2lojul  Why are different tiers (regular < mid < premi...   \n",
       "2  8v5e3s                               Stars and Visibility   \n",
       "3  1v3wij  How do we know all the money the government is...   \n",
       "4  2jlp6f  What are good and bad sides of manual and auto...   \n",
       "\n",
       "                                            selftext document  \\\n",
       "0                                                               \n",
       "1  I've noticed that the difference in price betw...            \n",
       "2  Why do stars in the night's sky seem to disapp...            \n",
       "3  We hear about these large billion dollar bank ...            \n",
       "4  Please consider I'm not a driver. Automatic se...            \n",
       "\n",
       "           subreddit                                            answers  \\\n",
       "0  explainlikeimfive  {'a_id': ['ccwtgnz', 'ccwtmho', 'ccwt946', 'cc...   \n",
       "1  explainlikeimfive  {'a_id': ['clwqgxl', 'clwqpjq', 'clwuh3s'], 't...   \n",
       "2  explainlikeimfive  {'a_id': ['e1kpw6u'], 'text': ['It's a quirk o...   \n",
       "3  explainlikeimfive  {'a_id': ['ceohakd', 'ceoikhs', 'ceoji15', 'ce...   \n",
       "4  explainlikeimfive  {'a_id': ['clcur3j'], 'text': ['Automatics wei...   \n",
       "\n",
       "    title_urls                                      selftext_urls  \\\n",
       "0  {'url': []}                                        {'url': []}   \n",
       "1  {'url': []}                                        {'url': []}   \n",
       "2  {'url': []}                                        {'url': []}   \n",
       "3  {'url': []}  {'url': ['http://dealbook.nytimes.com/2014/01/...   \n",
       "4  {'url': []}                                        {'url': []}   \n",
       "\n",
       "                                        answers_urls  \n",
       "0                                        {'url': []}  \n",
       "1                                        {'url': []}  \n",
       "2                                        {'url': []}  \n",
       "3  {'url': ['http://www.reuters.com/article/2013/...  \n",
       "4                                        {'url': []}  "
      ]
     },
     "execution_count": 33,
     "metadata": {},
     "output_type": "execute_result"
    }
   ],
   "source": [
    "df.head()"
   ]
  },
  {
   "cell_type": "code",
   "execution_count": 34,
   "metadata": {},
   "outputs": [],
   "source": [
    "x = df[\"answers\"][0]"
   ]
  },
  {
   "cell_type": "code",
   "execution_count": 35,
   "metadata": {},
   "outputs": [],
   "source": [
    "def fix(dictionary):\n",
    "    return [dict(zip(dictionary,t)) for t in zip(*dictionary.values())]\n",
    "df[\"answers\"] = df[\"answers\"].apply(fix)\n",
    "\n"
   ]
  },
  {
   "cell_type": "code",
   "execution_count": 36,
   "metadata": {},
   "outputs": [
    {
     "data": {
      "text/html": [
       "<div>\n",
       "<style scoped>\n",
       "    .dataframe tbody tr th:only-of-type {\n",
       "        vertical-align: middle;\n",
       "    }\n",
       "\n",
       "    .dataframe tbody tr th {\n",
       "        vertical-align: top;\n",
       "    }\n",
       "\n",
       "    .dataframe thead th {\n",
       "        text-align: right;\n",
       "    }\n",
       "</style>\n",
       "<table border=\"1\" class=\"dataframe\">\n",
       "  <thead>\n",
       "    <tr style=\"text-align: right;\">\n",
       "      <th></th>\n",
       "      <th>q_id</th>\n",
       "      <th>title</th>\n",
       "      <th>selftext</th>\n",
       "      <th>document</th>\n",
       "      <th>subreddit</th>\n",
       "      <th>answers</th>\n",
       "      <th>title_urls</th>\n",
       "      <th>selftext_urls</th>\n",
       "      <th>answers_urls</th>\n",
       "    </tr>\n",
       "  </thead>\n",
       "  <tbody>\n",
       "    <tr>\n",
       "      <th>0</th>\n",
       "      <td>1oy5tc</td>\n",
       "      <td>in football whats the point of wasting the fir...</td>\n",
       "      <td></td>\n",
       "      <td></td>\n",
       "      <td>explainlikeimfive</td>\n",
       "      <td>[{'a_id': 'ccwtgnz', 'text': 'Keep the defense...</td>\n",
       "      <td>{'url': []}</td>\n",
       "      <td>{'url': []}</td>\n",
       "      <td>{'url': []}</td>\n",
       "    </tr>\n",
       "    <tr>\n",
       "      <th>1</th>\n",
       "      <td>2lojul</td>\n",
       "      <td>Why are different tiers (regular &lt; mid &lt; premi...</td>\n",
       "      <td>I've noticed that the difference in price betw...</td>\n",
       "      <td></td>\n",
       "      <td>explainlikeimfive</td>\n",
       "      <td>[{'a_id': 'clwqgxl', 'text': 'As someone who u...</td>\n",
       "      <td>{'url': []}</td>\n",
       "      <td>{'url': []}</td>\n",
       "      <td>{'url': []}</td>\n",
       "    </tr>\n",
       "    <tr>\n",
       "      <th>2</th>\n",
       "      <td>8v5e3s</td>\n",
       "      <td>Stars and Visibility</td>\n",
       "      <td>Why do stars in the night's sky seem to disapp...</td>\n",
       "      <td></td>\n",
       "      <td>explainlikeimfive</td>\n",
       "      <td>[{'a_id': 'e1kpw6u', 'text': 'It's a quirk of ...</td>\n",
       "      <td>{'url': []}</td>\n",
       "      <td>{'url': []}</td>\n",
       "      <td>{'url': []}</td>\n",
       "    </tr>\n",
       "    <tr>\n",
       "      <th>3</th>\n",
       "      <td>1v3wij</td>\n",
       "      <td>How do we know all the money the government is...</td>\n",
       "      <td>We hear about these large billion dollar bank ...</td>\n",
       "      <td></td>\n",
       "      <td>explainlikeimfive</td>\n",
       "      <td>[{'a_id': 'ceohakd', 'text': 'I'm pretty confi...</td>\n",
       "      <td>{'url': []}</td>\n",
       "      <td>{'url': ['http://dealbook.nytimes.com/2014/01/...</td>\n",
       "      <td>{'url': ['http://www.reuters.com/article/2013/...</td>\n",
       "    </tr>\n",
       "    <tr>\n",
       "      <th>4</th>\n",
       "      <td>2jlp6f</td>\n",
       "      <td>What are good and bad sides of manual and auto...</td>\n",
       "      <td>Please consider I'm not a driver. Automatic se...</td>\n",
       "      <td></td>\n",
       "      <td>explainlikeimfive</td>\n",
       "      <td>[{'a_id': 'clcur3j', 'text': 'Automatics weigh...</td>\n",
       "      <td>{'url': []}</td>\n",
       "      <td>{'url': []}</td>\n",
       "      <td>{'url': []}</td>\n",
       "    </tr>\n",
       "    <tr>\n",
       "      <th>...</th>\n",
       "      <td>...</td>\n",
       "      <td>...</td>\n",
       "      <td>...</td>\n",
       "      <td>...</td>\n",
       "      <td>...</td>\n",
       "      <td>...</td>\n",
       "      <td>...</td>\n",
       "      <td>...</td>\n",
       "      <td>...</td>\n",
       "    </tr>\n",
       "    <tr>\n",
       "      <th>272629</th>\n",
       "      <td>ckfrwx</td>\n",
       "      <td>Do we all see the same color or my red can be ...</td>\n",
       "      <td>[removed]</td>\n",
       "      <td></td>\n",
       "      <td>explainlikeimfive</td>\n",
       "      <td>[{'a_id': 'evmzhep', 'text': 'Most likely that...</td>\n",
       "      <td>{'url': []}</td>\n",
       "      <td>{'url': []}</td>\n",
       "      <td>{'url': []}</td>\n",
       "    </tr>\n",
       "    <tr>\n",
       "      <th>272630</th>\n",
       "      <td>ckfv7s</td>\n",
       "      <td>what does that often blue tape that athletes p...</td>\n",
       "      <td></td>\n",
       "      <td></td>\n",
       "      <td>explainlikeimfive</td>\n",
       "      <td>[{'a_id': 'evmvuxf', 'text': 'It's called Kine...</td>\n",
       "      <td>{'url': []}</td>\n",
       "      <td>{'url': []}</td>\n",
       "      <td>{'url': []}</td>\n",
       "    </tr>\n",
       "    <tr>\n",
       "      <th>272631</th>\n",
       "      <td>ckg0co</td>\n",
       "      <td>If cells die of age, where do new ones come from?</td>\n",
       "      <td>Cells tend to die after dividing for a certain...</td>\n",
       "      <td></td>\n",
       "      <td>explainlikeimfive</td>\n",
       "      <td>[{'a_id': 'evmx5tu', 'text': 'That gets a bit ...</td>\n",
       "      <td>{'url': []}</td>\n",
       "      <td>{'url': []}</td>\n",
       "      <td>{'url': []}</td>\n",
       "    </tr>\n",
       "    <tr>\n",
       "      <th>272632</th>\n",
       "      <td>ckgagf</td>\n",
       "      <td>why the future of the planet depends on saving...</td>\n",
       "      <td>I don’t understand, honestly thought they just...</td>\n",
       "      <td></td>\n",
       "      <td>explainlikeimfive</td>\n",
       "      <td>[{'a_id': 'evn0fnd', 'text': 'Why are they imp...</td>\n",
       "      <td>{'url': []}</td>\n",
       "      <td>{'url': []}</td>\n",
       "      <td>{'url': []}</td>\n",
       "    </tr>\n",
       "    <tr>\n",
       "      <th>272633</th>\n",
       "      <td>ckgil4</td>\n",
       "      <td>Why can people with Alzheimer's easily remembe...</td>\n",
       "      <td>[deleted]</td>\n",
       "      <td></td>\n",
       "      <td>explainlikeimfive</td>\n",
       "      <td>[{'a_id': 'evn2hgj', 'text': 'It could be that...</td>\n",
       "      <td>{'url': []}</td>\n",
       "      <td>{'url': []}</td>\n",
       "      <td>{'url': []}</td>\n",
       "    </tr>\n",
       "  </tbody>\n",
       "</table>\n",
       "<p>272634 rows × 9 columns</p>\n",
       "</div>"
      ],
      "text/plain": [
       "          q_id                                              title  \\\n",
       "0       1oy5tc  in football whats the point of wasting the fir...   \n",
       "1       2lojul  Why are different tiers (regular < mid < premi...   \n",
       "2       8v5e3s                               Stars and Visibility   \n",
       "3       1v3wij  How do we know all the money the government is...   \n",
       "4       2jlp6f  What are good and bad sides of manual and auto...   \n",
       "...        ...                                                ...   \n",
       "272629  ckfrwx  Do we all see the same color or my red can be ...   \n",
       "272630  ckfv7s  what does that often blue tape that athletes p...   \n",
       "272631  ckg0co  If cells die of age, where do new ones come from?   \n",
       "272632  ckgagf  why the future of the planet depends on saving...   \n",
       "272633  ckgil4  Why can people with Alzheimer's easily remembe...   \n",
       "\n",
       "                                                 selftext document  \\\n",
       "0                                                                    \n",
       "1       I've noticed that the difference in price betw...            \n",
       "2       Why do stars in the night's sky seem to disapp...            \n",
       "3       We hear about these large billion dollar bank ...            \n",
       "4       Please consider I'm not a driver. Automatic se...            \n",
       "...                                                   ...      ...   \n",
       "272629                                          [removed]            \n",
       "272630                                                               \n",
       "272631  Cells tend to die after dividing for a certain...            \n",
       "272632  I don’t understand, honestly thought they just...            \n",
       "272633                                          [deleted]            \n",
       "\n",
       "                subreddit                                            answers  \\\n",
       "0       explainlikeimfive  [{'a_id': 'ccwtgnz', 'text': 'Keep the defense...   \n",
       "1       explainlikeimfive  [{'a_id': 'clwqgxl', 'text': 'As someone who u...   \n",
       "2       explainlikeimfive  [{'a_id': 'e1kpw6u', 'text': 'It's a quirk of ...   \n",
       "3       explainlikeimfive  [{'a_id': 'ceohakd', 'text': 'I'm pretty confi...   \n",
       "4       explainlikeimfive  [{'a_id': 'clcur3j', 'text': 'Automatics weigh...   \n",
       "...                   ...                                                ...   \n",
       "272629  explainlikeimfive  [{'a_id': 'evmzhep', 'text': 'Most likely that...   \n",
       "272630  explainlikeimfive  [{'a_id': 'evmvuxf', 'text': 'It's called Kine...   \n",
       "272631  explainlikeimfive  [{'a_id': 'evmx5tu', 'text': 'That gets a bit ...   \n",
       "272632  explainlikeimfive  [{'a_id': 'evn0fnd', 'text': 'Why are they imp...   \n",
       "272633  explainlikeimfive  [{'a_id': 'evn2hgj', 'text': 'It could be that...   \n",
       "\n",
       "         title_urls                                      selftext_urls  \\\n",
       "0       {'url': []}                                        {'url': []}   \n",
       "1       {'url': []}                                        {'url': []}   \n",
       "2       {'url': []}                                        {'url': []}   \n",
       "3       {'url': []}  {'url': ['http://dealbook.nytimes.com/2014/01/...   \n",
       "4       {'url': []}                                        {'url': []}   \n",
       "...             ...                                                ...   \n",
       "272629  {'url': []}                                        {'url': []}   \n",
       "272630  {'url': []}                                        {'url': []}   \n",
       "272631  {'url': []}                                        {'url': []}   \n",
       "272632  {'url': []}                                        {'url': []}   \n",
       "272633  {'url': []}                                        {'url': []}   \n",
       "\n",
       "                                             answers_urls  \n",
       "0                                             {'url': []}  \n",
       "1                                             {'url': []}  \n",
       "2                                             {'url': []}  \n",
       "3       {'url': ['http://www.reuters.com/article/2013/...  \n",
       "4                                             {'url': []}  \n",
       "...                                                   ...  \n",
       "272629                                        {'url': []}  \n",
       "272630                                        {'url': []}  \n",
       "272631                                        {'url': []}  \n",
       "272632                                        {'url': []}  \n",
       "272633                                        {'url': []}  \n",
       "\n",
       "[272634 rows x 9 columns]"
      ]
     },
     "execution_count": 36,
     "metadata": {},
     "output_type": "execute_result"
    }
   ],
   "source": [
    "df"
   ]
  },
  {
   "cell_type": "code",
   "execution_count": 37,
   "metadata": {},
   "outputs": [],
   "source": [
    "df = df.explode(\"answers\")"
   ]
  },
  {
   "cell_type": "code",
   "execution_count": 38,
   "metadata": {},
   "outputs": [],
   "source": [
    "def filter_func(answer):\n",
    "    if len(answer[\"text\"]) > 100 and answer[\"score\"] > 10:\n",
    "        return True\n",
    "    return False"
   ]
  },
  {
   "cell_type": "code",
   "execution_count": 39,
   "metadata": {},
   "outputs": [],
   "source": [
    "df = df[df[\"answers\"].apply(filter_func)]"
   ]
  },
  {
   "cell_type": "code",
   "execution_count": 40,
   "metadata": {},
   "outputs": [],
   "source": [
    "df[\"answers\"] = df[\"answers\"].apply(lambda x: x[\"text\"])"
   ]
  },
  {
   "cell_type": "code",
   "execution_count": 28,
   "metadata": {},
   "outputs": [],
   "source": [
    "df2 = pd.DataFrame"
   ]
  },
  {
   "cell_type": "code",
   "execution_count": 44,
   "metadata": {},
   "outputs": [],
   "source": [
    "def filter_func(x):\n",
    "    if len(x) == 0:\n",
    "        return True\n",
    "    return False\n",
    "df = df[df[\"selftext\"].apply(filter_func)]"
   ]
  },
  {
   "cell_type": "code",
   "execution_count": 46,
   "metadata": {},
   "outputs": [],
   "source": [
    "df.to_csv(\"raw_data.csv\")"
   ]
  },
  {
   "cell_type": "code",
   "execution_count": null,
   "metadata": {},
   "outputs": [],
   "source": []
  }
 ],
 "metadata": {
  "kernelspec": {
   "display_name": "Python 3",
   "language": "python",
   "name": "python3"
  },
  "language_info": {
   "codemirror_mode": {
    "name": "ipython",
    "version": 3
   },
   "file_extension": ".py",
   "mimetype": "text/x-python",
   "name": "python",
   "nbconvert_exporter": "python",
   "pygments_lexer": "ipython3",
   "version": "3.8.5"
  }
 },
 "nbformat": 4,
 "nbformat_minor": 4
}
