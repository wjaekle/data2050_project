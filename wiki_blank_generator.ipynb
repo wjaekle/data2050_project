{
 "cells": [
  {
   "cell_type": "code",
   "execution_count": 13,
   "id": "ab5c307c-14a2-49e3-af3d-0c1a6962489f",
   "metadata": {},
   "outputs": [],
   "source": [
    "import requests"
   ]
  },
  {
   "cell_type": "code",
   "execution_count": 22,
   "id": "b6cc077c-d1ca-4569-be5a-33efebe678fa",
   "metadata": {},
   "outputs": [
    {
     "data": {
      "text/plain": [
       "{'type': 'standard',\n",
       " 'title': 'Belvidere (Goochland County, Virginia)',\n",
       " 'displaytitle': '<span class=\"mw-page-title-main\">Belvidere (Goochland County, Virginia)</span>',\n",
       " 'namespace': {'id': 0, 'text': ''},\n",
       " 'wikibase_item': 'Q48790313',\n",
       " 'titles': {'canonical': 'Belvidere_(Goochland_County,_Virginia)',\n",
       "  'normalized': 'Belvidere (Goochland County, Virginia)',\n",
       "  'display': '<span class=\"mw-page-title-main\">Belvidere (Goochland County, Virginia)</span>'},\n",
       " 'pageid': 55516786,\n",
       " 'thumbnail': {'source': 'https://upload.wikimedia.org/wikipedia/commons/thumb/e/e9/Belvidere_driveway%2C_Goochland_County.jpg/320px-Belvidere_driveway%2C_Goochland_County.jpg',\n",
       "  'width': 320,\n",
       "  'height': 213},\n",
       " 'originalimage': {'source': 'https://upload.wikimedia.org/wikipedia/commons/e/e9/Belvidere_driveway%2C_Goochland_County.jpg',\n",
       "  'width': 6016,\n",
       "  'height': 4000},\n",
       " 'lang': 'en',\n",
       " 'dir': 'ltr',\n",
       " 'revision': '1090191632',\n",
       " 'tid': '9543fae0-37fc-11ed-b6ba-6ba119fa9583',\n",
       " 'timestamp': '2022-05-28T01:01:35Z',\n",
       " 'description': 'Historic house in Virginia, United States',\n",
       " 'description_source': 'local',\n",
       " 'coordinates': {'lat': 37.81416667, 'lon': -78.00555556},\n",
       " 'content_urls': {'desktop': {'page': 'https://en.wikipedia.org/wiki/Belvidere_(Goochland_County%2C_Virginia)',\n",
       "   'revisions': 'https://en.wikipedia.org/wiki/Belvidere_(Goochland_County%2C_Virginia)?action=history',\n",
       "   'edit': 'https://en.wikipedia.org/wiki/Belvidere_(Goochland_County%2C_Virginia)?action=edit',\n",
       "   'talk': 'https://en.wikipedia.org/wiki/Talk:Belvidere_(Goochland_County%2C_Virginia)'},\n",
       "  'mobile': {'page': 'https://en.m.wikipedia.org/wiki/Belvidere_(Goochland_County%2C_Virginia)',\n",
       "   'revisions': 'https://en.m.wikipedia.org/wiki/Special:History/Belvidere_(Goochland_County%2C_Virginia)',\n",
       "   'edit': 'https://en.m.wikipedia.org/wiki/Belvidere_(Goochland_County%2C_Virginia)?action=edit',\n",
       "   'talk': 'https://en.m.wikipedia.org/wiki/Talk:Belvidere_(Goochland_County%2C_Virginia)'}},\n",
       " 'extract': 'Belvidere is a historic farm property at 4024 Pace Road in rural Goochland County, Virginia, south of the hamlet of Hadensville. The property consists of 127 acres (51\\xa0ha) that are now mainly woodland, with a cleared area near its center with some fields and the farm complex. The centerpiece of the farm complex is a two-story wood-frame house, whose oldest portion probably dates to the late 18th century. It was enlarged by a two-story addition in 1821–22, and underwent further alterations in the 19th century before undergoing restoration beginning in 1979. It is a rare surviving example of 18th-century architecture in the county.',\n",
       " 'extract_html': '<p><b>Belvidere</b> is a historic farm property at 4024 Pace Road in rural Goochland County, Virginia, south of the hamlet of Hadensville. The property consists of 127 acres (51\\xa0ha) that are now mainly woodland, with a cleared area near its center with some fields and the farm complex. The centerpiece of the farm complex is a two-story wood-frame house, whose oldest portion probably dates to the late 18th century. It was enlarged by a two-story addition in 1821–22, and underwent further alterations in the 19th century before undergoing restoration beginning in 1979. It is a rare surviving example of 18th-century architecture in the county.</p>'}"
      ]
     },
     "execution_count": 22,
     "metadata": {},
     "output_type": "execute_result"
    }
   ],
   "source": [
    "r = \"https://en.wikipedia.org/api/rest_v1/page/random/summary\"\n",
    "r = requests.get(r).json()\n",
    "r.json()"
   ]
  },
  {
   "cell_type": "code",
   "execution_count": null,
   "id": "b0ac693f-e80e-4eee-8860-9340db3c70fe",
   "metadata": {},
   "outputs": [],
   "source": [
    "\"https://en.wikipedia.org/wiki/Special:Random\""
   ]
  },
  {
   "cell_type": "code",
   "execution_count": 23,
   "id": "bba4e2c1-9aca-4142-a25e-df0db21c8c01",
   "metadata": {},
   "outputs": [],
   "source": [
    "import time"
   ]
  },
  {
   "cell_type": "code",
   "execution_count": 38,
   "id": "767a3ca2-3c01-4606-b361-ecd1d0ec540d",
   "metadata": {},
   "outputs": [],
   "source": [
    "link = \"https://en.wikipedia.org/api/rest_v1/page/random/summary\"\n",
    "extracts = []\n",
    "titles = []\n",
    "descs = []\n",
    "for i in range(1000):\n",
    "    \n",
    "    time.sleep(.25)\n",
    "    try:\n",
    "        r = requests.get(link).json()\n",
    "        e = r[\"extract\"]\n",
    "        t = r[\"title\"]\n",
    "        d = r[\"description\"]\n",
    "        extracts.append(e)\n",
    "        titles.append(t)\n",
    "        descs.append(d)\n",
    "    except:\n",
    "        continue"
   ]
  },
  {
   "cell_type": "code",
   "execution_count": 39,
   "id": "f960eb6c-c410-4456-abfc-138cba603c4c",
   "metadata": {},
   "outputs": [
    {
     "data": {
      "text/plain": [
       "989"
      ]
     },
     "execution_count": 39,
     "metadata": {},
     "output_type": "execute_result"
    }
   ],
   "source": [
    "len(extracts)"
   ]
  },
  {
   "cell_type": "code",
   "execution_count": 10,
   "id": "3520e105-c1c5-4cd9-8987-e001de862bed",
   "metadata": {},
   "outputs": [],
   "source": [
    "s = \"test string (born 1998)\"\n",
    "s1 = \"nothing\""
   ]
  },
  {
   "cell_type": "code",
   "execution_count": 4,
   "id": "eeeb0fe1-1a23-41c5-8367-7f5ca0271ead",
   "metadata": {},
   "outputs": [],
   "source": [
    "pattern = re.compile(r'(born \\d+)')"
   ]
  },
  {
   "cell_type": "code",
   "execution_count": 11,
   "id": "ccff9f8c-a8d9-4511-933e-2724dc4d3008",
   "metadata": {},
   "outputs": [],
   "source": [
    "if pattern.search(s1):\n",
    "    print(\"hi\")"
   ]
  },
  {
   "cell_type": "code",
   "execution_count": 24,
   "id": "a4032687-b324-4acd-9ca4-a57327564455",
   "metadata": {},
   "outputs": [],
   "source": [
    "link = \"https://en.wikipedia.org/api/rest_v1/page/random/summary\"\n",
    "r = requests.get(link).json()"
   ]
  },
  {
   "cell_type": "code",
   "execution_count": 27,
   "id": "b9d15970-67e5-4372-910f-c027e33355ec",
   "metadata": {},
   "outputs": [
    {
     "data": {
      "text/plain": [
       "{'type': 'standard',\n",
       " 'title': 'Lever',\n",
       " 'displaytitle': '<span class=\"mw-page-title-main\">Lever</span>',\n",
       " 'namespace': {'id': 0, 'text': ''},\n",
       " 'wikibase_item': 'Q40164',\n",
       " 'titles': {'canonical': 'Lever',\n",
       "  'normalized': 'Lever',\n",
       "  'display': '<span class=\"mw-page-title-main\">Lever</span>'},\n",
       " 'pageid': 38857,\n",
       " 'thumbnail': {'source': 'https://upload.wikimedia.org/wikipedia/commons/thumb/f/f2/Palanca-ejemplo.jpg/320px-Palanca-ejemplo.jpg',\n",
       "  'width': 320,\n",
       "  'height': 143},\n",
       " 'originalimage': {'source': 'https://upload.wikimedia.org/wikipedia/commons/f/f2/Palanca-ejemplo.jpg',\n",
       "  'width': 888,\n",
       "  'height': 398},\n",
       " 'lang': 'en',\n",
       " 'dir': 'ltr',\n",
       " 'revision': '1098624450',\n",
       " 'tid': 'bdd22a40-4701-11ed-bd10-7751d778d750',\n",
       " 'timestamp': '2022-07-16T18:42:08Z',\n",
       " 'description': 'Simple machine consisting of a beam pivoted at a fixed hinge',\n",
       " 'description_source': 'local',\n",
       " 'content_urls': {'desktop': {'page': 'https://en.wikipedia.org/wiki/Lever',\n",
       "   'revisions': 'https://en.wikipedia.org/wiki/Lever?action=history',\n",
       "   'edit': 'https://en.wikipedia.org/wiki/Lever?action=edit',\n",
       "   'talk': 'https://en.wikipedia.org/wiki/Talk:Lever'},\n",
       "  'mobile': {'page': 'https://en.m.wikipedia.org/wiki/Lever',\n",
       "   'revisions': 'https://en.m.wikipedia.org/wiki/Special:History/Lever',\n",
       "   'edit': 'https://en.m.wikipedia.org/wiki/Lever?action=edit',\n",
       "   'talk': 'https://en.m.wikipedia.org/wiki/Talk:Lever'}},\n",
       " 'extract': 'A lever is a simple machine consisting of a beam or rigid rod pivoted at a fixed hinge, or fulcrum. A lever is a rigid body capable of rotating on a point on itself. On the basis of the locations of fulcrum, load and effort, the lever is divided into three types. Also, leverage is mechanical advantage gained in a system. It is one of the six simple machines identified by Renaissance scientists. A lever amplifies an input force to provide a greater output force, which is said to provide leverage. The ratio of the output force to the input force is the mechanical advantage of the lever. As such, the lever is a mechanical advantage device, trading off force against movement.',\n",
       " 'extract_html': '<p>A <b>lever</b> is a simple machine consisting of a beam or rigid rod pivoted at a fixed hinge, or <i><span class=\"extiw\">fulcrum</span></i>. A lever is a rigid body capable of rotating on a point on itself. On the basis of the locations of fulcrum, load and effort, the lever is divided into three types. Also, leverage is mechanical advantage gained in a system. It is one of the six simple machines identified by Renaissance scientists. A lever amplifies an input force to provide a greater output force, which is said to provide <b>leverage</b>. The ratio of the output force to the input force is the mechanical advantage of the lever. As such, the lever is a mechanical advantage device, trading off force against movement.</p>'}"
      ]
     },
     "execution_count": 27,
     "metadata": {},
     "output_type": "execute_result"
    }
   ],
   "source": [
    "r"
   ]
  },
  {
   "cell_type": "code",
   "execution_count": 29,
   "id": "50a2b450-0ec9-4b7d-b641-1eb4bf2ed8d5",
   "metadata": {},
   "outputs": [
    {
     "data": {
      "text/plain": [
       "'Lever'"
      ]
     },
     "execution_count": 29,
     "metadata": {},
     "output_type": "execute_result"
    }
   ],
   "source": [
    "r[\"title\"]"
   ]
  },
  {
   "cell_type": "code",
   "execution_count": 30,
   "id": "da792527-b7bb-44df-9d16-840cadb3342b",
   "metadata": {},
   "outputs": [
    {
     "data": {
      "text/plain": [
       "'Simple machine consisting of a beam pivoted at a fixed hinge'"
      ]
     },
     "execution_count": 30,
     "metadata": {},
     "output_type": "execute_result"
    }
   ],
   "source": [
    "r[\"description\"]"
   ]
  },
  {
   "cell_type": "code",
   "execution_count": 31,
   "id": "9f430441-dc2e-4d4e-b56f-ffe4b9139292",
   "metadata": {},
   "outputs": [
    {
     "data": {
      "text/plain": [
       "'A lever is a simple machine consisting of a beam or rigid rod pivoted at a fixed hinge, or fulcrum. A lever is a rigid body capable of rotating on a point on itself. On the basis of the locations of fulcrum, load and effort, the lever is divided into three types. Also, leverage is mechanical advantage gained in a system. It is one of the six simple machines identified by Renaissance scientists. A lever amplifies an input force to provide a greater output force, which is said to provide leverage. The ratio of the output force to the input force is the mechanical advantage of the lever. As such, the lever is a mechanical advantage device, trading off force against movement.'"
      ]
     },
     "execution_count": 31,
     "metadata": {},
     "output_type": "execute_result"
    }
   ],
   "source": [
    "r[\"extract\"]"
   ]
  },
  {
   "cell_type": "code",
   "execution_count": 40,
   "id": "f68630ff-2746-4ad9-a78b-a1d0c66b1da3",
   "metadata": {},
   "outputs": [],
   "source": [
    "import pandas as pd"
   ]
  },
  {
   "cell_type": "code",
   "execution_count": 41,
   "id": "ab678e46-3e27-4d51-9eed-f0b88c1c5ca9",
   "metadata": {},
   "outputs": [],
   "source": [
    "df = pd.DataFrame(list(zip(titles,descs,extracts)), columns = [\"titles\",\"descriptions\",\"extracts\"])"
   ]
  },
  {
   "cell_type": "code",
   "execution_count": 42,
   "id": "88b36d23-c284-4e4c-bfad-ccbba0bcbd69",
   "metadata": {},
   "outputs": [
    {
     "data": {
      "text/html": [
       "<div>\n",
       "<style scoped>\n",
       "    .dataframe tbody tr th:only-of-type {\n",
       "        vertical-align: middle;\n",
       "    }\n",
       "\n",
       "    .dataframe tbody tr th {\n",
       "        vertical-align: top;\n",
       "    }\n",
       "\n",
       "    .dataframe thead th {\n",
       "        text-align: right;\n",
       "    }\n",
       "</style>\n",
       "<table border=\"1\" class=\"dataframe\">\n",
       "  <thead>\n",
       "    <tr style=\"text-align: right;\">\n",
       "      <th></th>\n",
       "      <th>titles</th>\n",
       "      <th>descriptions</th>\n",
       "      <th>extracts</th>\n",
       "    </tr>\n",
       "  </thead>\n",
       "  <tbody>\n",
       "    <tr>\n",
       "      <th>0</th>\n",
       "      <td>Holmfirth railway station</td>\n",
       "      <td>Disused railway station in West Yorkshire, Eng...</td>\n",
       "      <td>Holmfirth railway station is a former railway ...</td>\n",
       "    </tr>\n",
       "    <tr>\n",
       "      <th>1</th>\n",
       "      <td>Jason's Lyric</td>\n",
       "      <td>1994 film directed by Doug McHenry</td>\n",
       "      <td>Jason's Lyric is a 1994 American erotic romant...</td>\n",
       "    </tr>\n",
       "    <tr>\n",
       "      <th>2</th>\n",
       "      <td>I-35W Mississippi River bridge</td>\n",
       "      <td>Bridge in Minneapolis, Minn., US, that collaps...</td>\n",
       "      <td>The I-35W Mississippi River bridge was an eigh...</td>\n",
       "    </tr>\n",
       "    <tr>\n",
       "      <th>3</th>\n",
       "      <td>The Greatest Hits Collection (Michelle Wright ...</td>\n",
       "      <td>1999 greatest hits album by Michelle Wright</td>\n",
       "      <td>The Greatest Hits Collection is the first grea...</td>\n",
       "    </tr>\n",
       "    <tr>\n",
       "      <th>4</th>\n",
       "      <td>Henan Jiangbei province</td>\n",
       "      <td>Province of the Yuan dynasty</td>\n",
       "      <td>Henan Jiangbei province (河南江北行省), also referre...</td>\n",
       "    </tr>\n",
       "    <tr>\n",
       "      <th>...</th>\n",
       "      <td>...</td>\n",
       "      <td>...</td>\n",
       "      <td>...</td>\n",
       "    </tr>\n",
       "    <tr>\n",
       "      <th>984</th>\n",
       "      <td>A.S.D. S.F. Gladiator 1912</td>\n",
       "      <td>Italian football club</td>\n",
       "      <td>Associazione Sportiva Dilettantistica San Feli...</td>\n",
       "    </tr>\n",
       "    <tr>\n",
       "      <th>985</th>\n",
       "      <td>Für einen Tag</td>\n",
       "      <td>2011 studio album by Helene Fischer</td>\n",
       "      <td>Für einen Tag is the fifth studio album by Ger...</td>\n",
       "    </tr>\n",
       "    <tr>\n",
       "      <th>986</th>\n",
       "      <td>In the Arms of Love (album)</td>\n",
       "      <td>1966 studio album by Andy Williams</td>\n",
       "      <td>In the Arms of Love is the nineteenth studio a...</td>\n",
       "    </tr>\n",
       "    <tr>\n",
       "      <th>987</th>\n",
       "      <td>Elina Reinold</td>\n",
       "      <td>Estonian actress</td>\n",
       "      <td>Elina Reinold is an Estonian actress.</td>\n",
       "    </tr>\n",
       "    <tr>\n",
       "      <th>988</th>\n",
       "      <td>Bobby Schmautz</td>\n",
       "      <td>Canadian ice hockey player (1945–2021)</td>\n",
       "      <td>Robert James Schmautz was a Canadian professio...</td>\n",
       "    </tr>\n",
       "  </tbody>\n",
       "</table>\n",
       "<p>989 rows × 3 columns</p>\n",
       "</div>"
      ],
      "text/plain": [
       "                                                titles  \\\n",
       "0                            Holmfirth railway station   \n",
       "1                                        Jason's Lyric   \n",
       "2                       I-35W Mississippi River bridge   \n",
       "3    The Greatest Hits Collection (Michelle Wright ...   \n",
       "4                              Henan Jiangbei province   \n",
       "..                                                 ...   \n",
       "984                         A.S.D. S.F. Gladiator 1912   \n",
       "985                                      Für einen Tag   \n",
       "986                        In the Arms of Love (album)   \n",
       "987                                      Elina Reinold   \n",
       "988                                     Bobby Schmautz   \n",
       "\n",
       "                                          descriptions  \\\n",
       "0    Disused railway station in West Yorkshire, Eng...   \n",
       "1                   1994 film directed by Doug McHenry   \n",
       "2    Bridge in Minneapolis, Minn., US, that collaps...   \n",
       "3          1999 greatest hits album by Michelle Wright   \n",
       "4                         Province of the Yuan dynasty   \n",
       "..                                                 ...   \n",
       "984                              Italian football club   \n",
       "985                2011 studio album by Helene Fischer   \n",
       "986                 1966 studio album by Andy Williams   \n",
       "987                                   Estonian actress   \n",
       "988             Canadian ice hockey player (1945–2021)   \n",
       "\n",
       "                                              extracts  \n",
       "0    Holmfirth railway station is a former railway ...  \n",
       "1    Jason's Lyric is a 1994 American erotic romant...  \n",
       "2    The I-35W Mississippi River bridge was an eigh...  \n",
       "3    The Greatest Hits Collection is the first grea...  \n",
       "4    Henan Jiangbei province (河南江北行省), also referre...  \n",
       "..                                                 ...  \n",
       "984  Associazione Sportiva Dilettantistica San Feli...  \n",
       "985  Für einen Tag is the fifth studio album by Ger...  \n",
       "986  In the Arms of Love is the nineteenth studio a...  \n",
       "987              Elina Reinold is an Estonian actress.  \n",
       "988  Robert James Schmautz was a Canadian professio...  \n",
       "\n",
       "[989 rows x 3 columns]"
      ]
     },
     "execution_count": 42,
     "metadata": {},
     "output_type": "execute_result"
    }
   ],
   "source": [
    "df"
   ]
  },
  {
   "cell_type": "code",
   "execution_count": 43,
   "id": "1996ca1a-31bf-4b59-b719-31b9b961c45a",
   "metadata": {},
   "outputs": [],
   "source": [
    "df.to_excel(\"unlabelled_datasets/wikis.xlsx\")"
   ]
  },
  {
   "cell_type": "code",
   "execution_count": null,
   "id": "762f2a67-a47c-4a0f-a351-0bbf73741a0f",
   "metadata": {},
   "outputs": [],
   "source": []
  }
 ],
 "metadata": {
  "kernelspec": {
   "display_name": "Python 3 (ipykernel)",
   "language": "python",
   "name": "python3"
  },
  "language_info": {
   "codemirror_mode": {
    "name": "ipython",
    "version": 3
   },
   "file_extension": ".py",
   "mimetype": "text/x-python",
   "name": "python",
   "nbconvert_exporter": "python",
   "pygments_lexer": "ipython3",
   "version": "3.9.10"
  }
 },
 "nbformat": 4,
 "nbformat_minor": 5
}
